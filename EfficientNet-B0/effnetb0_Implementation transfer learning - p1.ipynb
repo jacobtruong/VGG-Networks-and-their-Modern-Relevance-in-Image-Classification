{
 "cells": [
  {
   "cell_type": "code",
   "execution_count": 26,
   "metadata": {},
   "outputs": [
    {
     "name": "stdout",
     "output_type": "stream",
     "text": [
      "CUDA is available!  Training on GPU ...\n"
     ]
    }
   ],
   "source": [
    "import os\n",
    "import requests\n",
    "import tarfile\n",
    "import time\n",
    "\n",
    "from torchvision import datasets, transforms\n",
    "from torchvision.transforms import v2\n",
    "from torch.utils.data import DataLoader, random_split, Dataset, Subset\n",
    "import torchvision.models as models\n",
    "import torch.nn as nn\n",
    "import torch\n",
    "from torch import optim\n",
    "from torchsummary import summary\n",
    "\n",
    "import PIL.Image\n",
    "import pathlib\n",
    "\n",
    "import matplotlib.pyplot as plt\n",
    "%matplotlib inline\n",
    "import numpy as np\n",
    "from copy import deepcopy\n",
    "from PIL import Image\n",
    "from tqdm import tqdm\n",
    "from sklearn.model_selection import train_test_split\n",
    "import timm\n",
    "import uuid\n",
    "import pickle\n",
    "\n",
    "# check if CUDA is available\n",
    "train_on_gpu = torch.cuda.is_available()\n",
    "\n",
    "if not train_on_gpu:\n",
    "    print('CUDA is not available.  Training on CPU ...')\n",
    "else:\n",
    "    print('CUDA is available!  Training on GPU ...')\n",
    "\n",
    "device = torch.device(\"cuda\" if torch.cuda.is_available() else \"cpu\")"
   ]
  },
  {
   "cell_type": "markdown",
   "metadata": {},
   "source": [
    "### Dataloading"
   ]
  },
  {
   "cell_type": "code",
   "execution_count": 27,
   "metadata": {},
   "outputs": [],
   "source": [
    "transform = transforms.Compose([transforms.Resize((224,224)),\n",
    "                                transforms.RandomHorizontalFlip(),\n",
    "                                transforms.RandomRotation(10),\n",
    "                                transforms.RandomAffine(0, shear=5, scale=(0.8,1.2)), \n",
    "                              #   transforms.RandomGrayscale(p=0.1), \n",
    "                                transforms.ColorJitter(brightness=0.2, contrast=0.2, saturation=0.2), \n",
    "                                transforms.ToTensor(), \n",
    "                                transforms.Normalize((0.5, 0.5, 0.5), (0.5, 0.5, 0.5))\n",
    "                                      ])\n",
    "\n",
    "val_transform = transforms.Compose([transforms.Resize((224,224)),\n",
    "                                        transforms.ToTensor(),\n",
    "                                        transforms.Normalize((0.5, 0.5, 0.5), (0.5, 0.5, 0.5)),\n",
    "                                        ])"
   ]
  },
  {
   "cell_type": "code",
   "execution_count": 28,
   "metadata": {},
   "outputs": [],
   "source": [
    "class TransformedDataset(Dataset):\n",
    "    def __init__(self, dataset: Dataset, transform: transforms.Compose):\n",
    "        self.dataset = dataset\n",
    "        self.transform = transform\n",
    "    \n",
    "    def __len__(self):\n",
    "        return len(self.dataset)\n",
    "    \n",
    "    def __getitem__(self, index):\n",
    "        img, label = self.dataset[index]\n",
    "\n",
    "        if self.transform:\n",
    "            img = self.transform(img)\n",
    "        \n",
    "        return img, label\n",
    "\n",
    "def stratified_split(dataset, val_split=0.):\n",
    "    targets = np.array(dataset.targets)\n",
    "\n",
    "    train_indices, val_indices = train_test_split(\n",
    "        np.arange(targets.shape[0]),\n",
    "        test_size=val_split,\n",
    "        stratify=targets\n",
    "    )\n",
    "\n",
    "    # train_dataset = Subset(dataset, indices=train_indices)\n",
    "    # val_dataset = Subset(dataset, indices=val_indices)\n",
    "    # return train_dataset, val_dataset\n",
    "\n",
    "    return train_indices, val_indices"
   ]
  },
  {
   "cell_type": "code",
   "execution_count": 29,
   "metadata": {},
   "outputs": [],
   "source": [
    "# Load the dataset separately for training and validation\n",
    "dataset = datasets.ImageFolder(root = \"./final_data\")\n",
    "\n",
    "# train_indices, val_indices = stratified_split(dataset, val_split=0.2)\n",
    "\n",
    "# Loading the indices from the saved pickle file to ensure the same split is used across different models\n",
    "with open('train_indices.pkl', 'rb') as f:\n",
    "    train_indices = pickle.load(f)\n",
    "\n",
    "with open('val_indices.pkl', 'rb') as f:\n",
    "    val_indices = pickle.load(f)\n",
    "\n",
    "# Split the dataset into training and validation\n",
    "train_dataset = Subset(dataset, train_indices)\n",
    "val_dataset = Subset(dataset, val_indices)\n",
    "\n",
    "transformed_train = TransformedDataset(train_dataset, transform)\n",
    "transformed_val = TransformedDataset(val_dataset, val_transform)"
   ]
  },
  {
   "cell_type": "code",
   "execution_count": 30,
   "metadata": {},
   "outputs": [],
   "source": [
    "# train_loader = DataLoader(transformed_train, batch_size=32, shuffle=True, num_workers=2, pin_memory=True, prefetch_factor=2)\n",
    "train_loader = DataLoader(transformed_train, batch_size=32, shuffle=True)\n",
    "val_loader = DataLoader(transformed_val, batch_size=32, shuffle=False)"
   ]
  },
  {
   "cell_type": "code",
   "execution_count": 31,
   "metadata": {},
   "outputs": [],
   "source": [
    "# # Store all datapoints from transformed_train\n",
    "# train_images = []\n",
    "# train_labels = []\n",
    "# for i in range(len(transformed_train)):\n",
    "#     img, label = transformed_train[i]\n",
    "#     train_images.append(img)\n",
    "#     train_labels.append(label)\n",
    "\n",
    "# # Store all datapoints from transformed_val\n",
    "# val_images = []\n",
    "# val_labels = []\n",
    "# for i in range(len(transformed_val)):\n",
    "#     img, label = transformed_val[i]\n",
    "#     val_images.append(img)\n",
    "#     val_labels.append(label)\n",
    "\n",
    "# train_full = (torch.stack(train_images).to(device), torch.tensor(train_labels).to(device))\n",
    "# val_full = (torch.stack(val_images).to(device), torch.tensor(val_labels).to(device))"
   ]
  },
  {
   "cell_type": "markdown",
   "metadata": {},
   "source": [
    "### Model Instantiation"
   ]
  },
  {
   "cell_type": "code",
   "execution_count": 32,
   "metadata": {},
   "outputs": [],
   "source": [
    "# Define the Vision Transformer model\n",
    "class CustomEfficientNetB0Model(nn.Module):\n",
    "    def __init__(self, num_classes):\n",
    "        super(CustomEfficientNetB0Model, self).__init__()\n",
    "        # Load the pre-trained ViT model\n",
    "        self.effnet = timm.create_model('timm/efficientnet_b0.ra4_e3600_r224_in1k', pretrained=True)\n",
    "        data_config = timm.data.resolve_model_data_config(self.effnet)\n",
    "        self.transforms_train = timm.data.create_transform(**data_config, is_training=True)\n",
    "        self.transforms_val = timm.data.create_transform(**data_config, is_training=False)\n",
    "        \n",
    "        # Freeze the base model\n",
    "        for param in self.effnet.parameters():\n",
    "            param.requires_grad = False\n",
    "\n",
    "        # Replace the classifier head\n",
    "        self.effnet.classifier = nn.Linear(self.effnet.classifier.in_features, num_classes)\n",
    "\n",
    "    def forward(self, x):\n",
    "        return self.effnet(x)\n",
    "\n",
    "# Instantiate the model\n",
    "num_classes = len(dataset.classes)  # Adjust according to your specific number of classes\n",
    "model = CustomEfficientNetB0Model(num_classes=num_classes)\n",
    "model.to(device)\n",
    "\n",
    "model_paradigm = 'EfficientNet_B0'"
   ]
  },
  {
   "cell_type": "markdown",
   "metadata": {},
   "source": [
    "### Training Setup - Model Evaluation"
   ]
  },
  {
   "cell_type": "code",
   "execution_count": 33,
   "metadata": {},
   "outputs": [],
   "source": [
    "def top_k_accuracy(output, target, k=5):\n",
    "    batch_size = target.size(0)\n",
    "    _, pred = output.topk(k, 1, True, True)  # Get top-k predictions\n",
    "    pred = pred.t()  # Transpose predictions for comparison\n",
    "    correct = pred.eq(target.reshape(1, -1).expand_as(pred))  # Compare predictions with target\n",
    "    correct_k = correct[:k].reshape(-1).float().sum(0, keepdim = True)  # Calculate correct top-k\n",
    "    return correct_k.mul_(1.0 / batch_size).detach()  # Calculate top-k accuracy\n",
    "\n",
    "def evaluate(model, loss_fn, data_loader):\n",
    "    model.eval()\n",
    "\n",
    "    loss = 0\n",
    "    correct = 0\n",
    "    total = 0\n",
    "    top_1_accuracy = 0\n",
    "    top_5_accuracy = 0\n",
    "\n",
    "    progress_bar = tqdm(data_loader, desc = \"Validating\")\n",
    "\n",
    "    with torch.no_grad():\n",
    "        for batchX, batchY in progress_bar:\n",
    "            batchX, batchY = batchX.to(device), batchY.to(device)\n",
    "\n",
    "            output = model(batchX)\n",
    "            predicted_labels = torch.argmax(output, dim = 1)\n",
    "\n",
    "            loss += loss_fn(output, batchY).detach() * batchX.size(0)\n",
    "            correct += (predicted_labels == batchY.type(torch.long)).sum().detach()\n",
    "            total += batchX.size(0)\n",
    "            top_1_accuracy += top_k_accuracy(output, batchY, k=1) * batchX.size(0)\n",
    "            top_5_accuracy += top_k_accuracy(output, batchY, k=5) * batchX.size(0)\n",
    "    \n",
    "    return loss.item() / total, correct.item() / total, top_1_accuracy.item() / total, top_5_accuracy.item() / total\n",
    "\n",
    "def evaluate_all(model, loss_fn, allX, allY):\n",
    "    model.eval()\n",
    "\n",
    "    loss = 0\n",
    "    correct = 0\n",
    "    top_1_accuracy = 0\n",
    "    top_5_accuracy = 0\n",
    "\n",
    "    allX, allY = allX.to(device), allY.to(device)\n",
    "\n",
    "    with torch.no_grad():\n",
    "        output = model(allX)\n",
    "        predicted_labels = torch.argmax(output, dim = 1)\n",
    "\n",
    "        loss += loss_fn(output, allY.type(torch.long)).detach()\n",
    "        correct += (predicted_labels == allY.type(torch.long)).sum().detach()\n",
    "        top_1_accuracy += top_k_accuracy(output, allY, k=1)\n",
    "        top_5_accuracy += top_k_accuracy(output, allY, k=5)\n",
    "    \n",
    "    return loss.item(), correct.item() / allX.size(0), top_1_accuracy.item(), top_5_accuracy.item()"
   ]
  },
  {
   "cell_type": "code",
   "execution_count": 34,
   "metadata": {},
   "outputs": [],
   "source": [
    "def plot_model_history(his):\n",
    "    fig = plt.figure(figsize=(8, 5))\n",
    "    ax = fig.add_subplot(111)\n",
    "    ln1 = ax.plot(his['train_loss'], 'b--',label='loss')\n",
    "    ln2 = ax.plot(his['val_loss'], 'b-',label='val_loss')\n",
    "    ax.set_ylabel('loss', color='blue')\n",
    "    ax.tick_params(axis='y', colors=\"blue\")\n",
    "\n",
    "    ax2 = ax.twinx()\n",
    "    ln3 = ax2.plot(his['train_acc'], 'r--',label='accuracy')\n",
    "    ln4 = ax2.plot(his['val_acc'], 'r-',label='val_accuracy')\n",
    "    ax2.set_ylabel('accuracy', color='red')\n",
    "    ax2.tick_params(axis='y', colors=\"red\")\n",
    "\n",
    "    lns = ln1 + ln2 + ln3 + ln4\n",
    "    labels = [l.get_label() for l in lns]\n",
    "    ax.legend(lns, labels, loc=7)\n",
    "    plt.grid(True)\n",
    "    plt.show()"
   ]
  },
  {
   "cell_type": "code",
   "execution_count": 35,
   "metadata": {},
   "outputs": [],
   "source": [
    "optim_dict = {\"Adam\":optim.Adam, \"Adadelta\":optim.Adadelta, \"Adagrad\":optim.Adagrad,\n",
    "              \"Adamax\":optim.Adamax, \"AdamW\": optim.AdamW, \"ASGD\":optim.ASGD,\n",
    "              \"NAdam\":optim.NAdam, \"RMSprop\":optim.RMSprop, \"RAdam\":optim.RAdam,\n",
    "              \"Rprop\": optim.Rprop, \"SGD\":optim.SGD}\n",
    "\n",
    "\n",
    "# Loss and optimiser\n",
    "# NOTE: Please note that different learning_rates were used for different models at different stages of experimentation.\n",
    "# learning_rate = 0.0001\n",
    "learning_rate = 0.0001\n",
    "loss_fn = nn.CrossEntropyLoss()\n",
    "optimiser = optim_dict[\"Adam\"](model.parameters(), lr=learning_rate)\n",
    "num_epochs = 100"
   ]
  },
  {
   "cell_type": "code",
   "execution_count": 36,
   "metadata": {},
   "outputs": [],
   "source": [
    "history = {\n",
    "    'train_loss': [],\n",
    "    'val_loss': [],\n",
    "    'train_acc': [],\n",
    "    'val_acc': []\n",
    "}"
   ]
  },
  {
   "cell_type": "code",
   "execution_count": 37,
   "metadata": {},
   "outputs": [
    {
     "name": "stderr",
     "output_type": "stream",
     "text": [
      "Epoch 1:  68%|██████▊   | 98/144 [00:11<00:05,  8.33it/s]c:\\Users\\Raven\\anaconda3\\Lib\\site-packages\\PIL\\Image.py:1000: UserWarning: Palette images with Transparency expressed in bytes should be converted to RGBA images\n",
      "  warnings.warn(\n",
      "Epoch 1: 100%|██████████| 144/144 [00:16<00:00,  8.87it/s]\n",
      "Validating: 100%|██████████| 36/36 [00:02<00:00, 15.25it/s]\n"
     ]
    },
    {
     "name": "stdout",
     "output_type": "stream",
     "text": [
      "Loss: 1.9789 - Accuracy: 28.2358% - Val Loss: 141843.3530 - Val Accuracy: 39.6522% - Top 1 Accuracy: 0.39652173913043476 - Top 5 Accuracy: 0.8747826086956522\n"
     ]
    },
    {
     "name": "stderr",
     "output_type": "stream",
     "text": [
      "Epoch 2: 100%|██████████| 144/144 [00:15<00:00,  9.31it/s]\n",
      "Validating: 100%|██████████| 36/36 [00:02<00:00, 15.56it/s]\n"
     ]
    },
    {
     "name": "stdout",
     "output_type": "stream",
     "text": [
      "Loss: 1.7916 - Accuracy: 47.4657% - Val Loss: 383.3775 - Val Accuracy: 51.3043% - Top 1 Accuracy: 0.5130434782608696 - Top 5 Accuracy: 0.9165217391304348\n"
     ]
    },
    {
     "name": "stderr",
     "output_type": "stream",
     "text": [
      "Epoch 3: 100%|██████████| 144/144 [00:15<00:00,  9.42it/s]\n",
      "Validating: 100%|██████████| 36/36 [00:02<00:00, 15.67it/s]\n"
     ]
    },
    {
     "name": "stdout",
     "output_type": "stream",
     "text": [
      "Loss: 1.6470 - Accuracy: 54.6226% - Val Loss: 249.0831 - Val Accuracy: 57.0435% - Top 1 Accuracy: 0.5704347826086956 - Top 5 Accuracy: 0.9365217391304348\n"
     ]
    },
    {
     "name": "stderr",
     "output_type": "stream",
     "text": [
      "Epoch 4: 100%|██████████| 144/144 [00:15<00:00,  9.27it/s]\n",
      "Validating: 100%|██████████| 36/36 [00:02<00:00, 15.74it/s]\n"
     ]
    },
    {
     "name": "stdout",
     "output_type": "stream",
     "text": [
      "Loss: 1.5369 - Accuracy: 58.1466% - Val Loss: 1.5288 - Val Accuracy: 59.9130% - Top 1 Accuracy: 0.5991304347826087 - Top 5 Accuracy: 0.9417391304347826\n"
     ]
    },
    {
     "name": "stderr",
     "output_type": "stream",
     "text": [
      "Epoch 5: 100%|██████████| 144/144 [00:15<00:00,  9.36it/s]\n",
      "Validating: 100%|██████████| 36/36 [00:02<00:00, 15.63it/s]\n"
     ]
    },
    {
     "name": "stdout",
     "output_type": "stream",
     "text": [
      "Loss: 1.4475 - Accuracy: 59.7129% - Val Loss: 1.4414 - Val Accuracy: 61.8261% - Top 1 Accuracy: 0.6182608695652174 - Top 5 Accuracy: 0.9469565217391305\n"
     ]
    },
    {
     "name": "stderr",
     "output_type": "stream",
     "text": [
      "Epoch 6: 100%|██████████| 144/144 [00:15<00:00,  9.39it/s]\n",
      "Validating: 100%|██████████| 36/36 [00:02<00:00, 15.71it/s]\n"
     ]
    },
    {
     "name": "stdout",
     "output_type": "stream",
     "text": [
      "Loss: 1.3904 - Accuracy: 60.9093% - Val Loss: 1.3922 - Val Accuracy: 62.5217% - Top 1 Accuracy: 0.6252173913043478 - Top 5 Accuracy: 0.9443478260869566\n"
     ]
    },
    {
     "name": "stderr",
     "output_type": "stream",
     "text": [
      "Epoch 7: 100%|██████████| 144/144 [00:15<00:00,  9.18it/s]\n",
      "Validating: 100%|██████████| 36/36 [00:02<00:00, 15.18it/s]\n"
     ]
    },
    {
     "name": "stdout",
     "output_type": "stream",
     "text": [
      "Loss: 1.3282 - Accuracy: 62.0622% - Val Loss: 201304.7235 - Val Accuracy: 63.4783% - Top 1 Accuracy: 0.6347826086956522 - Top 5 Accuracy: 0.957391304347826\n"
     ]
    },
    {
     "name": "stderr",
     "output_type": "stream",
     "text": [
      "Epoch 8: 100%|██████████| 144/144 [00:15<00:00,  9.08it/s]\n",
      "Validating: 100%|██████████| 36/36 [00:02<00:00, 15.91it/s]\n"
     ]
    },
    {
     "name": "stdout",
     "output_type": "stream",
     "text": [
      "Loss: 1.2794 - Accuracy: 62.2145% - Val Loss: 4.2575 - Val Accuracy: 63.1304% - Top 1 Accuracy: 0.6313043478260869 - Top 5 Accuracy: 0.948695652173913\n"
     ]
    },
    {
     "name": "stderr",
     "output_type": "stream",
     "text": [
      "Epoch 9: 100%|██████████| 144/144 [00:15<00:00,  9.31it/s]\n",
      "Validating: 100%|██████████| 36/36 [00:02<00:00, 15.75it/s]\n"
     ]
    },
    {
     "name": "stdout",
     "output_type": "stream",
     "text": [
      "Loss: 1.2462 - Accuracy: 63.1281% - Val Loss: 14.8507 - Val Accuracy: 64.1739% - Top 1 Accuracy: 0.6417391304347826 - Top 5 Accuracy: 0.9530434782608695\n"
     ]
    },
    {
     "name": "stderr",
     "output_type": "stream",
     "text": [
      "Epoch 10: 100%|██████████| 144/144 [00:15<00:00,  9.24it/s]\n",
      "Validating: 100%|██████████| 36/36 [00:02<00:00, 15.90it/s]\n"
     ]
    },
    {
     "name": "stdout",
     "output_type": "stream",
     "text": [
      "Loss: 1.2100 - Accuracy: 63.3674% - Val Loss: 729.4593 - Val Accuracy: 64.8696% - Top 1 Accuracy: 0.648695652173913 - Top 5 Accuracy: 0.9591304347826087\n"
     ]
    },
    {
     "name": "stderr",
     "output_type": "stream",
     "text": [
      "Epoch 11: 100%|██████████| 144/144 [00:15<00:00,  9.42it/s]\n",
      "Validating: 100%|██████████| 36/36 [00:02<00:00, 15.72it/s]\n"
     ]
    },
    {
     "name": "stdout",
     "output_type": "stream",
     "text": [
      "Loss: 1.1794 - Accuracy: 64.0635% - Val Loss: 93648.2017 - Val Accuracy: 65.5652% - Top 1 Accuracy: 0.6556521739130434 - Top 5 Accuracy: 0.9591304347826087\n"
     ]
    },
    {
     "name": "stderr",
     "output_type": "stream",
     "text": [
      "Epoch 12: 100%|██████████| 144/144 [00:15<00:00,  9.17it/s]\n",
      "Validating: 100%|██████████| 36/36 [00:02<00:00, 15.69it/s]\n"
     ]
    },
    {
     "name": "stdout",
     "output_type": "stream",
     "text": [
      "Loss: 1.1541 - Accuracy: 64.3681% - Val Loss: 2.7828 - Val Accuracy: 65.9130% - Top 1 Accuracy: 0.6591304347826087 - Top 5 Accuracy: 0.9582608695652174\n"
     ]
    },
    {
     "name": "stderr",
     "output_type": "stream",
     "text": [
      "Epoch 13: 100%|██████████| 144/144 [00:15<00:00,  9.43it/s]\n",
      "Validating: 100%|██████████| 36/36 [00:02<00:00, 15.64it/s]\n"
     ]
    },
    {
     "name": "stdout",
     "output_type": "stream",
     "text": [
      "Loss: 1.1271 - Accuracy: 64.3898% - Val Loss: 673628.5496 - Val Accuracy: 64.1739% - Top 1 Accuracy: 0.6417391304347826 - Top 5 Accuracy: 0.957391304347826\n"
     ]
    },
    {
     "name": "stderr",
     "output_type": "stream",
     "text": [
      "Epoch 14: 100%|██████████| 144/144 [00:15<00:00,  9.10it/s]\n",
      "Validating: 100%|██████████| 36/36 [00:02<00:00, 15.10it/s]\n"
     ]
    },
    {
     "name": "stdout",
     "output_type": "stream",
     "text": [
      "Loss: 1.1107 - Accuracy: 65.5427% - Val Loss: 376208.2226 - Val Accuracy: 65.4783% - Top 1 Accuracy: 0.6547826086956522 - Top 5 Accuracy: 0.9608695652173913\n"
     ]
    },
    {
     "name": "stderr",
     "output_type": "stream",
     "text": [
      "Epoch 15: 100%|██████████| 144/144 [00:15<00:00,  9.35it/s]\n",
      "Validating: 100%|██████████| 36/36 [00:02<00:00, 15.66it/s]\n"
     ]
    },
    {
     "name": "stdout",
     "output_type": "stream",
     "text": [
      "Loss: 1.0911 - Accuracy: 66.0213% - Val Loss: 18137584.8626 - Val Accuracy: 65.4783% - Top 1 Accuracy: 0.6547826086956522 - Top 5 Accuracy: 0.9556521739130435\n"
     ]
    },
    {
     "name": "stderr",
     "output_type": "stream",
     "text": [
      "Epoch 16: 100%|██████████| 144/144 [00:15<00:00,  9.11it/s]\n",
      "Validating: 100%|██████████| 36/36 [00:02<00:00, 15.27it/s]\n"
     ]
    },
    {
     "name": "stdout",
     "output_type": "stream",
     "text": [
      "Loss: 1.0819 - Accuracy: 65.4340% - Val Loss: 401497.4887 - Val Accuracy: 65.7391% - Top 1 Accuracy: 0.6573913043478261 - Top 5 Accuracy: 0.9626086956521739\n"
     ]
    },
    {
     "name": "stderr",
     "output_type": "stream",
     "text": [
      "Epoch 17: 100%|██████████| 144/144 [00:15<00:00,  9.41it/s]\n",
      "Validating: 100%|██████████| 36/36 [00:02<00:00, 15.67it/s]\n"
     ]
    },
    {
     "name": "stdout",
     "output_type": "stream",
     "text": [
      "Loss: 1.0538 - Accuracy: 67.8268% - Val Loss: 3646.4554 - Val Accuracy: 65.4783% - Top 1 Accuracy: 0.6547826086956522 - Top 5 Accuracy: 0.96\n"
     ]
    },
    {
     "name": "stderr",
     "output_type": "stream",
     "text": [
      "Epoch 18: 100%|██████████| 144/144 [00:15<00:00,  9.31it/s]\n",
      "Validating: 100%|██████████| 36/36 [00:02<00:00, 15.86it/s]\n"
     ]
    },
    {
     "name": "stdout",
     "output_type": "stream",
     "text": [
      "Loss: 1.0579 - Accuracy: 65.3035% - Val Loss: 1.0895 - Val Accuracy: 67.1304% - Top 1 Accuracy: 0.671304347826087 - Top 5 Accuracy: 0.9643478260869566\n"
     ]
    },
    {
     "name": "stderr",
     "output_type": "stream",
     "text": [
      "Epoch 19: 100%|██████████| 144/144 [00:15<00:00,  9.28it/s]\n",
      "Validating: 100%|██████████| 36/36 [00:02<00:00, 15.36it/s]\n"
     ]
    },
    {
     "name": "stdout",
     "output_type": "stream",
     "text": [
      "Loss: 1.0410 - Accuracy: 66.6522% - Val Loss: 6995398.1217 - Val Accuracy: 67.3043% - Top 1 Accuracy: 0.6730434782608695 - Top 5 Accuracy: 0.9643478260869566\n"
     ]
    },
    {
     "name": "stderr",
     "output_type": "stream",
     "text": [
      "Epoch 20: 100%|██████████| 144/144 [00:15<00:00,  9.42it/s]\n",
      "Validating: 100%|██████████| 36/36 [00:02<00:00, 16.03it/s]\n"
     ]
    },
    {
     "name": "stdout",
     "output_type": "stream",
     "text": [
      "Loss: 1.0245 - Accuracy: 66.6957% - Val Loss: 30689123.2835 - Val Accuracy: 66.3478% - Top 1 Accuracy: 0.6634782608695652 - Top 5 Accuracy: 0.9617391304347827\n"
     ]
    },
    {
     "name": "stderr",
     "output_type": "stream",
     "text": [
      "Epoch 21: 100%|██████████| 144/144 [00:15<00:00,  9.32it/s]\n",
      "Validating: 100%|██████████| 36/36 [00:02<00:00, 15.86it/s]\n"
     ]
    },
    {
     "name": "stdout",
     "output_type": "stream",
     "text": [
      "Loss: 1.0217 - Accuracy: 66.4999% - Val Loss: 63460218.4348 - Val Accuracy: 67.4783% - Top 1 Accuracy: 0.6747826086956522 - Top 5 Accuracy: 0.9634782608695652\n"
     ]
    },
    {
     "name": "stderr",
     "output_type": "stream",
     "text": [
      "Epoch 22: 100%|██████████| 144/144 [00:15<00:00,  9.32it/s]\n",
      "Validating: 100%|██████████| 36/36 [00:02<00:00, 15.81it/s]\n"
     ]
    },
    {
     "name": "stdout",
     "output_type": "stream",
     "text": [
      "Loss: 1.0142 - Accuracy: 66.6522% - Val Loss: 48.2140 - Val Accuracy: 66.6957% - Top 1 Accuracy: 0.6669565217391304 - Top 5 Accuracy: 0.9678260869565217\n"
     ]
    },
    {
     "name": "stderr",
     "output_type": "stream",
     "text": [
      "Epoch 23: 100%|██████████| 144/144 [00:15<00:00,  9.33it/s]\n",
      "Validating: 100%|██████████| 36/36 [00:02<00:00, 16.05it/s]\n"
     ]
    },
    {
     "name": "stdout",
     "output_type": "stream",
     "text": [
      "Loss: 0.9967 - Accuracy: 67.1960% - Val Loss: 1.1780 - Val Accuracy: 67.0435% - Top 1 Accuracy: 0.6704347826086956 - Top 5 Accuracy: 0.9686956521739131\n"
     ]
    },
    {
     "name": "stderr",
     "output_type": "stream",
     "text": [
      "Epoch 24: 100%|██████████| 144/144 [00:15<00:00,  9.44it/s]\n",
      "Validating: 100%|██████████| 36/36 [00:02<00:00, 15.35it/s]\n"
     ]
    },
    {
     "name": "stdout",
     "output_type": "stream",
     "text": [
      "Loss: 0.9881 - Accuracy: 68.0879% - Val Loss: 1.0630 - Val Accuracy: 66.3478% - Top 1 Accuracy: 0.6634782608695652 - Top 5 Accuracy: 0.9643478260869566\n"
     ]
    },
    {
     "name": "stderr",
     "output_type": "stream",
     "text": [
      "Epoch 25: 100%|██████████| 144/144 [00:16<00:00,  8.59it/s]\n",
      "Validating: 100%|██████████| 36/36 [00:02<00:00, 13.23it/s]\n"
     ]
    },
    {
     "name": "stdout",
     "output_type": "stream",
     "text": [
      "Loss: 0.9937 - Accuracy: 67.8051% - Val Loss: 833704.0139 - Val Accuracy: 67.3043% - Top 1 Accuracy: 0.6730434782608695 - Top 5 Accuracy: 0.9695652173913043\n"
     ]
    },
    {
     "name": "stderr",
     "output_type": "stream",
     "text": [
      "Epoch 26: 100%|██████████| 144/144 [00:18<00:00,  7.69it/s]\n",
      "Validating: 100%|██████████| 36/36 [00:02<00:00, 13.11it/s]\n"
     ]
    },
    {
     "name": "stdout",
     "output_type": "stream",
     "text": [
      "Loss: 0.9782 - Accuracy: 67.0872% - Val Loss: 1.0436 - Val Accuracy: 66.6087% - Top 1 Accuracy: 0.6660869565217391 - Top 5 Accuracy: 0.9686956521739131\n"
     ]
    },
    {
     "name": "stderr",
     "output_type": "stream",
     "text": [
      "Epoch 27: 100%|██████████| 144/144 [00:18<00:00,  7.71it/s]\n",
      "Validating: 100%|██████████| 36/36 [00:02<00:00, 13.10it/s]\n"
     ]
    },
    {
     "name": "stdout",
     "output_type": "stream",
     "text": [
      "Loss: 0.9589 - Accuracy: 68.1749% - Val Loss: 6178.5235 - Val Accuracy: 66.6957% - Top 1 Accuracy: 0.6669565217391304 - Top 5 Accuracy: 0.9652173913043478\n"
     ]
    },
    {
     "name": "stderr",
     "output_type": "stream",
     "text": [
      "Epoch 28: 100%|██████████| 144/144 [00:17<00:00,  8.06it/s]\n",
      "Validating: 100%|██████████| 36/36 [00:02<00:00, 15.61it/s]\n"
     ]
    },
    {
     "name": "stdout",
     "output_type": "stream",
     "text": [
      "Loss: 0.9634 - Accuracy: 67.8486% - Val Loss: 1.0154 - Val Accuracy: 66.9565% - Top 1 Accuracy: 0.6695652173913044 - Top 5 Accuracy: 0.9695652173913043\n"
     ]
    },
    {
     "name": "stderr",
     "output_type": "stream",
     "text": [
      "Epoch 29: 100%|██████████| 144/144 [00:15<00:00,  9.35it/s]\n",
      "Validating: 100%|██████████| 36/36 [00:02<00:00, 15.11it/s]\n"
     ]
    },
    {
     "name": "stdout",
     "output_type": "stream",
     "text": [
      "Loss: 0.9495 - Accuracy: 68.6100% - Val Loss: 50.7803 - Val Accuracy: 66.6087% - Top 1 Accuracy: 0.6660869565217391 - Top 5 Accuracy: 0.9669565217391304\n"
     ]
    },
    {
     "name": "stderr",
     "output_type": "stream",
     "text": [
      "Epoch 30: 100%|██████████| 144/144 [00:16<00:00,  8.64it/s]\n",
      "Validating: 100%|██████████| 36/36 [00:02<00:00, 13.21it/s]\n"
     ]
    },
    {
     "name": "stdout",
     "output_type": "stream",
     "text": [
      "Loss: 0.9396 - Accuracy: 68.6752% - Val Loss: 12295257.0435 - Val Accuracy: 66.6957% - Top 1 Accuracy: 0.6669565217391304 - Top 5 Accuracy: 0.9704347826086956\n"
     ]
    },
    {
     "name": "stderr",
     "output_type": "stream",
     "text": [
      "Epoch 31: 100%|██████████| 144/144 [00:18<00:00,  7.76it/s]\n",
      "Validating: 100%|██████████| 36/36 [00:02<00:00, 13.11it/s]\n"
     ]
    },
    {
     "name": "stdout",
     "output_type": "stream",
     "text": [
      "Loss: 0.9356 - Accuracy: 68.3707% - Val Loss: 9789.0191 - Val Accuracy: 66.9565% - Top 1 Accuracy: 0.6695652173913044 - Top 5 Accuracy: 0.9634782608695652\n"
     ]
    },
    {
     "name": "stderr",
     "output_type": "stream",
     "text": [
      "Epoch 32: 100%|██████████| 144/144 [00:18<00:00,  7.77it/s]\n",
      "Validating: 100%|██████████| 36/36 [00:02<00:00, 13.18it/s]\n"
     ]
    },
    {
     "name": "stdout",
     "output_type": "stream",
     "text": [
      "Loss: 0.9323 - Accuracy: 68.6317% - Val Loss: 9247956.8139 - Val Accuracy: 66.9565% - Top 1 Accuracy: 0.6695652173913044 - Top 5 Accuracy: 0.9695652173913043\n"
     ]
    },
    {
     "name": "stderr",
     "output_type": "stream",
     "text": [
      "Epoch 33: 100%|██████████| 144/144 [00:18<00:00,  7.77it/s]\n",
      "Validating: 100%|██████████| 36/36 [00:02<00:00, 13.13it/s]\n"
     ]
    },
    {
     "name": "stdout",
     "output_type": "stream",
     "text": [
      "Loss: 0.9350 - Accuracy: 68.6752% - Val Loss: 3062677.5930 - Val Accuracy: 66.6087% - Top 1 Accuracy: 0.6660869565217391 - Top 5 Accuracy: 0.9634782608695652\n"
     ]
    },
    {
     "name": "stderr",
     "output_type": "stream",
     "text": [
      "Epoch 34: 100%|██████████| 144/144 [00:18<00:00,  7.73it/s]\n",
      "Validating: 100%|██████████| 36/36 [00:02<00:00, 12.93it/s]\n"
     ]
    },
    {
     "name": "stdout",
     "output_type": "stream",
     "text": [
      "Loss: 0.9262 - Accuracy: 68.8492% - Val Loss: 89.3643 - Val Accuracy: 66.7826% - Top 1 Accuracy: 0.6678260869565218 - Top 5 Accuracy: 0.9739130434782609\n"
     ]
    },
    {
     "name": "stderr",
     "output_type": "stream",
     "text": [
      "Epoch 35: 100%|██████████| 144/144 [00:18<00:00,  7.73it/s]\n",
      "Validating: 100%|██████████| 36/36 [00:02<00:00, 12.99it/s]\n"
     ]
    },
    {
     "name": "stdout",
     "output_type": "stream",
     "text": [
      "Loss: 0.9296 - Accuracy: 68.0444% - Val Loss: 6951.4943 - Val Accuracy: 67.0435% - Top 1 Accuracy: 0.6704347826086956 - Top 5 Accuracy: 0.9721739130434782\n"
     ]
    },
    {
     "name": "stderr",
     "output_type": "stream",
     "text": [
      "Epoch 36: 100%|██████████| 144/144 [00:18<00:00,  7.71it/s]\n",
      "Validating: 100%|██████████| 36/36 [00:02<00:00, 13.07it/s]\n"
     ]
    },
    {
     "name": "stdout",
     "output_type": "stream",
     "text": [
      "Loss: 0.9266 - Accuracy: 69.2191% - Val Loss: 994324.7026 - Val Accuracy: 67.5652% - Top 1 Accuracy: 0.6756521739130434 - Top 5 Accuracy: 0.9704347826086956\n"
     ]
    },
    {
     "name": "stderr",
     "output_type": "stream",
     "text": [
      "Epoch 37: 100%|██████████| 144/144 [00:18<00:00,  7.73it/s]\n",
      "Validating: 100%|██████████| 36/36 [00:02<00:00, 13.15it/s]\n"
     ]
    },
    {
     "name": "stdout",
     "output_type": "stream",
     "text": [
      "Loss: 0.9254 - Accuracy: 69.2626% - Val Loss: 0.9897 - Val Accuracy: 66.2609% - Top 1 Accuracy: 0.662608695652174 - Top 5 Accuracy: 0.9686956521739131\n"
     ]
    },
    {
     "name": "stderr",
     "output_type": "stream",
     "text": [
      "Epoch 38: 100%|██████████| 144/144 [00:18<00:00,  7.64it/s]\n",
      "Validating: 100%|██████████| 36/36 [00:02<00:00, 13.30it/s]\n"
     ]
    },
    {
     "name": "stdout",
     "output_type": "stream",
     "text": [
      "Loss: 0.9240 - Accuracy: 68.5012% - Val Loss: 13741535.0539 - Val Accuracy: 66.8696% - Top 1 Accuracy: 0.668695652173913 - Top 5 Accuracy: 0.9678260869565217\n"
     ]
    },
    {
     "name": "stderr",
     "output_type": "stream",
     "text": [
      "Epoch 39: 100%|██████████| 144/144 [00:18<00:00,  7.75it/s]\n",
      "Validating: 100%|██████████| 36/36 [00:02<00:00, 13.25it/s]\n"
     ]
    },
    {
     "name": "stdout",
     "output_type": "stream",
     "text": [
      "Loss: 0.9131 - Accuracy: 68.6535% - Val Loss: 6594.6391 - Val Accuracy: 66.4348% - Top 1 Accuracy: 0.6643478260869565 - Top 5 Accuracy: 0.9686956521739131\n"
     ]
    },
    {
     "name": "stderr",
     "output_type": "stream",
     "text": [
      "Epoch 40: 100%|██████████| 144/144 [00:18<00:00,  7.80it/s]\n",
      "Validating: 100%|██████████| 36/36 [00:02<00:00, 12.98it/s]\n"
     ]
    },
    {
     "name": "stdout",
     "output_type": "stream",
     "text": [
      "Loss: 0.9015 - Accuracy: 69.2626% - Val Loss: 0.9864 - Val Accuracy: 66.7826% - Top 1 Accuracy: 0.6678260869565218 - Top 5 Accuracy: 0.9704347826086956\n"
     ]
    },
    {
     "name": "stderr",
     "output_type": "stream",
     "text": [
      "Epoch 41: 100%|██████████| 144/144 [00:18<00:00,  7.64it/s]\n",
      "Validating: 100%|██████████| 36/36 [00:02<00:00, 12.62it/s]\n"
     ]
    },
    {
     "name": "stdout",
     "output_type": "stream",
     "text": [
      "Loss: 0.9033 - Accuracy: 69.3061% - Val Loss: 50284964.2852 - Val Accuracy: 65.9130% - Top 1 Accuracy: 0.6591304347826087 - Top 5 Accuracy: 0.9678260869565217\n"
     ]
    },
    {
     "name": "stderr",
     "output_type": "stream",
     "text": [
      "Epoch 42: 100%|██████████| 144/144 [00:19<00:00,  7.26it/s]\n",
      "Validating: 100%|██████████| 36/36 [00:02<00:00, 12.17it/s]\n"
     ]
    },
    {
     "name": "stdout",
     "output_type": "stream",
     "text": [
      "Loss: 0.8950 - Accuracy: 69.5018% - Val Loss: 0.9796 - Val Accuracy: 66.9565% - Top 1 Accuracy: 0.6695652173913044 - Top 5 Accuracy: 0.9721739130434782\n"
     ]
    },
    {
     "name": "stderr",
     "output_type": "stream",
     "text": [
      "Epoch 43: 100%|██████████| 144/144 [00:19<00:00,  7.56it/s]\n",
      "Validating: 100%|██████████| 36/36 [00:02<00:00, 12.81it/s]\n"
     ]
    },
    {
     "name": "stdout",
     "output_type": "stream",
     "text": [
      "Loss: 0.9061 - Accuracy: 68.9363% - Val Loss: 0.9636 - Val Accuracy: 67.3913% - Top 1 Accuracy: 0.6739130434782609 - Top 5 Accuracy: 0.971304347826087\n"
     ]
    },
    {
     "name": "stderr",
     "output_type": "stream",
     "text": [
      "Epoch 44: 100%|██████████| 144/144 [00:18<00:00,  7.58it/s]\n",
      "Validating: 100%|██████████| 36/36 [00:02<00:00, 12.94it/s]\n"
     ]
    },
    {
     "name": "stdout",
     "output_type": "stream",
     "text": [
      "Loss: 0.8914 - Accuracy: 69.5671% - Val Loss: 64399.7009 - Val Accuracy: 66.0870% - Top 1 Accuracy: 0.6608695652173913 - Top 5 Accuracy: 0.9686956521739131\n"
     ]
    },
    {
     "name": "stderr",
     "output_type": "stream",
     "text": [
      "Epoch 45: 100%|██████████| 144/144 [00:18<00:00,  7.62it/s]\n",
      "Validating: 100%|██████████| 36/36 [00:02<00:00, 12.96it/s]\n"
     ]
    },
    {
     "name": "stdout",
     "output_type": "stream",
     "text": [
      "Loss: 0.8927 - Accuracy: 69.7629% - Val Loss: 817.5796 - Val Accuracy: 66.6087% - Top 1 Accuracy: 0.6660869565217391 - Top 5 Accuracy: 0.971304347826087\n"
     ]
    },
    {
     "name": "stderr",
     "output_type": "stream",
     "text": [
      "Epoch 46: 100%|██████████| 144/144 [00:19<00:00,  7.32it/s]\n",
      "Validating: 100%|██████████| 36/36 [00:02<00:00, 12.09it/s]\n"
     ]
    },
    {
     "name": "stdout",
     "output_type": "stream",
     "text": [
      "Loss: 0.8905 - Accuracy: 69.6541% - Val Loss: 7861.8435 - Val Accuracy: 66.8696% - Top 1 Accuracy: 0.668695652173913 - Top 5 Accuracy: 0.9669565217391304\n"
     ]
    },
    {
     "name": "stderr",
     "output_type": "stream",
     "text": [
      "Epoch 47: 100%|██████████| 144/144 [00:19<00:00,  7.41it/s]\n",
      "Validating: 100%|██████████| 36/36 [00:02<00:00, 12.97it/s]\n"
     ]
    },
    {
     "name": "stdout",
     "output_type": "stream",
     "text": [
      "Loss: 0.8884 - Accuracy: 69.8717% - Val Loss: 0.9663 - Val Accuracy: 66.5217% - Top 1 Accuracy: 0.6652173913043479 - Top 5 Accuracy: 0.9695652173913043\n"
     ]
    },
    {
     "name": "stderr",
     "output_type": "stream",
     "text": [
      "Epoch 48: 100%|██████████| 144/144 [00:18<00:00,  7.75it/s]\n",
      "Validating: 100%|██████████| 36/36 [00:02<00:00, 12.64it/s]\n"
     ]
    },
    {
     "name": "stdout",
     "output_type": "stream",
     "text": [
      "Loss: 0.8671 - Accuracy: 71.1116% - Val Loss: 29006716.2157 - Val Accuracy: 67.9130% - Top 1 Accuracy: 0.6791304347826087 - Top 5 Accuracy: 0.9730434782608696\n"
     ]
    },
    {
     "name": "stderr",
     "output_type": "stream",
     "text": [
      "Epoch 49: 100%|██████████| 144/144 [00:18<00:00,  7.76it/s]\n",
      "Validating: 100%|██████████| 36/36 [00:02<00:00, 13.19it/s]\n"
     ]
    },
    {
     "name": "stdout",
     "output_type": "stream",
     "text": [
      "Loss: 0.8759 - Accuracy: 69.9587% - Val Loss: 0.9671 - Val Accuracy: 67.9130% - Top 1 Accuracy: 0.6791304347826087 - Top 5 Accuracy: 0.9747826086956521\n"
     ]
    },
    {
     "name": "stderr",
     "output_type": "stream",
     "text": [
      "Epoch 50: 100%|██████████| 144/144 [00:18<00:00,  7.68it/s]\n",
      "Validating: 100%|██████████| 36/36 [00:02<00:00, 13.09it/s]\n"
     ]
    },
    {
     "name": "stdout",
     "output_type": "stream",
     "text": [
      "Loss: 0.8836 - Accuracy: 69.6324% - Val Loss: 0.9535 - Val Accuracy: 68.6087% - Top 1 Accuracy: 0.6860869565217391 - Top 5 Accuracy: 0.9721739130434782\n"
     ]
    },
    {
     "name": "stderr",
     "output_type": "stream",
     "text": [
      "Epoch 51: 100%|██████████| 144/144 [00:18<00:00,  7.62it/s]\n",
      "Validating: 100%|██████████| 36/36 [00:02<00:00, 13.13it/s]\n"
     ]
    },
    {
     "name": "stdout",
     "output_type": "stream",
     "text": [
      "Loss: 0.8853 - Accuracy: 69.7846% - Val Loss: 4523.9952 - Val Accuracy: 67.0435% - Top 1 Accuracy: 0.6704347826086956 - Top 5 Accuracy: 0.9686956521739131\n"
     ]
    },
    {
     "name": "stderr",
     "output_type": "stream",
     "text": [
      "Epoch 52: 100%|██████████| 144/144 [00:18<00:00,  7.63it/s]\n",
      "Validating: 100%|██████████| 36/36 [00:02<00:00, 12.63it/s]\n"
     ]
    },
    {
     "name": "stdout",
     "output_type": "stream",
     "text": [
      "Loss: 0.8581 - Accuracy: 70.3502% - Val Loss: 37876406.5391 - Val Accuracy: 68.4348% - Top 1 Accuracy: 0.6843478260869565 - Top 5 Accuracy: 0.971304347826087\n"
     ]
    },
    {
     "name": "stderr",
     "output_type": "stream",
     "text": [
      "Epoch 53: 100%|██████████| 144/144 [00:18<00:00,  7.71it/s]\n",
      "Validating: 100%|██████████| 36/36 [00:02<00:00, 13.26it/s]\n"
     ]
    },
    {
     "name": "stdout",
     "output_type": "stream",
     "text": [
      "Loss: 0.8644 - Accuracy: 70.2197% - Val Loss: 0.9629 - Val Accuracy: 67.5652% - Top 1 Accuracy: 0.6756521739130434 - Top 5 Accuracy: 0.9721739130434782\n"
     ]
    },
    {
     "name": "stderr",
     "output_type": "stream",
     "text": [
      "Epoch 54: 100%|██████████| 144/144 [00:18<00:00,  7.59it/s]\n",
      "Validating: 100%|██████████| 36/36 [00:02<00:00, 13.13it/s]\n"
     ]
    },
    {
     "name": "stdout",
     "output_type": "stream",
     "text": [
      "Loss: 0.8644 - Accuracy: 71.0681% - Val Loss: 51439623.1235 - Val Accuracy: 66.9565% - Top 1 Accuracy: 0.6695652173913044 - Top 5 Accuracy: 0.9695652173913043\n"
     ]
    },
    {
     "name": "stderr",
     "output_type": "stream",
     "text": [
      "Epoch 55: 100%|██████████| 144/144 [00:18<00:00,  7.74it/s]\n",
      "Validating: 100%|██████████| 36/36 [00:02<00:00, 12.78it/s]\n"
     ]
    },
    {
     "name": "stdout",
     "output_type": "stream",
     "text": [
      "Loss: 0.8569 - Accuracy: 71.1116% - Val Loss: 0.9456 - Val Accuracy: 67.5652% - Top 1 Accuracy: 0.6756521739130434 - Top 5 Accuracy: 0.9730434782608696\n"
     ]
    },
    {
     "name": "stderr",
     "output_type": "stream",
     "text": [
      "Epoch 56: 100%|██████████| 144/144 [00:18<00:00,  7.76it/s]\n",
      "Validating: 100%|██████████| 36/36 [00:02<00:00, 13.10it/s]\n"
     ]
    },
    {
     "name": "stdout",
     "output_type": "stream",
     "text": [
      "Loss: 0.8524 - Accuracy: 70.9158% - Val Loss: 372509615.8609 - Val Accuracy: 67.2174% - Top 1 Accuracy: 0.6721739130434783 - Top 5 Accuracy: 0.9686956521739131\n"
     ]
    },
    {
     "name": "stderr",
     "output_type": "stream",
     "text": [
      "Epoch 57: 100%|██████████| 144/144 [00:18<00:00,  7.78it/s]\n",
      "Validating: 100%|██████████| 36/36 [00:02<00:00, 13.24it/s]\n"
     ]
    },
    {
     "name": "stdout",
     "output_type": "stream",
     "text": [
      "Loss: 0.8454 - Accuracy: 71.4596% - Val Loss: 1.1075 - Val Accuracy: 67.6522% - Top 1 Accuracy: 0.6765217391304348 - Top 5 Accuracy: 0.9695652173913043\n"
     ]
    },
    {
     "name": "stderr",
     "output_type": "stream",
     "text": [
      "Epoch 58: 100%|██████████| 144/144 [00:18<00:00,  7.80it/s]\n",
      "Validating: 100%|██████████| 36/36 [00:02<00:00, 13.21it/s]\n"
     ]
    },
    {
     "name": "stdout",
     "output_type": "stream",
     "text": [
      "Loss: 0.8443 - Accuracy: 71.0681% - Val Loss: 304.8963 - Val Accuracy: 67.2174% - Top 1 Accuracy: 0.6721739130434783 - Top 5 Accuracy: 0.9686956521739131\n"
     ]
    },
    {
     "name": "stderr",
     "output_type": "stream",
     "text": [
      "Epoch 59: 100%|██████████| 144/144 [00:18<00:00,  7.76it/s]\n",
      "Validating: 100%|██████████| 36/36 [00:02<00:00, 13.16it/s]\n"
     ]
    },
    {
     "name": "stdout",
     "output_type": "stream",
     "text": [
      "Loss: 0.8528 - Accuracy: 70.4807% - Val Loss: 12697270.5391 - Val Accuracy: 68.8696% - Top 1 Accuracy: 0.688695652173913 - Top 5 Accuracy: 0.9739130434782609\n"
     ]
    },
    {
     "name": "stderr",
     "output_type": "stream",
     "text": [
      "Epoch 60: 100%|██████████| 144/144 [00:18<00:00,  7.72it/s]\n",
      "Validating: 100%|██████████| 36/36 [00:02<00:00, 12.81it/s]\n"
     ]
    },
    {
     "name": "stdout",
     "output_type": "stream",
     "text": [
      "Loss: 0.8498 - Accuracy: 70.5243% - Val Loss: 32261.4296 - Val Accuracy: 67.8261% - Top 1 Accuracy: 0.6782608695652174 - Top 5 Accuracy: 0.9704347826086956\n"
     ]
    },
    {
     "name": "stderr",
     "output_type": "stream",
     "text": [
      "Epoch 61: 100%|██████████| 144/144 [00:18<00:00,  7.63it/s]\n",
      "Validating: 100%|██████████| 36/36 [00:02<00:00, 12.79it/s]\n"
     ]
    },
    {
     "name": "stdout",
     "output_type": "stream",
     "text": [
      "Loss: 0.8494 - Accuracy: 71.0028% - Val Loss: 4105.3796 - Val Accuracy: 67.9130% - Top 1 Accuracy: 0.6791304347826087 - Top 5 Accuracy: 0.9686956521739131\n"
     ]
    },
    {
     "name": "stderr",
     "output_type": "stream",
     "text": [
      "Epoch 62: 100%|██████████| 144/144 [00:18<00:00,  7.60it/s]\n",
      "Validating: 100%|██████████| 36/36 [00:02<00:00, 13.25it/s]\n"
     ]
    },
    {
     "name": "stdout",
     "output_type": "stream",
     "text": [
      "Loss: 0.8386 - Accuracy: 71.5467% - Val Loss: 47897177.9339 - Val Accuracy: 67.3043% - Top 1 Accuracy: 0.6730434782608695 - Top 5 Accuracy: 0.9739130434782609\n"
     ]
    },
    {
     "name": "stderr",
     "output_type": "stream",
     "text": [
      "Epoch 63: 100%|██████████| 144/144 [00:18<00:00,  7.71it/s]\n",
      "Validating: 100%|██████████| 36/36 [00:02<00:00, 13.11it/s]\n"
     ]
    },
    {
     "name": "stdout",
     "output_type": "stream",
     "text": [
      "Loss: 0.8328 - Accuracy: 71.2639% - Val Loss: 0.9355 - Val Accuracy: 68.0000% - Top 1 Accuracy: 0.68 - Top 5 Accuracy: 0.9747826086956521\n"
     ]
    },
    {
     "name": "stderr",
     "output_type": "stream",
     "text": [
      "Epoch 64: 100%|██████████| 144/144 [00:18<00:00,  7.72it/s]\n",
      "Validating: 100%|██████████| 36/36 [00:02<00:00, 13.00it/s]\n"
     ]
    },
    {
     "name": "stdout",
     "output_type": "stream",
     "text": [
      "Loss: 0.8425 - Accuracy: 70.3720% - Val Loss: 0.9567 - Val Accuracy: 66.9565% - Top 1 Accuracy: 0.6695652173913044 - Top 5 Accuracy: 0.9704347826086956\n"
     ]
    },
    {
     "name": "stderr",
     "output_type": "stream",
     "text": [
      "Epoch 65: 100%|██████████| 144/144 [00:18<00:00,  7.76it/s]\n",
      "Validating: 100%|██████████| 36/36 [00:02<00:00, 13.17it/s]\n"
     ]
    },
    {
     "name": "stdout",
     "output_type": "stream",
     "text": [
      "Loss: 0.8340 - Accuracy: 71.4596% - Val Loss: 17042488.9878 - Val Accuracy: 67.6522% - Top 1 Accuracy: 0.6765217391304348 - Top 5 Accuracy: 0.9739130434782609\n"
     ]
    },
    {
     "name": "stderr",
     "output_type": "stream",
     "text": [
      "Epoch 66: 100%|██████████| 144/144 [00:18<00:00,  7.74it/s]\n",
      "Validating: 100%|██████████| 36/36 [00:02<00:00, 12.94it/s]\n"
     ]
    },
    {
     "name": "stdout",
     "output_type": "stream",
     "text": [
      "Loss: 0.8360 - Accuracy: 71.0898% - Val Loss: 2207938.1148 - Val Accuracy: 67.0435% - Top 1 Accuracy: 0.6704347826086956 - Top 5 Accuracy: 0.9730434782608696\n"
     ]
    },
    {
     "name": "stderr",
     "output_type": "stream",
     "text": [
      "Epoch 67: 100%|██████████| 144/144 [00:18<00:00,  7.74it/s]\n",
      "Validating: 100%|██████████| 36/36 [00:02<00:00, 13.24it/s]\n"
     ]
    },
    {
     "name": "stdout",
     "output_type": "stream",
     "text": [
      "Loss: 0.8473 - Accuracy: 70.6548% - Val Loss: 0.9551 - Val Accuracy: 67.3043% - Top 1 Accuracy: 0.6730434782608695 - Top 5 Accuracy: 0.9739130434782609\n"
     ]
    },
    {
     "name": "stderr",
     "output_type": "stream",
     "text": [
      "Epoch 68: 100%|██████████| 144/144 [00:18<00:00,  7.75it/s]\n",
      "Validating: 100%|██████████| 36/36 [00:02<00:00, 13.22it/s]\n"
     ]
    },
    {
     "name": "stdout",
     "output_type": "stream",
     "text": [
      "Loss: 0.8334 - Accuracy: 70.5678% - Val Loss: 0.9531 - Val Accuracy: 67.3043% - Top 1 Accuracy: 0.6730434782608695 - Top 5 Accuracy: 0.9730434782608696\n"
     ]
    },
    {
     "name": "stderr",
     "output_type": "stream",
     "text": [
      "Epoch 69: 100%|██████████| 144/144 [00:18<00:00,  7.80it/s]\n",
      "Validating: 100%|██████████| 36/36 [00:02<00:00, 13.07it/s]\n"
     ]
    },
    {
     "name": "stdout",
     "output_type": "stream",
     "text": [
      "Loss: 0.8330 - Accuracy: 70.1980% - Val Loss: 2782.6846 - Val Accuracy: 66.7826% - Top 1 Accuracy: 0.6678260869565218 - Top 5 Accuracy: 0.9730434782608696\n"
     ]
    },
    {
     "name": "stderr",
     "output_type": "stream",
     "text": [
      "Epoch 70: 100%|██████████| 144/144 [00:18<00:00,  7.76it/s]\n",
      "Validating: 100%|██████████| 36/36 [00:02<00:00, 13.02it/s]\n"
     ]
    },
    {
     "name": "stdout",
     "output_type": "stream",
     "text": [
      "Loss: 0.8262 - Accuracy: 70.9593% - Val Loss: 0.9443 - Val Accuracy: 66.9565% - Top 1 Accuracy: 0.6695652173913044 - Top 5 Accuracy: 0.9721739130434782\n"
     ]
    },
    {
     "name": "stderr",
     "output_type": "stream",
     "text": [
      "Epoch 71: 100%|██████████| 144/144 [00:18<00:00,  7.77it/s]\n",
      "Validating: 100%|██████████| 36/36 [00:02<00:00, 13.17it/s]\n"
     ]
    },
    {
     "name": "stdout",
     "output_type": "stream",
     "text": [
      "Loss: 0.8188 - Accuracy: 71.6337% - Val Loss: 24829848.7096 - Val Accuracy: 67.8261% - Top 1 Accuracy: 0.6782608695652174 - Top 5 Accuracy: 0.9721739130434782\n"
     ]
    },
    {
     "name": "stderr",
     "output_type": "stream",
     "text": [
      "Epoch 72: 100%|██████████| 144/144 [00:18<00:00,  7.73it/s]\n",
      "Validating: 100%|██████████| 36/36 [00:02<00:00, 13.22it/s]\n"
     ]
    },
    {
     "name": "stdout",
     "output_type": "stream",
     "text": [
      "Loss: 0.8418 - Accuracy: 70.9376% - Val Loss: 8396.8339 - Val Accuracy: 67.9130% - Top 1 Accuracy: 0.6791304347826087 - Top 5 Accuracy: 0.9678260869565217\n"
     ]
    },
    {
     "name": "stderr",
     "output_type": "stream",
     "text": [
      "Epoch 73: 100%|██████████| 144/144 [00:18<00:00,  7.79it/s]\n",
      "Validating: 100%|██████████| 36/36 [00:02<00:00, 13.18it/s]\n"
     ]
    },
    {
     "name": "stdout",
     "output_type": "stream",
     "text": [
      "Loss: 0.8256 - Accuracy: 71.0463% - Val Loss: 0.9482 - Val Accuracy: 66.9565% - Top 1 Accuracy: 0.6695652173913044 - Top 5 Accuracy: 0.9747826086956521\n"
     ]
    },
    {
     "name": "stderr",
     "output_type": "stream",
     "text": [
      "Epoch 74: 100%|██████████| 144/144 [00:18<00:00,  7.72it/s]\n",
      "Validating: 100%|██████████| 36/36 [00:02<00:00, 13.31it/s]\n"
     ]
    },
    {
     "name": "stdout",
     "output_type": "stream",
     "text": [
      "Loss: 0.8173 - Accuracy: 71.3509% - Val Loss: 2009842.6435 - Val Accuracy: 67.9130% - Top 1 Accuracy: 0.6791304347826087 - Top 5 Accuracy: 0.971304347826087\n"
     ]
    },
    {
     "name": "stderr",
     "output_type": "stream",
     "text": [
      "Epoch 75: 100%|██████████| 144/144 [00:18<00:00,  7.74it/s]\n",
      "Validating: 100%|██████████| 36/36 [00:02<00:00, 13.11it/s]\n"
     ]
    },
    {
     "name": "stdout",
     "output_type": "stream",
     "text": [
      "Loss: 0.8195 - Accuracy: 71.5249% - Val Loss: 847040.6678 - Val Accuracy: 68.7826% - Top 1 Accuracy: 0.6878260869565217 - Top 5 Accuracy: 0.9739130434782609\n"
     ]
    },
    {
     "name": "stderr",
     "output_type": "stream",
     "text": [
      "Epoch 76: 100%|██████████| 144/144 [00:18<00:00,  7.74it/s]\n",
      "Validating: 100%|██████████| 36/36 [00:02<00:00, 13.26it/s]\n"
     ]
    },
    {
     "name": "stdout",
     "output_type": "stream",
     "text": [
      "Loss: 0.8217 - Accuracy: 71.6337% - Val Loss: 0.9284 - Val Accuracy: 68.8696% - Top 1 Accuracy: 0.688695652173913 - Top 5 Accuracy: 0.9756521739130435\n"
     ]
    },
    {
     "name": "stderr",
     "output_type": "stream",
     "text": [
      "Epoch 77: 100%|██████████| 144/144 [00:18<00:00,  7.74it/s]\n",
      "Validating: 100%|██████████| 36/36 [00:02<00:00, 13.25it/s]\n"
     ]
    },
    {
     "name": "stdout",
     "output_type": "stream",
     "text": [
      "Loss: 0.8069 - Accuracy: 71.5249% - Val Loss: 6581729.7252 - Val Accuracy: 67.2174% - Top 1 Accuracy: 0.6721739130434783 - Top 5 Accuracy: 0.9721739130434782\n"
     ]
    },
    {
     "name": "stderr",
     "output_type": "stream",
     "text": [
      "Epoch 78: 100%|██████████| 144/144 [00:18<00:00,  7.73it/s]\n",
      "Validating: 100%|██████████| 36/36 [00:02<00:00, 13.21it/s]\n"
     ]
    },
    {
     "name": "stdout",
     "output_type": "stream",
     "text": [
      "Loss: 0.8105 - Accuracy: 71.8512% - Val Loss: 12428567.5965 - Val Accuracy: 67.9130% - Top 1 Accuracy: 0.6791304347826087 - Top 5 Accuracy: 0.9730434782608696\n"
     ]
    },
    {
     "name": "stderr",
     "output_type": "stream",
     "text": [
      "Epoch 79: 100%|██████████| 144/144 [00:18<00:00,  7.75it/s]\n",
      "Validating: 100%|██████████| 36/36 [00:02<00:00, 13.11it/s]"
     ]
    },
    {
     "name": "stdout",
     "output_type": "stream",
     "text": [
      "Loss: 0.8136 - Accuracy: 72.5038% - Val Loss: 13729858.7826 - Val Accuracy: 67.1304% - Top 1 Accuracy: 0.671304347826087 - Top 5 Accuracy: 0.9739130434782609\n",
      "Early stopping: patience limit reached after epoch 79\n"
     ]
    },
    {
     "name": "stderr",
     "output_type": "stream",
     "text": [
      "\n"
     ]
    }
   ],
   "source": [
    "best_val_loss = float('inf')\n",
    "best_val_acc = -1\n",
    "\n",
    "# Early stopping - based on validation loss\n",
    "patience_counter = 0\n",
    "patience = 20\n",
    "\n",
    "for epoch in range(num_epochs):\n",
    "    model.train()\n",
    "\n",
    "    progress_bar = tqdm(train_loader, desc=f'Epoch {epoch + 1}')\n",
    "\n",
    "    running_loss = 0.0\n",
    "    running_correct = 0\n",
    "    total = 0\n",
    "\n",
    "    for X, y in progress_bar:\n",
    "        X, y = X.to(device), y.to(device)\n",
    "\n",
    "        outputs = model(X)\n",
    "\n",
    "        loss = loss_fn(outputs, y)\n",
    "\n",
    "        loss.backward()\n",
    "        optimiser.step()\n",
    "        optimiser.zero_grad()\n",
    "\n",
    "        running_loss += loss.detach() * X.size(0)\n",
    "        running_correct += (torch.argmax(outputs, dim = 1) == y.type(torch.long)).sum().detach()\n",
    "        total += X.size(0)\n",
    "    \n",
    "    running_loss = running_loss.item()\n",
    "    running_correct = running_correct.item()\n",
    "\n",
    "    # Evaluate the model after training is done instead of using running averages\n",
    "    # train_loss, train_acc = evaluate_all(model, loss_fn, train_full[0], train_full[1])\n",
    "    train_loss, train_acc = running_loss / total, running_correct / total\n",
    "    # val_loss, val_acc = evaluate_all(model, loss_fn, val_full[0], val_full[1])\n",
    "    val_loss, val_acc, top_1, top_5 = evaluate(model, loss_fn, val_loader)\n",
    "\n",
    "    history['train_loss'].append(train_loss)\n",
    "    history['val_loss'].append(val_loss)\n",
    "    history['train_acc'].append(train_acc)\n",
    "    history['val_acc'].append(val_acc)\n",
    "\n",
    "    if val_loss < best_val_loss:\n",
    "        best_val_loss = val_loss\n",
    "        torch.save(model.state_dict(), f'best_model_{model_paradigm}.pth')\n",
    "\n",
    "    # Patience is counted based on validation accuracy\n",
    "    if val_acc > best_val_acc:\n",
    "        best_val_acc = val_acc\n",
    "        torch.save(model.state_dict(), f'best_model_acc_{model_paradigm}.pth')\n",
    "        patience_counter = 0\n",
    "    else:\n",
    "        patience_counter += 1\n",
    "\n",
    "    # torch.save(model.state_dict(), f'model_{model_paradigm}_epoch_{epoch+1}.pth')\n",
    "    \n",
    "    tqdm.write(f'Loss: {train_loss:.4f} - Accuracy: {train_acc*100:.4f}% - Val Loss: {val_loss:.4f} - Val Accuracy: {val_acc*100:.4f}% - Top 1 Accuracy: {top_1} - Top 5 Accuracy: {top_5}')\n",
    "\n",
    "    if patience_counter == patience:\n",
    "        print(f'Early stopping: patience limit reached after epoch {epoch + 1}')\n",
    "        break"
   ]
  },
  {
   "cell_type": "code",
   "execution_count": 38,
   "metadata": {},
   "outputs": [
    {
     "name": "stderr",
     "output_type": "stream",
     "text": [
      "C:\\Users\\Raven\\AppData\\Local\\Temp\\ipykernel_31912\\2034897919.py:2: FutureWarning: You are using `torch.load` with `weights_only=False` (the current default value), which uses the default pickle module implicitly. It is possible to construct malicious pickle data which will execute arbitrary code during unpickling (See https://github.com/pytorch/pytorch/blob/main/SECURITY.md#untrusted-models for more details). In a future release, the default value for `weights_only` will be flipped to `True`. This limits the functions that could be executed during unpickling. Arbitrary objects will no longer be allowed to be loaded via this mode unless they are explicitly allowlisted by the user via `torch.serialization.add_safe_globals`. We recommend you start setting `weights_only=True` for any use case where you don't have full control of the loaded file. Please open an issue on GitHub for any issues related to this experimental feature.\n",
      "  model.load_state_dict(torch.load(f'best_model_acc_{model_paradigm}.pth'))\n"
     ]
    },
    {
     "data": {
      "text/plain": [
       "<All keys matched successfully>"
      ]
     },
     "execution_count": 38,
     "metadata": {},
     "output_type": "execute_result"
    }
   ],
   "source": [
    "# Load the best model\n",
    "model.load_state_dict(torch.load(f'best_model_acc_{model_paradigm}.pth'))"
   ]
  },
  {
   "cell_type": "code",
   "execution_count": 39,
   "metadata": {},
   "outputs": [
    {
     "data": {
      "image/png": "[encoded data removed]",
      "text/plain": [
       "<Figure size 800x500 with 2 Axes>"
      ]
     },
     "metadata": {},
     "output_type": "display_data"
    }
   ],
   "source": [
    "plot_model_history(history)"
   ]
  },
  {
   "cell_type": "code",
   "execution_count": 40,
   "metadata": {},
   "outputs": [],
   "source": [
    "test_dataset = datasets.ImageFolder(root = \"./test_data\")\n",
    "transformed_test = TransformedDataset(test_dataset, val_transform)\n",
    "test_loader = DataLoader(transformed_test, batch_size=32, shuffle=False)"
   ]
  },
  {
   "cell_type": "code",
   "execution_count": 41,
   "metadata": {},
   "outputs": [
    {
     "name": "stderr",
     "output_type": "stream",
     "text": [
      "Validating: 100%|██████████| 32/32 [00:04<00:00,  7.05it/s]"
     ]
    },
    {
     "name": "stdout",
     "output_type": "stream",
     "text": [
      "Test Loss: 1.1596 - Test Accuracy: 57.9154% - Top 1 Accuracy: 0.5791543756145526 - Top 5 Accuracy: 0.9488692232055064\n"
     ]
    },
    {
     "name": "stderr",
     "output_type": "stream",
     "text": [
      "\n"
     ]
    }
   ],
   "source": [
    "test_loss, test_acc, top_1, top_5 = evaluate(model, loss_fn, test_loader)\n",
    "print(f'Test Loss: {test_loss:.4f} - Test Accuracy: {test_acc*100:.4f}% - Top 1 Accuracy: {top_1} - Top 5 Accuracy: {top_5}')"
   ]
  }
 ],
 "metadata": {
  "kernelspec": {
   "display_name": "base",
   "language": "python",
   "name": "python3"
  },
  "language_info": {
   "codemirror_mode": {
    "name": "ipython",
    "version": 3
   },
   "file_extension": ".py",
   "mimetype": "text/x-python",
   "name": "python",
   "nbconvert_exporter": "python",
   "pygments_lexer": "ipython3",
   "version": "3.12.4"
  }
 },
 "nbformat": 4,
 "nbformat_minor": 2
}
