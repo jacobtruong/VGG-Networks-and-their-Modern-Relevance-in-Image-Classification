{
 "cells": [
  {
   "cell_type": "code",
   "execution_count": 10,
   "metadata": {},
   "outputs": [
    {
     "name": "stdout",
     "output_type": "stream",
     "text": [
      "CUDA is available!  Training on GPU ...\n"
     ]
    }
   ],
   "source": [
    "import os\n",
    "import requests\n",
    "import tarfile\n",
    "import time\n",
    "\n",
    "from torchvision import datasets, transforms\n",
    "from torchvision.transforms import v2\n",
    "from torch.utils.data import DataLoader, random_split, Dataset, Subset\n",
    "import torchvision.models as models\n",
    "import torch.nn as nn\n",
    "import torch\n",
    "from torch import optim\n",
    "from torchsummary import summary\n",
    "\n",
    "import PIL.Image\n",
    "import pathlib\n",
    "\n",
    "import matplotlib.pyplot as plt\n",
    "%matplotlib inline\n",
    "import numpy as np\n",
    "from copy import deepcopy\n",
    "from PIL import Image\n",
    "from tqdm import tqdm\n",
    "from sklearn.model_selection import train_test_split\n",
    "import timm\n",
    "import uuid\n",
    "import pickle\n",
    "\n",
    "# check if CUDA is available\n",
    "train_on_gpu = torch.cuda.is_available()\n",
    "\n",
    "if not train_on_gpu:\n",
    "    print('CUDA is not available.  Training on CPU ...')\n",
    "else:\n",
    "    print('CUDA is available!  Training on GPU ...')\n",
    "\n",
    "device = torch.device(\"cuda\" if torch.cuda.is_available() else \"cpu\")"
   ]
  },
  {
   "cell_type": "markdown",
   "metadata": {},
   "source": [
    "### Dataloading"
   ]
  },
  {
   "cell_type": "code",
   "execution_count": 11,
   "metadata": {},
   "outputs": [],
   "source": [
    "transform = transforms.Compose([transforms.Resize((256,256)),\n",
    "                                transforms.RandomHorizontalFlip(),\n",
    "                                transforms.RandomRotation(10),\n",
    "                                transforms.RandomAffine(0, shear=5, scale=(0.8,1.2)), \n",
    "                              #   transforms.RandomGrayscale(p=0.1), \n",
    "                                transforms.ColorJitter(brightness=0.2, contrast=0.2, saturation=0.2), \n",
    "                                transforms.ToTensor(), \n",
    "                                transforms.Normalize((0.4850, 0.4560, 0.4060), (0.2290, 0.2240, 0.2250)), \n",
    "                                      ])\n",
    "\n",
    "val_transform = transforms.Compose([transforms.Resize((256,256)),\n",
    "                                        transforms.ToTensor(),\n",
    "                                        transforms.Normalize((0.4850, 0.4560, 0.4060), (0.2290, 0.2240, 0.2250)),\n",
    "                                        ])"
   ]
  },
  {
   "cell_type": "code",
   "execution_count": 12,
   "metadata": {},
   "outputs": [],
   "source": [
    "class TransformedDataset(Dataset):\n",
    "    def __init__(self, dataset: Dataset, transform: transforms.Compose):\n",
    "        self.dataset = dataset\n",
    "        self.transform = transform\n",
    "    \n",
    "    def __len__(self):\n",
    "        return len(self.dataset)\n",
    "    \n",
    "    def __getitem__(self, index):\n",
    "        img, label = self.dataset[index]\n",
    "\n",
    "        if self.transform:\n",
    "            img = self.transform(img)\n",
    "        \n",
    "        return img, label\n",
    "\n",
    "def stratified_split(dataset, val_split=0.):\n",
    "    targets = np.array(dataset.targets)\n",
    "\n",
    "    train_indices, val_indices = train_test_split(\n",
    "        np.arange(targets.shape[0]),\n",
    "        test_size=val_split,\n",
    "        stratify=targets\n",
    "    )\n",
    "\n",
    "    # train_dataset = Subset(dataset, indices=train_indices)\n",
    "    # val_dataset = Subset(dataset, indices=val_indices)\n",
    "    # return train_dataset, val_dataset\n",
    "\n",
    "    return train_indices, val_indices"
   ]
  },
  {
   "cell_type": "code",
   "execution_count": 13,
   "metadata": {},
   "outputs": [],
   "source": [
    "# Load the dataset separately for training and validation\n",
    "dataset = datasets.ImageFolder(root = \"./final_data\")\n",
    "\n",
    "# train_indices, val_indices = stratified_split(dataset, val_split=0.2)\n",
    "\n",
    "# Loading the indices from the saved pickle file to ensure the same split is used across different models\n",
    "with open('train_indices.pkl', 'rb') as f:\n",
    "    train_indices = pickle.load(f)\n",
    "\n",
    "with open('val_indices.pkl', 'rb') as f:\n",
    "    val_indices = pickle.load(f)\n",
    "\n",
    "# Split the dataset into training and validation\n",
    "train_dataset = Subset(dataset, train_indices)\n",
    "val_dataset = Subset(dataset, val_indices)\n",
    "\n",
    "transformed_train = TransformedDataset(train_dataset, transform)\n",
    "transformed_val = TransformedDataset(val_dataset, val_transform)"
   ]
  },
  {
   "cell_type": "code",
   "execution_count": 14,
   "metadata": {},
   "outputs": [],
   "source": [
    "# train_loader = DataLoader(transformed_train, batch_size=32, shuffle=True, num_workers=2, pin_memory=True, prefetch_factor=2)\n",
    "train_loader = DataLoader(transformed_train, batch_size=32, shuffle=True)\n",
    "val_loader = DataLoader(transformed_val, batch_size=32, shuffle=False)"
   ]
  },
  {
   "cell_type": "code",
   "execution_count": 15,
   "metadata": {},
   "outputs": [],
   "source": [
    "# # Store all datapoints from transformed_train\n",
    "# train_images = []\n",
    "# train_labels = []\n",
    "# for i in range(len(transformed_train)):\n",
    "#     img, label = transformed_train[i]\n",
    "#     train_images.append(img)\n",
    "#     train_labels.append(label)\n",
    "\n",
    "# # Store all datapoints from transformed_val\n",
    "# val_images = []\n",
    "# val_labels = []\n",
    "# for i in range(len(transformed_val)):\n",
    "#     img, label = transformed_val[i]\n",
    "#     val_images.append(img)\n",
    "#     val_labels.append(label)\n",
    "\n",
    "# train_full = (torch.stack(train_images).to(device), torch.tensor(train_labels).to(device))\n",
    "# val_full = (torch.stack(val_images).to(device), torch.tensor(val_labels).to(device))"
   ]
  },
  {
   "cell_type": "markdown",
   "metadata": {},
   "source": [
    "### Model Instantiation"
   ]
  },
  {
   "cell_type": "code",
   "execution_count": 16,
   "metadata": {},
   "outputs": [],
   "source": [
    "# Define the Vision Transformer model\n",
    "class CustomEdgeNextUSIModel(nn.Module):\n",
    "    def __init__(self, num_classes):\n",
    "        super(CustomEdgeNextUSIModel, self).__init__()\n",
    "        # Load the pre-trained ViT model\n",
    "        self.edgenext = timm.create_model('timm/edgenext_small.usi_in1k', pretrained=True)\n",
    "        data_config = timm.data.resolve_model_data_config(self.edgenext)\n",
    "        self.transforms_train = timm.data.create_transform(**data_config, is_training=True)\n",
    "        self.transforms_val = timm.data.create_transform(**data_config, is_training=False)\n",
    "        \n",
    "        # Freeze the base model\n",
    "        for param in self.edgenext.parameters():\n",
    "            param.requires_grad = False\n",
    "\n",
    "        # Replace the classifier head\n",
    "        self.edgenext.head.fc = nn.Linear(self.edgenext.head.fc.in_features, num_classes)\n",
    "\n",
    "    def forward(self, x):\n",
    "        return self.edgenext(x)\n",
    "\n",
    "# Instantiate the model\n",
    "num_classes = len(dataset.classes)  # Adjust according to your specific number of classes\n",
    "model = CustomEdgeNextUSIModel(num_classes=num_classes)\n",
    "model.to(device)\n",
    "\n",
    "model_paradigm = 'EdgeNextS_USI'"
   ]
  },
  {
   "cell_type": "markdown",
   "metadata": {},
   "source": [
    "### Training Setup - Model Evaluation"
   ]
  },
  {
   "cell_type": "code",
   "execution_count": 17,
   "metadata": {},
   "outputs": [],
   "source": [
    "def top_k_accuracy(output, target, k=5):\n",
    "    batch_size = target.size(0)\n",
    "    _, pred = output.topk(k, 1, True, True)  # Get top-k predictions\n",
    "    pred = pred.t()  # Transpose predictions for comparison\n",
    "    correct = pred.eq(target.reshape(1, -1).expand_as(pred))  # Compare predictions with target\n",
    "    correct_k = correct[:k].reshape(-1).float().sum(0, keepdim = True)  # Calculate correct top-k\n",
    "    return correct_k.mul_(1.0 / batch_size).detach()  # Calculate top-k accuracy\n",
    "\n",
    "def evaluate(model, loss_fn, data_loader):\n",
    "    model.eval()\n",
    "\n",
    "    loss = 0\n",
    "    correct = 0\n",
    "    total = 0\n",
    "    top_1_accuracy = 0\n",
    "    top_5_accuracy = 0\n",
    "\n",
    "    progress_bar = tqdm(data_loader, desc = \"Validating\")\n",
    "\n",
    "    with torch.no_grad():\n",
    "        for batchX, batchY in progress_bar:\n",
    "            batchX, batchY = batchX.to(device), batchY.to(device)\n",
    "\n",
    "            output = model(batchX)\n",
    "            predicted_labels = torch.argmax(output, dim = 1)\n",
    "\n",
    "            loss += loss_fn(output, batchY).detach() * batchX.size(0)\n",
    "            correct += (predicted_labels == batchY.type(torch.long)).sum().detach()\n",
    "            total += batchX.size(0)\n",
    "            top_1_accuracy += top_k_accuracy(output, batchY, k=1) * batchX.size(0)\n",
    "            top_5_accuracy += top_k_accuracy(output, batchY, k=5) * batchX.size(0)\n",
    "    \n",
    "    return loss.item() / total, correct.item() / total, top_1_accuracy.item() / total, top_5_accuracy.item() / total\n",
    "\n",
    "def evaluate_all(model, loss_fn, allX, allY):\n",
    "    model.eval()\n",
    "\n",
    "    loss = 0\n",
    "    correct = 0\n",
    "    top_1_accuracy = 0\n",
    "    top_5_accuracy = 0\n",
    "\n",
    "    allX, allY = allX.to(device), allY.to(device)\n",
    "\n",
    "    with torch.no_grad():\n",
    "        output = model(allX)\n",
    "        predicted_labels = torch.argmax(output, dim = 1)\n",
    "\n",
    "        loss += loss_fn(output, allY.type(torch.long)).detach()\n",
    "        correct += (predicted_labels == allY.type(torch.long)).sum().detach()\n",
    "        top_1_accuracy += top_k_accuracy(output, allY, k=1)\n",
    "        top_5_accuracy += top_k_accuracy(output, allY, k=5)\n",
    "    \n",
    "    return loss.item(), correct.item() / allX.size(0), top_1_accuracy.item(), top_5_accuracy.item()"
   ]
  },
  {
   "cell_type": "code",
   "execution_count": 18,
   "metadata": {},
   "outputs": [],
   "source": [
    "def plot_model_history(his):\n",
    "    fig = plt.figure(figsize=(8, 5))\n",
    "    ax = fig.add_subplot(111)\n",
    "    ln1 = ax.plot(his['train_loss'], 'b--',label='loss')\n",
    "    ln2 = ax.plot(his['val_loss'], 'b-',label='val_loss')\n",
    "    ax.set_ylabel('loss', color='blue')\n",
    "    ax.tick_params(axis='y', colors=\"blue\")\n",
    "\n",
    "    ax2 = ax.twinx()\n",
    "    ln3 = ax2.plot(his['train_acc'], 'r--',label='accuracy')\n",
    "    ln4 = ax2.plot(his['val_acc'], 'r-',label='val_accuracy')\n",
    "    ax2.set_ylabel('accuracy', color='red')\n",
    "    ax2.tick_params(axis='y', colors=\"red\")\n",
    "\n",
    "    lns = ln1 + ln2 + ln3 + ln4\n",
    "    labels = [l.get_label() for l in lns]\n",
    "    ax.legend(lns, labels, loc=7)\n",
    "    plt.grid(True)\n",
    "    plt.show()"
   ]
  },
  {
   "cell_type": "code",
   "execution_count": 19,
   "metadata": {},
   "outputs": [],
   "source": [
    "optim_dict = {\"Adam\":optim.Adam, \"Adadelta\":optim.Adadelta, \"Adagrad\":optim.Adagrad,\n",
    "              \"Adamax\":optim.Adamax, \"AdamW\": optim.AdamW, \"ASGD\":optim.ASGD,\n",
    "              \"NAdam\":optim.NAdam, \"RMSprop\":optim.RMSprop, \"RAdam\":optim.RAdam,\n",
    "              \"Rprop\": optim.Rprop, \"SGD\":optim.SGD}\n",
    "\n",
    "\n",
    "# Loss and optimiser\n",
    "# NOTE: Please note that different learning_rates were used for different models at different stages of experimentation.\n",
    "# learning_rate = 0.0001\n",
    "learning_rate = 0.0001\n",
    "loss_fn = nn.CrossEntropyLoss()\n",
    "optimiser = optim_dict[\"Adam\"](model.parameters(), lr=learning_rate)\n",
    "num_epochs = 300"
   ]
  },
  {
   "cell_type": "code",
   "execution_count": 20,
   "metadata": {},
   "outputs": [],
   "source": [
    "history = {\n",
    "    'train_loss': [],\n",
    "    'val_loss': [],\n",
    "    'train_acc': [],\n",
    "    'val_acc': []\n",
    "}"
   ]
  },
  {
   "cell_type": "code",
   "execution_count": 21,
   "metadata": {},
   "outputs": [
    {
     "name": "stderr",
     "output_type": "stream",
     "text": [
      "Epoch 1:  91%|█████████ | 131/144 [00:23<00:02,  5.43it/s]c:\\Users\\Raven\\anaconda3\\Lib\\site-packages\\PIL\\Image.py:1000: UserWarning: Palette images with Transparency expressed in bytes should be converted to RGBA images\n",
      "  warnings.warn(\n",
      "Epoch 1: 100%|██████████| 144/144 [00:25<00:00,  5.58it/s]\n",
      "Validating: 100%|██████████| 36/36 [00:04<00:00,  8.99it/s]\n"
     ]
    },
    {
     "name": "stdout",
     "output_type": "stream",
     "text": [
      "Loss: 2.0274 - Accuracy: 20.3176% - Val Loss: 1.8978 - Val Accuracy: 32.8696% - Top 1 Accuracy: 0.32869565217391306 - Top 5 Accuracy: 0.8339130434782609\n"
     ]
    },
    {
     "name": "stderr",
     "output_type": "stream",
     "text": [
      "Epoch 2: 100%|██████████| 144/144 [00:25<00:00,  5.72it/s]\n",
      "Validating: 100%|██████████| 36/36 [00:03<00:00,  9.13it/s]\n"
     ]
    },
    {
     "name": "stdout",
     "output_type": "stream",
     "text": [
      "Loss: 1.7980 - Accuracy: 39.4823% - Val Loss: 1.7037 - Val Accuracy: 47.3043% - Top 1 Accuracy: 0.47304347826086957 - Top 5 Accuracy: 0.908695652173913\n"
     ]
    },
    {
     "name": "stderr",
     "output_type": "stream",
     "text": [
      "Epoch 3: 100%|██████████| 144/144 [00:24<00:00,  5.76it/s]\n",
      "Validating: 100%|██████████| 36/36 [00:03<00:00,  9.16it/s]\n"
     ]
    },
    {
     "name": "stdout",
     "output_type": "stream",
     "text": [
      "Loss: 1.6296 - Accuracy: 51.3813% - Val Loss: 1.5555 - Val Accuracy: 55.7391% - Top 1 Accuracy: 0.5573913043478261 - Top 5 Accuracy: 0.9382608695652174\n"
     ]
    },
    {
     "name": "stderr",
     "output_type": "stream",
     "text": [
      "Epoch 4: 100%|██████████| 144/144 [00:24<00:00,  5.79it/s]\n",
      "Validating: 100%|██████████| 36/36 [00:03<00:00,  9.09it/s]\n"
     ]
    },
    {
     "name": "stdout",
     "output_type": "stream",
     "text": [
      "Loss: 1.5022 - Accuracy: 56.9502% - Val Loss: 1.4418 - Val Accuracy: 59.5652% - Top 1 Accuracy: 0.5956521739130435 - Top 5 Accuracy: 0.9504347826086956\n"
     ]
    },
    {
     "name": "stderr",
     "output_type": "stream",
     "text": [
      "Epoch 5: 100%|██████████| 144/144 [00:24<00:00,  5.81it/s]\n",
      "Validating: 100%|██████████| 36/36 [00:03<00:00,  9.33it/s]\n"
     ]
    },
    {
     "name": "stdout",
     "output_type": "stream",
     "text": [
      "Loss: 1.3995 - Accuracy: 60.6700% - Val Loss: 1.3515 - Val Accuracy: 62.0870% - Top 1 Accuracy: 0.6208695652173913 - Top 5 Accuracy: 0.957391304347826\n"
     ]
    },
    {
     "name": "stderr",
     "output_type": "stream",
     "text": [
      "Epoch 6: 100%|██████████| 144/144 [00:24<00:00,  5.78it/s]\n",
      "Validating: 100%|██████████| 36/36 [00:04<00:00,  8.94it/s]\n"
     ]
    },
    {
     "name": "stdout",
     "output_type": "stream",
     "text": [
      "Loss: 1.3163 - Accuracy: 63.1281% - Val Loss: 1.2778 - Val Accuracy: 63.9130% - Top 1 Accuracy: 0.6391304347826087 - Top 5 Accuracy: 0.9634782608695652\n"
     ]
    },
    {
     "name": "stderr",
     "output_type": "stream",
     "text": [
      "Epoch 7: 100%|██████████| 144/144 [00:24<00:00,  5.79it/s]\n",
      "Validating: 100%|██████████| 36/36 [00:03<00:00,  9.28it/s]\n"
     ]
    },
    {
     "name": "stdout",
     "output_type": "stream",
     "text": [
      "Loss: 1.2538 - Accuracy: 64.1288% - Val Loss: 1.2163 - Val Accuracy: 64.7826% - Top 1 Accuracy: 0.6478260869565218 - Top 5 Accuracy: 0.9634782608695652\n"
     ]
    },
    {
     "name": "stderr",
     "output_type": "stream",
     "text": [
      "Epoch 8: 100%|██████████| 144/144 [00:25<00:00,  5.75it/s]\n",
      "Validating: 100%|██████████| 36/36 [00:03<00:00,  9.10it/s]\n"
     ]
    },
    {
     "name": "stdout",
     "output_type": "stream",
     "text": [
      "Loss: 1.1899 - Accuracy: 66.7827% - Val Loss: 1.1658 - Val Accuracy: 65.4783% - Top 1 Accuracy: 0.6547826086956522 - Top 5 Accuracy: 0.9669565217391304\n"
     ]
    },
    {
     "name": "stderr",
     "output_type": "stream",
     "text": [
      "Epoch 9: 100%|██████████| 144/144 [00:24<00:00,  5.78it/s]\n",
      "Validating: 100%|██████████| 36/36 [00:03<00:00,  9.28it/s]\n"
     ]
    },
    {
     "name": "stdout",
     "output_type": "stream",
     "text": [
      "Loss: 1.1477 - Accuracy: 66.5869% - Val Loss: 1.1239 - Val Accuracy: 66.5217% - Top 1 Accuracy: 0.6652173913043479 - Top 5 Accuracy: 0.9695652173913043\n"
     ]
    },
    {
     "name": "stderr",
     "output_type": "stream",
     "text": [
      "Epoch 10: 100%|██████████| 144/144 [00:25<00:00,  5.74it/s]\n",
      "Validating: 100%|██████████| 36/36 [00:03<00:00,  9.06it/s]\n"
     ]
    },
    {
     "name": "stdout",
     "output_type": "stream",
     "text": [
      "Loss: 1.1037 - Accuracy: 68.1314% - Val Loss: 1.0874 - Val Accuracy: 66.8696% - Top 1 Accuracy: 0.668695652173913 - Top 5 Accuracy: 0.9721739130434782\n"
     ]
    },
    {
     "name": "stderr",
     "output_type": "stream",
     "text": [
      "Epoch 11: 100%|██████████| 144/144 [00:24<00:00,  5.78it/s]\n",
      "Validating: 100%|██████████| 36/36 [00:03<00:00,  9.31it/s]\n"
     ]
    },
    {
     "name": "stdout",
     "output_type": "stream",
     "text": [
      "Loss: 1.0704 - Accuracy: 68.9580% - Val Loss: 1.0539 - Val Accuracy: 67.5652% - Top 1 Accuracy: 0.6756521739130434 - Top 5 Accuracy: 0.9765217391304348\n"
     ]
    },
    {
     "name": "stderr",
     "output_type": "stream",
     "text": [
      "Epoch 12: 100%|██████████| 144/144 [00:25<00:00,  5.73it/s]\n",
      "Validating: 100%|██████████| 36/36 [00:03<00:00,  9.12it/s]\n"
     ]
    },
    {
     "name": "stdout",
     "output_type": "stream",
     "text": [
      "Loss: 1.0383 - Accuracy: 69.1973% - Val Loss: 1.0247 - Val Accuracy: 68.0870% - Top 1 Accuracy: 0.6808695652173913 - Top 5 Accuracy: 0.98\n"
     ]
    },
    {
     "name": "stderr",
     "output_type": "stream",
     "text": [
      "Epoch 13: 100%|██████████| 144/144 [00:25<00:00,  5.72it/s]\n",
      "Validating: 100%|██████████| 36/36 [00:03<00:00,  9.21it/s]\n"
     ]
    },
    {
     "name": "stdout",
     "output_type": "stream",
     "text": [
      "Loss: 1.0045 - Accuracy: 70.1544% - Val Loss: 0.9973 - Val Accuracy: 68.8696% - Top 1 Accuracy: 0.688695652173913 - Top 5 Accuracy: 0.9817391304347826\n"
     ]
    },
    {
     "name": "stderr",
     "output_type": "stream",
     "text": [
      "Epoch 14: 100%|██████████| 144/144 [00:25<00:00,  5.74it/s]\n",
      "Validating: 100%|██████████| 36/36 [00:04<00:00,  8.99it/s]\n"
     ]
    },
    {
     "name": "stdout",
     "output_type": "stream",
     "text": [
      "Loss: 0.9814 - Accuracy: 70.7418% - Val Loss: 0.9751 - Val Accuracy: 69.1304% - Top 1 Accuracy: 0.691304347826087 - Top 5 Accuracy: 0.9817391304347826\n"
     ]
    },
    {
     "name": "stderr",
     "output_type": "stream",
     "text": [
      "Epoch 15: 100%|██████████| 144/144 [00:25<00:00,  5.75it/s]\n",
      "Validating: 100%|██████████| 36/36 [00:03<00:00,  9.27it/s]\n"
     ]
    },
    {
     "name": "stdout",
     "output_type": "stream",
     "text": [
      "Loss: 0.9617 - Accuracy: 71.0898% - Val Loss: 0.9545 - Val Accuracy: 69.4783% - Top 1 Accuracy: 0.6947826086956522 - Top 5 Accuracy: 0.9817391304347826\n"
     ]
    },
    {
     "name": "stderr",
     "output_type": "stream",
     "text": [
      "Epoch 16: 100%|██████████| 144/144 [00:25<00:00,  5.73it/s]\n",
      "Validating: 100%|██████████| 36/36 [00:03<00:00,  9.24it/s]\n"
     ]
    },
    {
     "name": "stdout",
     "output_type": "stream",
     "text": [
      "Loss: 0.9368 - Accuracy: 72.0035% - Val Loss: 0.9359 - Val Accuracy: 70.1739% - Top 1 Accuracy: 0.7017391304347826 - Top 5 Accuracy: 0.9834782608695652\n"
     ]
    },
    {
     "name": "stderr",
     "output_type": "stream",
     "text": [
      "Epoch 17: 100%|██████████| 144/144 [00:25<00:00,  5.75it/s]\n",
      "Validating: 100%|██████████| 36/36 [00:03<00:00,  9.28it/s]\n"
     ]
    },
    {
     "name": "stdout",
     "output_type": "stream",
     "text": [
      "Loss: 0.9195 - Accuracy: 71.9165% - Val Loss: 0.9197 - Val Accuracy: 70.3478% - Top 1 Accuracy: 0.7034782608695652 - Top 5 Accuracy: 0.9860869565217392\n"
     ]
    },
    {
     "name": "stderr",
     "output_type": "stream",
     "text": [
      "Epoch 18: 100%|██████████| 144/144 [00:25<00:00,  5.74it/s]\n",
      "Validating: 100%|██████████| 36/36 [00:03<00:00,  9.15it/s]\n"
     ]
    },
    {
     "name": "stdout",
     "output_type": "stream",
     "text": [
      "Loss: 0.8997 - Accuracy: 72.8954% - Val Loss: 0.9045 - Val Accuracy: 70.0870% - Top 1 Accuracy: 0.7008695652173913 - Top 5 Accuracy: 0.9843478260869565\n"
     ]
    },
    {
     "name": "stderr",
     "output_type": "stream",
     "text": [
      "Epoch 19: 100%|██████████| 144/144 [00:25<00:00,  5.72it/s]\n",
      "Validating: 100%|██████████| 36/36 [00:03<00:00,  9.20it/s]\n"
     ]
    },
    {
     "name": "stdout",
     "output_type": "stream",
     "text": [
      "Loss: 0.8825 - Accuracy: 72.7866% - Val Loss: 0.8910 - Val Accuracy: 70.2609% - Top 1 Accuracy: 0.7026086956521739 - Top 5 Accuracy: 0.9860869565217392\n"
     ]
    },
    {
     "name": "stderr",
     "output_type": "stream",
     "text": [
      "Epoch 20: 100%|██████████| 144/144 [00:24<00:00,  5.76it/s]\n",
      "Validating: 100%|██████████| 36/36 [00:03<00:00,  9.21it/s]\n"
     ]
    },
    {
     "name": "stdout",
     "output_type": "stream",
     "text": [
      "Loss: 0.8680 - Accuracy: 73.1782% - Val Loss: 0.8778 - Val Accuracy: 70.7826% - Top 1 Accuracy: 0.7078260869565217 - Top 5 Accuracy: 0.9852173913043478\n"
     ]
    },
    {
     "name": "stderr",
     "output_type": "stream",
     "text": [
      "Epoch 21: 100%|██████████| 144/144 [00:25<00:00,  5.73it/s]\n",
      "Validating: 100%|██████████| 36/36 [00:03<00:00,  9.18it/s]\n"
     ]
    },
    {
     "name": "stdout",
     "output_type": "stream",
     "text": [
      "Loss: 0.8605 - Accuracy: 73.0911% - Val Loss: 0.8639 - Val Accuracy: 70.9565% - Top 1 Accuracy: 0.7095652173913043 - Top 5 Accuracy: 0.9869565217391304\n"
     ]
    },
    {
     "name": "stderr",
     "output_type": "stream",
     "text": [
      "Epoch 22: 100%|██████████| 144/144 [00:24<00:00,  5.77it/s]\n",
      "Validating: 100%|██████████| 36/36 [00:03<00:00,  9.30it/s]\n"
     ]
    },
    {
     "name": "stdout",
     "output_type": "stream",
     "text": [
      "Loss: 0.8387 - Accuracy: 74.2658% - Val Loss: 0.8543 - Val Accuracy: 71.0435% - Top 1 Accuracy: 0.7104347826086956 - Top 5 Accuracy: 0.9878260869565217\n"
     ]
    },
    {
     "name": "stderr",
     "output_type": "stream",
     "text": [
      "Epoch 23: 100%|██████████| 144/144 [00:24<00:00,  5.78it/s]\n",
      "Validating: 100%|██████████| 36/36 [00:03<00:00,  9.23it/s]\n"
     ]
    },
    {
     "name": "stdout",
     "output_type": "stream",
     "text": [
      "Loss: 0.8258 - Accuracy: 74.3093% - Val Loss: 0.8447 - Val Accuracy: 70.9565% - Top 1 Accuracy: 0.7095652173913043 - Top 5 Accuracy: 0.9878260869565217\n"
     ]
    },
    {
     "name": "stderr",
     "output_type": "stream",
     "text": [
      "Epoch 24: 100%|██████████| 144/144 [00:25<00:00,  5.74it/s]\n",
      "Validating: 100%|██████████| 36/36 [00:03<00:00,  9.20it/s]\n"
     ]
    },
    {
     "name": "stdout",
     "output_type": "stream",
     "text": [
      "Loss: 0.8103 - Accuracy: 74.7879% - Val Loss: 0.8356 - Val Accuracy: 70.9565% - Top 1 Accuracy: 0.7095652173913043 - Top 5 Accuracy: 0.9878260869565217\n"
     ]
    },
    {
     "name": "stderr",
     "output_type": "stream",
     "text": [
      "Epoch 25: 100%|██████████| 144/144 [00:24<00:00,  5.80it/s]\n",
      "Validating: 100%|██████████| 36/36 [00:03<00:00,  9.00it/s]\n"
     ]
    },
    {
     "name": "stdout",
     "output_type": "stream",
     "text": [
      "Loss: 0.8073 - Accuracy: 74.7009% - Val Loss: 0.8256 - Val Accuracy: 71.1304% - Top 1 Accuracy: 0.711304347826087 - Top 5 Accuracy: 0.9886956521739131\n"
     ]
    },
    {
     "name": "stderr",
     "output_type": "stream",
     "text": [
      "Epoch 26: 100%|██████████| 144/144 [00:24<00:00,  5.79it/s]\n",
      "Validating: 100%|██████████| 36/36 [00:03<00:00,  9.21it/s]\n"
     ]
    },
    {
     "name": "stdout",
     "output_type": "stream",
     "text": [
      "Loss: 0.7939 - Accuracy: 74.8097% - Val Loss: 0.8162 - Val Accuracy: 71.8261% - Top 1 Accuracy: 0.7182608695652174 - Top 5 Accuracy: 0.9886956521739131\n"
     ]
    },
    {
     "name": "stderr",
     "output_type": "stream",
     "text": [
      "Epoch 27: 100%|██████████| 144/144 [00:24<00:00,  5.80it/s]\n",
      "Validating: 100%|██████████| 36/36 [00:03<00:00,  9.19it/s]\n"
     ]
    },
    {
     "name": "stdout",
     "output_type": "stream",
     "text": [
      "Loss: 0.7880 - Accuracy: 75.5275% - Val Loss: 0.8076 - Val Accuracy: 72.1739% - Top 1 Accuracy: 0.7217391304347827 - Top 5 Accuracy: 0.9886956521739131\n"
     ]
    },
    {
     "name": "stderr",
     "output_type": "stream",
     "text": [
      "Epoch 28: 100%|██████████| 144/144 [00:24<00:00,  5.78it/s]\n",
      "Validating: 100%|██████████| 36/36 [00:03<00:00,  9.15it/s]\n"
     ]
    },
    {
     "name": "stdout",
     "output_type": "stream",
     "text": [
      "Loss: 0.7746 - Accuracy: 75.3752% - Val Loss: 0.7992 - Val Accuracy: 72.0870% - Top 1 Accuracy: 0.7208695652173913 - Top 5 Accuracy: 0.9895652173913043\n"
     ]
    },
    {
     "name": "stderr",
     "output_type": "stream",
     "text": [
      "Epoch 29: 100%|██████████| 144/144 [00:24<00:00,  5.77it/s]\n",
      "Validating: 100%|██████████| 36/36 [00:03<00:00,  9.14it/s]\n"
     ]
    },
    {
     "name": "stdout",
     "output_type": "stream",
     "text": [
      "Loss: 0.7698 - Accuracy: 75.8538% - Val Loss: 0.7916 - Val Accuracy: 72.9565% - Top 1 Accuracy: 0.7295652173913043 - Top 5 Accuracy: 0.9895652173913043\n"
     ]
    },
    {
     "name": "stderr",
     "output_type": "stream",
     "text": [
      "Epoch 30: 100%|██████████| 144/144 [00:25<00:00,  5.75it/s]\n",
      "Validating: 100%|██████████| 36/36 [00:03<00:00,  9.17it/s]\n"
     ]
    },
    {
     "name": "stdout",
     "output_type": "stream",
     "text": [
      "Loss: 0.7598 - Accuracy: 75.7015% - Val Loss: 0.7873 - Val Accuracy: 72.5217% - Top 1 Accuracy: 0.7252173913043478 - Top 5 Accuracy: 0.9895652173913043\n"
     ]
    },
    {
     "name": "stderr",
     "output_type": "stream",
     "text": [
      "Epoch 31: 100%|██████████| 144/144 [00:24<00:00,  5.79it/s]\n",
      "Validating: 100%|██████████| 36/36 [00:03<00:00,  9.02it/s]\n"
     ]
    },
    {
     "name": "stdout",
     "output_type": "stream",
     "text": [
      "Loss: 0.7564 - Accuracy: 75.5710% - Val Loss: 0.7821 - Val Accuracy: 73.2174% - Top 1 Accuracy: 0.7321739130434782 - Top 5 Accuracy: 0.9895652173913043\n"
     ]
    },
    {
     "name": "stderr",
     "output_type": "stream",
     "text": [
      "Epoch 32: 100%|██████████| 144/144 [00:25<00:00,  5.76it/s]\n",
      "Validating: 100%|██████████| 36/36 [00:03<00:00,  9.29it/s]\n"
     ]
    },
    {
     "name": "stdout",
     "output_type": "stream",
     "text": [
      "Loss: 0.7417 - Accuracy: 76.3324% - Val Loss: 0.7745 - Val Accuracy: 73.0435% - Top 1 Accuracy: 0.7304347826086957 - Top 5 Accuracy: 0.9886956521739131\n"
     ]
    },
    {
     "name": "stderr",
     "output_type": "stream",
     "text": [
      "Epoch 33: 100%|██████████| 144/144 [00:24<00:00,  5.80it/s]\n",
      "Validating: 100%|██████████| 36/36 [00:03<00:00,  9.07it/s]\n"
     ]
    },
    {
     "name": "stdout",
     "output_type": "stream",
     "text": [
      "Loss: 0.7408 - Accuracy: 76.3541% - Val Loss: 0.7692 - Val Accuracy: 73.1304% - Top 1 Accuracy: 0.731304347826087 - Top 5 Accuracy: 0.9886956521739131\n"
     ]
    },
    {
     "name": "stderr",
     "output_type": "stream",
     "text": [
      "Epoch 34: 100%|██████████| 144/144 [00:25<00:00,  5.74it/s]\n",
      "Validating: 100%|██████████| 36/36 [00:04<00:00,  7.85it/s]\n"
     ]
    },
    {
     "name": "stdout",
     "output_type": "stream",
     "text": [
      "Loss: 0.7362 - Accuracy: 76.6804% - Val Loss: 0.7634 - Val Accuracy: 73.5652% - Top 1 Accuracy: 0.7356521739130435 - Top 5 Accuracy: 0.9886956521739131\n"
     ]
    },
    {
     "name": "stderr",
     "output_type": "stream",
     "text": [
      "Epoch 35: 100%|██████████| 144/144 [00:25<00:00,  5.74it/s]\n",
      "Validating: 100%|██████████| 36/36 [00:03<00:00,  9.26it/s]\n"
     ]
    },
    {
     "name": "stdout",
     "output_type": "stream",
     "text": [
      "Loss: 0.7251 - Accuracy: 76.6587% - Val Loss: 0.7593 - Val Accuracy: 73.3043% - Top 1 Accuracy: 0.7330434782608696 - Top 5 Accuracy: 0.9895652173913043\n"
     ]
    },
    {
     "name": "stderr",
     "output_type": "stream",
     "text": [
      "Epoch 36: 100%|██████████| 144/144 [00:24<00:00,  5.80it/s]\n",
      "Validating: 100%|██████████| 36/36 [00:03<00:00,  9.06it/s]\n"
     ]
    },
    {
     "name": "stdout",
     "output_type": "stream",
     "text": [
      "Loss: 0.7198 - Accuracy: 77.1373% - Val Loss: 0.7525 - Val Accuracy: 73.4783% - Top 1 Accuracy: 0.7347826086956522 - Top 5 Accuracy: 0.9886956521739131\n"
     ]
    },
    {
     "name": "stderr",
     "output_type": "stream",
     "text": [
      "Epoch 37: 100%|██████████| 144/144 [00:24<00:00,  5.77it/s]\n",
      "Validating: 100%|██████████| 36/36 [00:04<00:00,  8.98it/s]\n"
     ]
    },
    {
     "name": "stdout",
     "output_type": "stream",
     "text": [
      "Loss: 0.7115 - Accuracy: 77.5723% - Val Loss: 0.7477 - Val Accuracy: 74.0000% - Top 1 Accuracy: 0.74 - Top 5 Accuracy: 0.9904347826086957\n"
     ]
    },
    {
     "name": "stderr",
     "output_type": "stream",
     "text": [
      "Epoch 38: 100%|██████████| 144/144 [00:25<00:00,  5.68it/s]\n",
      "Validating: 100%|██████████| 36/36 [00:03<00:00,  9.19it/s]\n"
     ]
    },
    {
     "name": "stdout",
     "output_type": "stream",
     "text": [
      "Loss: 0.7037 - Accuracy: 77.2460% - Val Loss: 0.7472 - Val Accuracy: 73.8261% - Top 1 Accuracy: 0.7382608695652174 - Top 5 Accuracy: 0.9895652173913043\n"
     ]
    },
    {
     "name": "stderr",
     "output_type": "stream",
     "text": [
      "Epoch 39: 100%|██████████| 144/144 [00:25<00:00,  5.74it/s]\n",
      "Validating: 100%|██████████| 36/36 [00:03<00:00,  9.17it/s]\n"
     ]
    },
    {
     "name": "stdout",
     "output_type": "stream",
     "text": [
      "Loss: 0.7007 - Accuracy: 77.5071% - Val Loss: 0.7390 - Val Accuracy: 73.7391% - Top 1 Accuracy: 0.7373913043478261 - Top 5 Accuracy: 0.9895652173913043\n"
     ]
    },
    {
     "name": "stderr",
     "output_type": "stream",
     "text": [
      "Epoch 40: 100%|██████████| 144/144 [00:24<00:00,  5.79it/s]\n",
      "Validating: 100%|██████████| 36/36 [00:03<00:00,  9.16it/s]\n"
     ]
    },
    {
     "name": "stdout",
     "output_type": "stream",
     "text": [
      "Loss: 0.6976 - Accuracy: 77.5941% - Val Loss: 0.7350 - Val Accuracy: 74.0870% - Top 1 Accuracy: 0.7408695652173913 - Top 5 Accuracy: 0.9904347826086957\n"
     ]
    },
    {
     "name": "stderr",
     "output_type": "stream",
     "text": [
      "Epoch 41: 100%|██████████| 144/144 [00:25<00:00,  5.74it/s]\n",
      "Validating: 100%|██████████| 36/36 [00:03<00:00,  9.35it/s]\n"
     ]
    },
    {
     "name": "stdout",
     "output_type": "stream",
     "text": [
      "Loss: 0.6940 - Accuracy: 77.1590% - Val Loss: 0.7303 - Val Accuracy: 74.3478% - Top 1 Accuracy: 0.7434782608695653 - Top 5 Accuracy: 0.9904347826086957\n"
     ]
    },
    {
     "name": "stderr",
     "output_type": "stream",
     "text": [
      "Epoch 42: 100%|██████████| 144/144 [00:24<00:00,  5.78it/s]\n",
      "Validating: 100%|██████████| 36/36 [00:03<00:00,  9.15it/s]\n"
     ]
    },
    {
     "name": "stdout",
     "output_type": "stream",
     "text": [
      "Loss: 0.6853 - Accuracy: 78.3554% - Val Loss: 0.7274 - Val Accuracy: 74.5217% - Top 1 Accuracy: 0.7452173913043478 - Top 5 Accuracy: 0.9904347826086957\n"
     ]
    },
    {
     "name": "stderr",
     "output_type": "stream",
     "text": [
      "Epoch 43: 100%|██████████| 144/144 [00:25<00:00,  5.75it/s]\n",
      "Validating: 100%|██████████| 36/36 [00:03<00:00,  9.34it/s]\n"
     ]
    },
    {
     "name": "stdout",
     "output_type": "stream",
     "text": [
      "Loss: 0.6839 - Accuracy: 77.6376% - Val Loss: 0.7226 - Val Accuracy: 74.2609% - Top 1 Accuracy: 0.7426086956521739 - Top 5 Accuracy: 0.9904347826086957\n"
     ]
    },
    {
     "name": "stderr",
     "output_type": "stream",
     "text": [
      "Epoch 44: 100%|██████████| 144/144 [00:25<00:00,  5.76it/s]\n",
      "Validating: 100%|██████████| 36/36 [00:03<00:00,  9.30it/s]\n"
     ]
    },
    {
     "name": "stdout",
     "output_type": "stream",
     "text": [
      "Loss: 0.6749 - Accuracy: 78.3119% - Val Loss: 0.7194 - Val Accuracy: 74.4348% - Top 1 Accuracy: 0.7443478260869565 - Top 5 Accuracy: 0.9904347826086957\n"
     ]
    },
    {
     "name": "stderr",
     "output_type": "stream",
     "text": [
      "Epoch 45: 100%|██████████| 144/144 [00:25<00:00,  5.73it/s]\n",
      "Validating: 100%|██████████| 36/36 [00:03<00:00,  9.14it/s]\n"
     ]
    },
    {
     "name": "stdout",
     "output_type": "stream",
     "text": [
      "Loss: 0.6688 - Accuracy: 78.3772% - Val Loss: 0.7177 - Val Accuracy: 74.2609% - Top 1 Accuracy: 0.7426086956521739 - Top 5 Accuracy: 0.9904347826086957\n"
     ]
    },
    {
     "name": "stderr",
     "output_type": "stream",
     "text": [
      "Epoch 46: 100%|██████████| 144/144 [00:25<00:00,  5.73it/s]\n",
      "Validating: 100%|██████████| 36/36 [00:03<00:00,  9.34it/s]\n"
     ]
    },
    {
     "name": "stdout",
     "output_type": "stream",
     "text": [
      "Loss: 0.6701 - Accuracy: 78.3554% - Val Loss: 0.7125 - Val Accuracy: 74.7826% - Top 1 Accuracy: 0.7478260869565218 - Top 5 Accuracy: 0.9904347826086957\n"
     ]
    },
    {
     "name": "stderr",
     "output_type": "stream",
     "text": [
      "Epoch 47: 100%|██████████| 144/144 [00:25<00:00,  5.75it/s]\n",
      "Validating: 100%|██████████| 36/36 [00:03<00:00,  9.07it/s]\n"
     ]
    },
    {
     "name": "stdout",
     "output_type": "stream",
     "text": [
      "Loss: 0.6634 - Accuracy: 78.6165% - Val Loss: 0.7096 - Val Accuracy: 74.9565% - Top 1 Accuracy: 0.7495652173913043 - Top 5 Accuracy: 0.9904347826086957\n"
     ]
    },
    {
     "name": "stderr",
     "output_type": "stream",
     "text": [
      "Epoch 48: 100%|██████████| 144/144 [00:24<00:00,  5.78it/s]\n",
      "Validating: 100%|██████████| 36/36 [00:04<00:00,  9.00it/s]\n"
     ]
    },
    {
     "name": "stdout",
     "output_type": "stream",
     "text": [
      "Loss: 0.6566 - Accuracy: 78.6165% - Val Loss: 0.7071 - Val Accuracy: 74.6087% - Top 1 Accuracy: 0.7460869565217392 - Top 5 Accuracy: 0.9904347826086957\n"
     ]
    },
    {
     "name": "stderr",
     "output_type": "stream",
     "text": [
      "Epoch 49: 100%|██████████| 144/144 [00:24<00:00,  5.78it/s]\n",
      "Validating: 100%|██████████| 36/36 [00:03<00:00,  9.70it/s]\n"
     ]
    },
    {
     "name": "stdout",
     "output_type": "stream",
     "text": [
      "Loss: 0.6565 - Accuracy: 78.7905% - Val Loss: 0.7031 - Val Accuracy: 75.4783% - Top 1 Accuracy: 0.7547826086956522 - Top 5 Accuracy: 0.9904347826086957\n"
     ]
    },
    {
     "name": "stderr",
     "output_type": "stream",
     "text": [
      "Epoch 50: 100%|██████████| 144/144 [00:24<00:00,  5.92it/s]\n",
      "Validating: 100%|██████████| 36/36 [00:03<00:00,  9.68it/s]\n"
     ]
    },
    {
     "name": "stdout",
     "output_type": "stream",
     "text": [
      "Loss: 0.6559 - Accuracy: 78.8123% - Val Loss: 0.7007 - Val Accuracy: 75.3043% - Top 1 Accuracy: 0.7530434782608696 - Top 5 Accuracy: 0.9904347826086957\n"
     ]
    },
    {
     "name": "stderr",
     "output_type": "stream",
     "text": [
      "Epoch 51: 100%|██████████| 144/144 [00:24<00:00,  5.93it/s]\n",
      "Validating: 100%|██████████| 36/36 [00:03<00:00,  9.54it/s]\n"
     ]
    },
    {
     "name": "stdout",
     "output_type": "stream",
     "text": [
      "Loss: 0.6559 - Accuracy: 78.5512% - Val Loss: 0.6980 - Val Accuracy: 75.0435% - Top 1 Accuracy: 0.7504347826086957 - Top 5 Accuracy: 0.9904347826086957\n"
     ]
    },
    {
     "name": "stderr",
     "output_type": "stream",
     "text": [
      "Epoch 52: 100%|██████████| 144/144 [00:24<00:00,  5.96it/s]\n",
      "Validating: 100%|██████████| 36/36 [00:03<00:00,  9.73it/s]\n"
     ]
    },
    {
     "name": "stdout",
     "output_type": "stream",
     "text": [
      "Loss: 0.6516 - Accuracy: 78.7035% - Val Loss: 0.6970 - Val Accuracy: 75.2174% - Top 1 Accuracy: 0.7521739130434782 - Top 5 Accuracy: 0.9904347826086957\n"
     ]
    },
    {
     "name": "stderr",
     "output_type": "stream",
     "text": [
      "Epoch 53: 100%|██████████| 144/144 [00:24<00:00,  5.99it/s]\n",
      "Validating: 100%|██████████| 36/36 [00:03<00:00,  9.55it/s]\n"
     ]
    },
    {
     "name": "stdout",
     "output_type": "stream",
     "text": [
      "Loss: 0.6430 - Accuracy: 78.8775% - Val Loss: 0.6941 - Val Accuracy: 75.3043% - Top 1 Accuracy: 0.7530434782608696 - Top 5 Accuracy: 0.9904347826086957\n"
     ]
    },
    {
     "name": "stderr",
     "output_type": "stream",
     "text": [
      "Epoch 54: 100%|██████████| 144/144 [00:24<00:00,  5.98it/s]\n",
      "Validating: 100%|██████████| 36/36 [00:03<00:00,  9.37it/s]\n"
     ]
    },
    {
     "name": "stdout",
     "output_type": "stream",
     "text": [
      "Loss: 0.6373 - Accuracy: 78.5077% - Val Loss: 0.6904 - Val Accuracy: 75.6522% - Top 1 Accuracy: 0.7565217391304347 - Top 5 Accuracy: 0.9904347826086957\n"
     ]
    },
    {
     "name": "stderr",
     "output_type": "stream",
     "text": [
      "Epoch 55: 100%|██████████| 144/144 [00:23<00:00,  6.00it/s]\n",
      "Validating: 100%|██████████| 36/36 [00:03<00:00,  9.58it/s]\n"
     ]
    },
    {
     "name": "stdout",
     "output_type": "stream",
     "text": [
      "Loss: 0.6392 - Accuracy: 78.8123% - Val Loss: 0.6878 - Val Accuracy: 76.0000% - Top 1 Accuracy: 0.76 - Top 5 Accuracy: 0.9904347826086957\n"
     ]
    },
    {
     "name": "stderr",
     "output_type": "stream",
     "text": [
      "Epoch 56: 100%|██████████| 144/144 [00:23<00:00,  6.10it/s]\n",
      "Validating: 100%|██████████| 36/36 [00:03<00:00,  9.67it/s]\n"
     ]
    },
    {
     "name": "stdout",
     "output_type": "stream",
     "text": [
      "Loss: 0.6375 - Accuracy: 78.9863% - Val Loss: 0.6865 - Val Accuracy: 75.7391% - Top 1 Accuracy: 0.7573913043478261 - Top 5 Accuracy: 0.9904347826086957\n"
     ]
    },
    {
     "name": "stderr",
     "output_type": "stream",
     "text": [
      "Epoch 57: 100%|██████████| 144/144 [00:24<00:00,  5.96it/s]\n",
      "Validating: 100%|██████████| 36/36 [00:03<00:00,  9.74it/s]\n"
     ]
    },
    {
     "name": "stdout",
     "output_type": "stream",
     "text": [
      "Loss: 0.6347 - Accuracy: 79.1168% - Val Loss: 0.6840 - Val Accuracy: 76.0000% - Top 1 Accuracy: 0.76 - Top 5 Accuracy: 0.9904347826086957\n"
     ]
    },
    {
     "name": "stderr",
     "output_type": "stream",
     "text": [
      "Epoch 58: 100%|██████████| 144/144 [00:24<00:00,  5.98it/s]\n",
      "Validating: 100%|██████████| 36/36 [00:03<00:00,  9.97it/s]\n"
     ]
    },
    {
     "name": "stdout",
     "output_type": "stream",
     "text": [
      "Loss: 0.6238 - Accuracy: 79.3126% - Val Loss: 0.6824 - Val Accuracy: 75.8261% - Top 1 Accuracy: 0.7582608695652174 - Top 5 Accuracy: 0.9904347826086957\n"
     ]
    },
    {
     "name": "stderr",
     "output_type": "stream",
     "text": [
      "Epoch 59: 100%|██████████| 144/144 [00:25<00:00,  5.62it/s]\n",
      "Validating: 100%|██████████| 36/36 [00:04<00:00,  8.92it/s]\n"
     ]
    },
    {
     "name": "stdout",
     "output_type": "stream",
     "text": [
      "Loss: 0.6241 - Accuracy: 79.8347% - Val Loss: 0.6805 - Val Accuracy: 76.0870% - Top 1 Accuracy: 0.7608695652173914 - Top 5 Accuracy: 0.9904347826086957\n"
     ]
    },
    {
     "name": "stderr",
     "output_type": "stream",
     "text": [
      "Epoch 60: 100%|██████████| 144/144 [00:25<00:00,  5.73it/s]\n",
      "Validating: 100%|██████████| 36/36 [00:04<00:00,  8.98it/s]\n"
     ]
    },
    {
     "name": "stdout",
     "output_type": "stream",
     "text": [
      "Loss: 0.6219 - Accuracy: 79.7042% - Val Loss: 0.6775 - Val Accuracy: 75.9130% - Top 1 Accuracy: 0.7591304347826087 - Top 5 Accuracy: 0.9904347826086957\n"
     ]
    },
    {
     "name": "stderr",
     "output_type": "stream",
     "text": [
      "Epoch 61: 100%|██████████| 144/144 [00:26<00:00,  5.54it/s]\n",
      "Validating: 100%|██████████| 36/36 [00:04<00:00,  8.80it/s]\n"
     ]
    },
    {
     "name": "stdout",
     "output_type": "stream",
     "text": [
      "Loss: 0.6207 - Accuracy: 79.3996% - Val Loss: 0.6768 - Val Accuracy: 75.9130% - Top 1 Accuracy: 0.7591304347826087 - Top 5 Accuracy: 0.9904347826086957\n"
     ]
    },
    {
     "name": "stderr",
     "output_type": "stream",
     "text": [
      "Epoch 62: 100%|██████████| 144/144 [00:25<00:00,  5.54it/s]\n",
      "Validating: 100%|██████████| 36/36 [00:03<00:00,  9.91it/s]\n"
     ]
    },
    {
     "name": "stdout",
     "output_type": "stream",
     "text": [
      "Loss: 0.6220 - Accuracy: 79.2691% - Val Loss: 0.6760 - Val Accuracy: 75.6522% - Top 1 Accuracy: 0.7565217391304347 - Top 5 Accuracy: 0.9904347826086957\n"
     ]
    },
    {
     "name": "stderr",
     "output_type": "stream",
     "text": [
      "Epoch 63: 100%|██████████| 144/144 [00:25<00:00,  5.62it/s]\n",
      "Validating: 100%|██████████| 36/36 [00:04<00:00,  8.79it/s]\n"
     ]
    },
    {
     "name": "stdout",
     "output_type": "stream",
     "text": [
      "Loss: 0.6102 - Accuracy: 80.0522% - Val Loss: 0.6722 - Val Accuracy: 76.2609% - Top 1 Accuracy: 0.7626086956521739 - Top 5 Accuracy: 0.9904347826086957\n"
     ]
    },
    {
     "name": "stderr",
     "output_type": "stream",
     "text": [
      "Epoch 64: 100%|██████████| 144/144 [00:26<00:00,  5.46it/s]\n",
      "Validating: 100%|██████████| 36/36 [00:04<00:00,  8.88it/s]\n"
     ]
    },
    {
     "name": "stdout",
     "output_type": "stream",
     "text": [
      "Loss: 0.6032 - Accuracy: 80.0522% - Val Loss: 0.6705 - Val Accuracy: 76.4348% - Top 1 Accuracy: 0.7643478260869565 - Top 5 Accuracy: 0.9904347826086957\n"
     ]
    },
    {
     "name": "stderr",
     "output_type": "stream",
     "text": [
      "Epoch 65: 100%|██████████| 144/144 [00:25<00:00,  5.54it/s]\n",
      "Validating: 100%|██████████| 36/36 [00:03<00:00,  9.27it/s]\n"
     ]
    },
    {
     "name": "stdout",
     "output_type": "stream",
     "text": [
      "Loss: 0.6111 - Accuracy: 79.2473% - Val Loss: 0.6680 - Val Accuracy: 76.4348% - Top 1 Accuracy: 0.7643478260869565 - Top 5 Accuracy: 0.9904347826086957\n"
     ]
    },
    {
     "name": "stderr",
     "output_type": "stream",
     "text": [
      "Epoch 66: 100%|██████████| 144/144 [00:26<00:00,  5.47it/s]\n",
      "Validating: 100%|██████████| 36/36 [00:04<00:00,  8.98it/s]\n"
     ]
    },
    {
     "name": "stdout",
     "output_type": "stream",
     "text": [
      "Loss: 0.6077 - Accuracy: 79.5954% - Val Loss: 0.6651 - Val Accuracy: 76.9565% - Top 1 Accuracy: 0.7695652173913043 - Top 5 Accuracy: 0.9904347826086957\n"
     ]
    },
    {
     "name": "stderr",
     "output_type": "stream",
     "text": [
      "Epoch 67: 100%|██████████| 144/144 [00:26<00:00,  5.50it/s]\n",
      "Validating: 100%|██████████| 36/36 [00:04<00:00,  8.97it/s]\n"
     ]
    },
    {
     "name": "stdout",
     "output_type": "stream",
     "text": [
      "Loss: 0.6014 - Accuracy: 80.2045% - Val Loss: 0.6638 - Val Accuracy: 76.5217% - Top 1 Accuracy: 0.7652173913043478 - Top 5 Accuracy: 0.9904347826086957\n"
     ]
    },
    {
     "name": "stderr",
     "output_type": "stream",
     "text": [
      "Epoch 68: 100%|██████████| 144/144 [00:26<00:00,  5.51it/s]\n",
      "Validating: 100%|██████████| 36/36 [00:03<00:00,  9.05it/s]\n"
     ]
    },
    {
     "name": "stdout",
     "output_type": "stream",
     "text": [
      "Loss: 0.6011 - Accuracy: 79.9217% - Val Loss: 0.6630 - Val Accuracy: 76.5217% - Top 1 Accuracy: 0.7652173913043478 - Top 5 Accuracy: 0.9904347826086957\n"
     ]
    },
    {
     "name": "stderr",
     "output_type": "stream",
     "text": [
      "Epoch 69: 100%|██████████| 144/144 [00:25<00:00,  5.56it/s]\n",
      "Validating: 100%|██████████| 36/36 [00:03<00:00,  9.03it/s]\n"
     ]
    },
    {
     "name": "stdout",
     "output_type": "stream",
     "text": [
      "Loss: 0.6017 - Accuracy: 79.9434% - Val Loss: 0.6611 - Val Accuracy: 76.6087% - Top 1 Accuracy: 0.7660869565217391 - Top 5 Accuracy: 0.9904347826086957\n"
     ]
    },
    {
     "name": "stderr",
     "output_type": "stream",
     "text": [
      "Epoch 70: 100%|██████████| 144/144 [00:25<00:00,  5.56it/s]\n",
      "Validating: 100%|██████████| 36/36 [00:04<00:00,  8.95it/s]\n"
     ]
    },
    {
     "name": "stdout",
     "output_type": "stream",
     "text": [
      "Loss: 0.5968 - Accuracy: 80.7048% - Val Loss: 0.6595 - Val Accuracy: 76.6957% - Top 1 Accuracy: 0.7669565217391304 - Top 5 Accuracy: 0.9904347826086957\n"
     ]
    },
    {
     "name": "stderr",
     "output_type": "stream",
     "text": [
      "Epoch 71: 100%|██████████| 144/144 [00:25<00:00,  5.57it/s]\n",
      "Validating: 100%|██████████| 36/36 [00:04<00:00,  8.99it/s]\n"
     ]
    },
    {
     "name": "stdout",
     "output_type": "stream",
     "text": [
      "Loss: 0.5979 - Accuracy: 80.4655% - Val Loss: 0.6579 - Val Accuracy: 76.9565% - Top 1 Accuracy: 0.7695652173913043 - Top 5 Accuracy: 0.991304347826087\n"
     ]
    },
    {
     "name": "stderr",
     "output_type": "stream",
     "text": [
      "Epoch 72: 100%|██████████| 144/144 [00:25<00:00,  5.58it/s]\n",
      "Validating: 100%|██████████| 36/36 [00:04<00:00,  8.93it/s]\n"
     ]
    },
    {
     "name": "stdout",
     "output_type": "stream",
     "text": [
      "Loss: 0.5942 - Accuracy: 79.9652% - Val Loss: 0.6568 - Val Accuracy: 76.9565% - Top 1 Accuracy: 0.7695652173913043 - Top 5 Accuracy: 0.991304347826087\n"
     ]
    },
    {
     "name": "stderr",
     "output_type": "stream",
     "text": [
      "Epoch 73: 100%|██████████| 144/144 [00:25<00:00,  5.59it/s]\n",
      "Validating: 100%|██████████| 36/36 [00:03<00:00,  9.11it/s]\n"
     ]
    },
    {
     "name": "stdout",
     "output_type": "stream",
     "text": [
      "Loss: 0.5923 - Accuracy: 79.9869% - Val Loss: 0.6547 - Val Accuracy: 76.8696% - Top 1 Accuracy: 0.768695652173913 - Top 5 Accuracy: 0.991304347826087\n"
     ]
    },
    {
     "name": "stderr",
     "output_type": "stream",
     "text": [
      "Epoch 74: 100%|██████████| 144/144 [00:25<00:00,  5.61it/s]\n",
      "Validating: 100%|██████████| 36/36 [00:03<00:00,  9.00it/s]\n"
     ]
    },
    {
     "name": "stdout",
     "output_type": "stream",
     "text": [
      "Loss: 0.6003 - Accuracy: 79.4866% - Val Loss: 0.6537 - Val Accuracy: 76.7826% - Top 1 Accuracy: 0.7678260869565218 - Top 5 Accuracy: 0.991304347826087\n"
     ]
    },
    {
     "name": "stderr",
     "output_type": "stream",
     "text": [
      "Epoch 75: 100%|██████████| 144/144 [00:25<00:00,  5.56it/s]\n",
      "Validating: 100%|██████████| 36/36 [00:04<00:00,  8.88it/s]\n"
     ]
    },
    {
     "name": "stdout",
     "output_type": "stream",
     "text": [
      "Loss: 0.5850 - Accuracy: 80.3132% - Val Loss: 0.6503 - Val Accuracy: 77.1304% - Top 1 Accuracy: 0.7713043478260869 - Top 5 Accuracy: 0.991304347826087\n"
     ]
    },
    {
     "name": "stderr",
     "output_type": "stream",
     "text": [
      "Epoch 76: 100%|██████████| 144/144 [00:25<00:00,  5.62it/s]\n",
      "Validating: 100%|██████████| 36/36 [00:04<00:00,  9.00it/s]\n"
     ]
    },
    {
     "name": "stdout",
     "output_type": "stream",
     "text": [
      "Loss: 0.5811 - Accuracy: 80.6613% - Val Loss: 0.6509 - Val Accuracy: 76.7826% - Top 1 Accuracy: 0.7678260869565218 - Top 5 Accuracy: 0.991304347826087\n"
     ]
    },
    {
     "name": "stderr",
     "output_type": "stream",
     "text": [
      "Epoch 77: 100%|██████████| 144/144 [00:25<00:00,  5.58it/s]\n",
      "Validating: 100%|██████████| 36/36 [00:03<00:00,  9.02it/s]\n"
     ]
    },
    {
     "name": "stdout",
     "output_type": "stream",
     "text": [
      "Loss: 0.5825 - Accuracy: 80.7048% - Val Loss: 0.6479 - Val Accuracy: 77.0435% - Top 1 Accuracy: 0.7704347826086957 - Top 5 Accuracy: 0.991304347826087\n"
     ]
    },
    {
     "name": "stderr",
     "output_type": "stream",
     "text": [
      "Epoch 78: 100%|██████████| 144/144 [00:25<00:00,  5.60it/s]\n",
      "Validating: 100%|██████████| 36/36 [00:03<00:00,  9.05it/s]\n"
     ]
    },
    {
     "name": "stdout",
     "output_type": "stream",
     "text": [
      "Loss: 0.5894 - Accuracy: 80.7266% - Val Loss: 0.6476 - Val Accuracy: 77.1304% - Top 1 Accuracy: 0.7713043478260869 - Top 5 Accuracy: 0.991304347826087\n"
     ]
    },
    {
     "name": "stderr",
     "output_type": "stream",
     "text": [
      "Epoch 79: 100%|██████████| 144/144 [00:25<00:00,  5.56it/s]\n",
      "Validating: 100%|██████████| 36/36 [00:03<00:00,  9.01it/s]\n"
     ]
    },
    {
     "name": "stdout",
     "output_type": "stream",
     "text": [
      "Loss: 0.5789 - Accuracy: 80.7701% - Val Loss: 0.6459 - Val Accuracy: 77.0435% - Top 1 Accuracy: 0.7704347826086957 - Top 5 Accuracy: 0.991304347826087\n"
     ]
    },
    {
     "name": "stderr",
     "output_type": "stream",
     "text": [
      "Epoch 80: 100%|██████████| 144/144 [00:25<00:00,  5.62it/s]\n",
      "Validating: 100%|██████████| 36/36 [00:04<00:00,  8.94it/s]\n"
     ]
    },
    {
     "name": "stdout",
     "output_type": "stream",
     "text": [
      "Loss: 0.5844 - Accuracy: 81.0094% - Val Loss: 0.6441 - Val Accuracy: 76.8696% - Top 1 Accuracy: 0.768695652173913 - Top 5 Accuracy: 0.991304347826087\n"
     ]
    },
    {
     "name": "stderr",
     "output_type": "stream",
     "text": [
      "Epoch 81: 100%|██████████| 144/144 [00:25<00:00,  5.58it/s]\n",
      "Validating: 100%|██████████| 36/36 [00:03<00:00,  9.03it/s]\n"
     ]
    },
    {
     "name": "stdout",
     "output_type": "stream",
     "text": [
      "Loss: 0.5822 - Accuracy: 80.4220% - Val Loss: 0.6446 - Val Accuracy: 77.2174% - Top 1 Accuracy: 0.7721739130434783 - Top 5 Accuracy: 0.991304347826087\n"
     ]
    },
    {
     "name": "stderr",
     "output_type": "stream",
     "text": [
      "Epoch 82: 100%|██████████| 144/144 [00:25<00:00,  5.58it/s]\n",
      "Validating: 100%|██████████| 36/36 [00:03<00:00,  9.02it/s]\n"
     ]
    },
    {
     "name": "stdout",
     "output_type": "stream",
     "text": [
      "Loss: 0.5759 - Accuracy: 81.1616% - Val Loss: 0.6424 - Val Accuracy: 77.3043% - Top 1 Accuracy: 0.7730434782608696 - Top 5 Accuracy: 0.991304347826087\n"
     ]
    },
    {
     "name": "stderr",
     "output_type": "stream",
     "text": [
      "Epoch 83: 100%|██████████| 144/144 [00:24<00:00,  5.77it/s]\n",
      "Validating: 100%|██████████| 36/36 [00:03<00:00, 10.59it/s]\n"
     ]
    },
    {
     "name": "stdout",
     "output_type": "stream",
     "text": [
      "Loss: 0.5793 - Accuracy: 80.3350% - Val Loss: 0.6406 - Val Accuracy: 77.2174% - Top 1 Accuracy: 0.7721739130434783 - Top 5 Accuracy: 0.991304347826087\n"
     ]
    },
    {
     "name": "stderr",
     "output_type": "stream",
     "text": [
      "Epoch 84: 100%|██████████| 144/144 [00:22<00:00,  6.29it/s]\n",
      "Validating: 100%|██████████| 36/36 [00:03<00:00, 10.63it/s]\n"
     ]
    },
    {
     "name": "stdout",
     "output_type": "stream",
     "text": [
      "Loss: 0.5748 - Accuracy: 80.7701% - Val Loss: 0.6408 - Val Accuracy: 77.4783% - Top 1 Accuracy: 0.7747826086956522 - Top 5 Accuracy: 0.991304347826087\n"
     ]
    },
    {
     "name": "stderr",
     "output_type": "stream",
     "text": [
      "Epoch 85: 100%|██████████| 144/144 [00:22<00:00,  6.33it/s]\n",
      "Validating: 100%|██████████| 36/36 [00:03<00:00, 10.65it/s]\n"
     ]
    },
    {
     "name": "stdout",
     "output_type": "stream",
     "text": [
      "Loss: 0.5637 - Accuracy: 81.1616% - Val Loss: 0.6402 - Val Accuracy: 77.3043% - Top 1 Accuracy: 0.7730434782608696 - Top 5 Accuracy: 0.991304347826087\n"
     ]
    },
    {
     "name": "stderr",
     "output_type": "stream",
     "text": [
      "Epoch 86: 100%|██████████| 144/144 [00:22<00:00,  6.26it/s]\n",
      "Validating: 100%|██████████| 36/36 [00:03<00:00, 10.59it/s]\n"
     ]
    },
    {
     "name": "stdout",
     "output_type": "stream",
     "text": [
      "Loss: 0.5708 - Accuracy: 81.1616% - Val Loss: 0.6398 - Val Accuracy: 77.2174% - Top 1 Accuracy: 0.7721739130434783 - Top 5 Accuracy: 0.991304347826087\n"
     ]
    },
    {
     "name": "stderr",
     "output_type": "stream",
     "text": [
      "Epoch 87: 100%|██████████| 144/144 [00:22<00:00,  6.27it/s]\n",
      "Validating: 100%|██████████| 36/36 [00:03<00:00, 10.69it/s]\n"
     ]
    },
    {
     "name": "stdout",
     "output_type": "stream",
     "text": [
      "Loss: 0.5700 - Accuracy: 81.0311% - Val Loss: 0.6375 - Val Accuracy: 77.6522% - Top 1 Accuracy: 0.7765217391304348 - Top 5 Accuracy: 0.991304347826087\n"
     ]
    },
    {
     "name": "stderr",
     "output_type": "stream",
     "text": [
      "Epoch 88: 100%|██████████| 144/144 [00:22<00:00,  6.29it/s]\n",
      "Validating: 100%|██████████| 36/36 [00:03<00:00, 10.32it/s]\n"
     ]
    },
    {
     "name": "stdout",
     "output_type": "stream",
     "text": [
      "Loss: 0.5672 - Accuracy: 81.0746% - Val Loss: 0.6370 - Val Accuracy: 77.4783% - Top 1 Accuracy: 0.7747826086956522 - Top 5 Accuracy: 0.991304347826087\n"
     ]
    },
    {
     "name": "stderr",
     "output_type": "stream",
     "text": [
      "Epoch 89: 100%|██████████| 144/144 [00:22<00:00,  6.27it/s]\n",
      "Validating: 100%|██████████| 36/36 [00:03<00:00, 10.41it/s]\n"
     ]
    },
    {
     "name": "stdout",
     "output_type": "stream",
     "text": [
      "Loss: 0.5703 - Accuracy: 80.2045% - Val Loss: 0.6353 - Val Accuracy: 77.6522% - Top 1 Accuracy: 0.7765217391304348 - Top 5 Accuracy: 0.991304347826087\n"
     ]
    },
    {
     "name": "stderr",
     "output_type": "stream",
     "text": [
      "Epoch 90: 100%|██████████| 144/144 [00:23<00:00,  6.23it/s]\n",
      "Validating: 100%|██████████| 36/36 [00:03<00:00, 10.86it/s]\n"
     ]
    },
    {
     "name": "stdout",
     "output_type": "stream",
     "text": [
      "Loss: 0.5652 - Accuracy: 80.6178% - Val Loss: 0.6328 - Val Accuracy: 77.9130% - Top 1 Accuracy: 0.7791304347826087 - Top 5 Accuracy: 0.9904347826086957\n"
     ]
    },
    {
     "name": "stderr",
     "output_type": "stream",
     "text": [
      "Epoch 91: 100%|██████████| 144/144 [00:22<00:00,  6.27it/s]\n",
      "Validating: 100%|██████████| 36/36 [00:03<00:00, 10.80it/s]\n"
     ]
    },
    {
     "name": "stdout",
     "output_type": "stream",
     "text": [
      "Loss: 0.5632 - Accuracy: 81.2921% - Val Loss: 0.6340 - Val Accuracy: 77.9130% - Top 1 Accuracy: 0.7791304347826087 - Top 5 Accuracy: 0.991304347826087\n"
     ]
    },
    {
     "name": "stderr",
     "output_type": "stream",
     "text": [
      "Epoch 92: 100%|██████████| 144/144 [00:22<00:00,  6.29it/s]\n",
      "Validating: 100%|██████████| 36/36 [00:03<00:00, 10.49it/s]\n"
     ]
    },
    {
     "name": "stdout",
     "output_type": "stream",
     "text": [
      "Loss: 0.5614 - Accuracy: 81.2051% - Val Loss: 0.6325 - Val Accuracy: 77.9130% - Top 1 Accuracy: 0.7791304347826087 - Top 5 Accuracy: 0.991304347826087\n"
     ]
    },
    {
     "name": "stderr",
     "output_type": "stream",
     "text": [
      "Epoch 93: 100%|██████████| 144/144 [00:23<00:00,  6.24it/s]\n",
      "Validating: 100%|██████████| 36/36 [00:03<00:00, 10.78it/s]\n"
     ]
    },
    {
     "name": "stdout",
     "output_type": "stream",
     "text": [
      "Loss: 0.5625 - Accuracy: 80.5308% - Val Loss: 0.6314 - Val Accuracy: 77.7391% - Top 1 Accuracy: 0.7773913043478261 - Top 5 Accuracy: 0.991304347826087\n"
     ]
    },
    {
     "name": "stderr",
     "output_type": "stream",
     "text": [
      "Epoch 94: 100%|██████████| 144/144 [00:23<00:00,  6.26it/s]\n",
      "Validating: 100%|██████████| 36/36 [00:03<00:00, 10.78it/s]\n"
     ]
    },
    {
     "name": "stdout",
     "output_type": "stream",
     "text": [
      "Loss: 0.5560 - Accuracy: 81.3357% - Val Loss: 0.6298 - Val Accuracy: 77.9130% - Top 1 Accuracy: 0.7791304347826087 - Top 5 Accuracy: 0.991304347826087\n"
     ]
    },
    {
     "name": "stderr",
     "output_type": "stream",
     "text": [
      "Epoch 95: 100%|██████████| 144/144 [00:23<00:00,  6.18it/s]\n",
      "Validating: 100%|██████████| 36/36 [00:03<00:00, 10.44it/s]\n"
     ]
    },
    {
     "name": "stdout",
     "output_type": "stream",
     "text": [
      "Loss: 0.5589 - Accuracy: 81.5967% - Val Loss: 0.6299 - Val Accuracy: 77.7391% - Top 1 Accuracy: 0.7773913043478261 - Top 5 Accuracy: 0.991304347826087\n"
     ]
    },
    {
     "name": "stderr",
     "output_type": "stream",
     "text": [
      "Epoch 96: 100%|██████████| 144/144 [00:23<00:00,  6.17it/s]\n",
      "Validating: 100%|██████████| 36/36 [00:03<00:00, 10.47it/s]\n"
     ]
    },
    {
     "name": "stdout",
     "output_type": "stream",
     "text": [
      "Loss: 0.5483 - Accuracy: 81.4879% - Val Loss: 0.6287 - Val Accuracy: 77.7391% - Top 1 Accuracy: 0.7773913043478261 - Top 5 Accuracy: 0.9904347826086957\n"
     ]
    },
    {
     "name": "stderr",
     "output_type": "stream",
     "text": [
      "Epoch 97: 100%|██████████| 144/144 [00:23<00:00,  6.19it/s]\n",
      "Validating: 100%|██████████| 36/36 [00:03<00:00, 10.44it/s]\n"
     ]
    },
    {
     "name": "stdout",
     "output_type": "stream",
     "text": [
      "Loss: 0.5553 - Accuracy: 81.5967% - Val Loss: 0.6278 - Val Accuracy: 78.0000% - Top 1 Accuracy: 0.78 - Top 5 Accuracy: 0.9904347826086957\n"
     ]
    },
    {
     "name": "stderr",
     "output_type": "stream",
     "text": [
      "Epoch 98: 100%|██████████| 144/144 [00:23<00:00,  6.21it/s]\n",
      "Validating: 100%|██████████| 36/36 [00:03<00:00, 10.43it/s]\n"
     ]
    },
    {
     "name": "stdout",
     "output_type": "stream",
     "text": [
      "Loss: 0.5457 - Accuracy: 81.4009% - Val Loss: 0.6276 - Val Accuracy: 77.8261% - Top 1 Accuracy: 0.7782608695652173 - Top 5 Accuracy: 0.991304347826087\n"
     ]
    },
    {
     "name": "stderr",
     "output_type": "stream",
     "text": [
      "Epoch 99: 100%|██████████| 144/144 [00:23<00:00,  6.22it/s]\n",
      "Validating: 100%|██████████| 36/36 [00:03<00:00, 10.40it/s]\n"
     ]
    },
    {
     "name": "stdout",
     "output_type": "stream",
     "text": [
      "Loss: 0.5486 - Accuracy: 81.4009% - Val Loss: 0.6264 - Val Accuracy: 78.0000% - Top 1 Accuracy: 0.78 - Top 5 Accuracy: 0.991304347826087\n"
     ]
    },
    {
     "name": "stderr",
     "output_type": "stream",
     "text": [
      "Epoch 100: 100%|██████████| 144/144 [00:23<00:00,  6.19it/s]\n",
      "Validating: 100%|██████████| 36/36 [00:03<00:00, 10.41it/s]\n"
     ]
    },
    {
     "name": "stdout",
     "output_type": "stream",
     "text": [
      "Loss: 0.5532 - Accuracy: 80.9658% - Val Loss: 0.6268 - Val Accuracy: 78.0000% - Top 1 Accuracy: 0.78 - Top 5 Accuracy: 0.991304347826087\n"
     ]
    },
    {
     "name": "stderr",
     "output_type": "stream",
     "text": [
      "Epoch 101: 100%|██████████| 144/144 [00:23<00:00,  6.07it/s]\n",
      "Validating: 100%|██████████| 36/36 [00:03<00:00, 10.11it/s]\n"
     ]
    },
    {
     "name": "stdout",
     "output_type": "stream",
     "text": [
      "Loss: 0.5583 - Accuracy: 81.1399% - Val Loss: 0.6257 - Val Accuracy: 77.7391% - Top 1 Accuracy: 0.7773913043478261 - Top 5 Accuracy: 0.9904347826086957\n"
     ]
    },
    {
     "name": "stderr",
     "output_type": "stream",
     "text": [
      "Epoch 102: 100%|██████████| 144/144 [00:23<00:00,  6.12it/s]\n",
      "Validating: 100%|██████████| 36/36 [00:03<00:00, 10.00it/s]\n"
     ]
    },
    {
     "name": "stdout",
     "output_type": "stream",
     "text": [
      "Loss: 0.5482 - Accuracy: 81.0311% - Val Loss: 0.6239 - Val Accuracy: 78.0000% - Top 1 Accuracy: 0.78 - Top 5 Accuracy: 0.9904347826086957\n"
     ]
    },
    {
     "name": "stderr",
     "output_type": "stream",
     "text": [
      "Epoch 103: 100%|██████████| 144/144 [00:24<00:00,  5.87it/s]\n",
      "Validating: 100%|██████████| 36/36 [00:03<00:00, 10.27it/s]\n"
     ]
    },
    {
     "name": "stdout",
     "output_type": "stream",
     "text": [
      "Loss: 0.5473 - Accuracy: 81.9447% - Val Loss: 0.6221 - Val Accuracy: 78.1739% - Top 1 Accuracy: 0.7817391304347826 - Top 5 Accuracy: 0.9904347826086957\n"
     ]
    },
    {
     "name": "stderr",
     "output_type": "stream",
     "text": [
      "Epoch 104: 100%|██████████| 144/144 [00:23<00:00,  6.08it/s]\n",
      "Validating: 100%|██████████| 36/36 [00:03<00:00, 10.41it/s]\n"
     ]
    },
    {
     "name": "stdout",
     "output_type": "stream",
     "text": [
      "Loss: 0.5406 - Accuracy: 81.8577% - Val Loss: 0.6231 - Val Accuracy: 77.9130% - Top 1 Accuracy: 0.7791304347826087 - Top 5 Accuracy: 0.9904347826086957\n"
     ]
    },
    {
     "name": "stderr",
     "output_type": "stream",
     "text": [
      "Epoch 105: 100%|██████████| 144/144 [00:23<00:00,  6.19it/s]\n",
      "Validating: 100%|██████████| 36/36 [00:03<00:00, 10.31it/s]\n"
     ]
    },
    {
     "name": "stdout",
     "output_type": "stream",
     "text": [
      "Loss: 0.5458 - Accuracy: 81.5967% - Val Loss: 0.6222 - Val Accuracy: 78.2609% - Top 1 Accuracy: 0.782608695652174 - Top 5 Accuracy: 0.9904347826086957\n"
     ]
    },
    {
     "name": "stderr",
     "output_type": "stream",
     "text": [
      "Epoch 106: 100%|██████████| 144/144 [00:23<00:00,  6.07it/s]\n",
      "Validating: 100%|██████████| 36/36 [00:03<00:00,  9.75it/s]\n"
     ]
    },
    {
     "name": "stdout",
     "output_type": "stream",
     "text": [
      "Loss: 0.5370 - Accuracy: 81.8795% - Val Loss: 0.6221 - Val Accuracy: 78.2609% - Top 1 Accuracy: 0.782608695652174 - Top 5 Accuracy: 0.9904347826086957\n"
     ]
    },
    {
     "name": "stderr",
     "output_type": "stream",
     "text": [
      "Epoch 107: 100%|██████████| 144/144 [00:25<00:00,  5.58it/s]\n",
      "Validating: 100%|██████████| 36/36 [00:04<00:00,  8.94it/s]\n"
     ]
    },
    {
     "name": "stdout",
     "output_type": "stream",
     "text": [
      "Loss: 0.5405 - Accuracy: 81.7490% - Val Loss: 0.6230 - Val Accuracy: 77.6522% - Top 1 Accuracy: 0.7765217391304348 - Top 5 Accuracy: 0.991304347826087\n"
     ]
    },
    {
     "name": "stderr",
     "output_type": "stream",
     "text": [
      "Epoch 108: 100%|██████████| 144/144 [00:26<00:00,  5.48it/s]\n",
      "Validating: 100%|██████████| 36/36 [00:04<00:00,  8.75it/s]\n"
     ]
    },
    {
     "name": "stdout",
     "output_type": "stream",
     "text": [
      "Loss: 0.5403 - Accuracy: 81.4444% - Val Loss: 0.6188 - Val Accuracy: 78.1739% - Top 1 Accuracy: 0.7817391304347826 - Top 5 Accuracy: 0.9904347826086957\n"
     ]
    },
    {
     "name": "stderr",
     "output_type": "stream",
     "text": [
      "Epoch 109: 100%|██████████| 144/144 [00:26<00:00,  5.48it/s]\n",
      "Validating: 100%|██████████| 36/36 [00:04<00:00,  8.65it/s]\n"
     ]
    },
    {
     "name": "stdout",
     "output_type": "stream",
     "text": [
      "Loss: 0.5408 - Accuracy: 81.7272% - Val Loss: 0.6194 - Val Accuracy: 78.0000% - Top 1 Accuracy: 0.78 - Top 5 Accuracy: 0.9904347826086957\n"
     ]
    },
    {
     "name": "stderr",
     "output_type": "stream",
     "text": [
      "Epoch 110: 100%|██████████| 144/144 [00:26<00:00,  5.45it/s]\n",
      "Validating: 100%|██████████| 36/36 [00:04<00:00,  8.95it/s]\n"
     ]
    },
    {
     "name": "stdout",
     "output_type": "stream",
     "text": [
      "Loss: 0.5446 - Accuracy: 81.1834% - Val Loss: 0.6209 - Val Accuracy: 78.0000% - Top 1 Accuracy: 0.78 - Top 5 Accuracy: 0.991304347826087\n"
     ]
    },
    {
     "name": "stderr",
     "output_type": "stream",
     "text": [
      "Epoch 111: 100%|██████████| 144/144 [00:25<00:00,  5.56it/s]\n",
      "Validating: 100%|██████████| 36/36 [00:04<00:00,  8.89it/s]\n"
     ]
    },
    {
     "name": "stdout",
     "output_type": "stream",
     "text": [
      "Loss: 0.5370 - Accuracy: 81.0311% - Val Loss: 0.6201 - Val Accuracy: 77.9130% - Top 1 Accuracy: 0.7791304347826087 - Top 5 Accuracy: 0.991304347826087\n"
     ]
    },
    {
     "name": "stderr",
     "output_type": "stream",
     "text": [
      "Epoch 112: 100%|██████████| 144/144 [00:25<00:00,  5.57it/s]\n",
      "Validating: 100%|██████████| 36/36 [00:03<00:00,  9.21it/s]\n"
     ]
    },
    {
     "name": "stdout",
     "output_type": "stream",
     "text": [
      "Loss: 0.5342 - Accuracy: 81.9447% - Val Loss: 0.6189 - Val Accuracy: 78.2609% - Top 1 Accuracy: 0.782608695652174 - Top 5 Accuracy: 0.991304347826087\n"
     ]
    },
    {
     "name": "stderr",
     "output_type": "stream",
     "text": [
      "Epoch 113: 100%|██████████| 144/144 [00:25<00:00,  5.54it/s]\n",
      "Validating: 100%|██████████| 36/36 [00:03<00:00,  9.42it/s]\n"
     ]
    },
    {
     "name": "stdout",
     "output_type": "stream",
     "text": [
      "Loss: 0.5350 - Accuracy: 82.0753% - Val Loss: 0.6182 - Val Accuracy: 78.1739% - Top 1 Accuracy: 0.7817391304347826 - Top 5 Accuracy: 0.991304347826087\n"
     ]
    },
    {
     "name": "stderr",
     "output_type": "stream",
     "text": [
      "Epoch 114: 100%|██████████| 144/144 [00:25<00:00,  5.55it/s]\n",
      "Validating: 100%|██████████| 36/36 [00:03<00:00,  9.29it/s]\n"
     ]
    },
    {
     "name": "stdout",
     "output_type": "stream",
     "text": [
      "Loss: 0.5323 - Accuracy: 82.0753% - Val Loss: 0.6176 - Val Accuracy: 78.1739% - Top 1 Accuracy: 0.7817391304347826 - Top 5 Accuracy: 0.9921739130434782\n"
     ]
    },
    {
     "name": "stderr",
     "output_type": "stream",
     "text": [
      "Epoch 115: 100%|██████████| 144/144 [00:26<00:00,  5.50it/s]\n",
      "Validating: 100%|██████████| 36/36 [00:03<00:00,  9.11it/s]\n"
     ]
    },
    {
     "name": "stdout",
     "output_type": "stream",
     "text": [
      "Loss: 0.5335 - Accuracy: 82.1623% - Val Loss: 0.6162 - Val Accuracy: 78.5217% - Top 1 Accuracy: 0.7852173913043479 - Top 5 Accuracy: 0.991304347826087\n"
     ]
    },
    {
     "name": "stderr",
     "output_type": "stream",
     "text": [
      "Epoch 116: 100%|██████████| 144/144 [00:25<00:00,  5.58it/s]\n",
      "Validating: 100%|██████████| 36/36 [00:03<00:00,  9.17it/s]\n"
     ]
    },
    {
     "name": "stdout",
     "output_type": "stream",
     "text": [
      "Loss: 0.5347 - Accuracy: 81.6620% - Val Loss: 0.6171 - Val Accuracy: 78.0870% - Top 1 Accuracy: 0.7808695652173913 - Top 5 Accuracy: 0.9921739130434782\n"
     ]
    },
    {
     "name": "stderr",
     "output_type": "stream",
     "text": [
      "Epoch 117: 100%|██████████| 144/144 [00:26<00:00,  5.46it/s]\n",
      "Validating: 100%|██████████| 36/36 [00:03<00:00,  9.15it/s]\n"
     ]
    },
    {
     "name": "stdout",
     "output_type": "stream",
     "text": [
      "Loss: 0.5298 - Accuracy: 81.9447% - Val Loss: 0.6150 - Val Accuracy: 78.1739% - Top 1 Accuracy: 0.7817391304347826 - Top 5 Accuracy: 0.9921739130434782\n"
     ]
    },
    {
     "name": "stderr",
     "output_type": "stream",
     "text": [
      "Epoch 118: 100%|██████████| 144/144 [00:25<00:00,  5.58it/s]\n",
      "Validating: 100%|██████████| 36/36 [00:03<00:00,  9.08it/s]\n"
     ]
    },
    {
     "name": "stdout",
     "output_type": "stream",
     "text": [
      "Loss: 0.5309 - Accuracy: 81.8577% - Val Loss: 0.6143 - Val Accuracy: 78.0870% - Top 1 Accuracy: 0.7808695652173913 - Top 5 Accuracy: 0.9921739130434782\n"
     ]
    },
    {
     "name": "stderr",
     "output_type": "stream",
     "text": [
      "Epoch 119: 100%|██████████| 144/144 [00:25<00:00,  5.54it/s]\n",
      "Validating: 100%|██████████| 36/36 [00:03<00:00,  9.53it/s]\n"
     ]
    },
    {
     "name": "stdout",
     "output_type": "stream",
     "text": [
      "Loss: 0.5278 - Accuracy: 82.0753% - Val Loss: 0.6140 - Val Accuracy: 78.4348% - Top 1 Accuracy: 0.7843478260869565 - Top 5 Accuracy: 0.9921739130434782\n"
     ]
    },
    {
     "name": "stderr",
     "output_type": "stream",
     "text": [
      "Epoch 120: 100%|██████████| 144/144 [00:25<00:00,  5.60it/s]\n",
      "Validating: 100%|██████████| 36/36 [00:03<00:00,  9.33it/s]\n"
     ]
    },
    {
     "name": "stdout",
     "output_type": "stream",
     "text": [
      "Loss: 0.5323 - Accuracy: 81.0746% - Val Loss: 0.6137 - Val Accuracy: 78.5217% - Top 1 Accuracy: 0.7852173913043479 - Top 5 Accuracy: 0.991304347826087\n"
     ]
    },
    {
     "name": "stderr",
     "output_type": "stream",
     "text": [
      "Epoch 121: 100%|██████████| 144/144 [00:25<00:00,  5.57it/s]\n",
      "Validating: 100%|██████████| 36/36 [00:03<00:00,  9.28it/s]\n"
     ]
    },
    {
     "name": "stdout",
     "output_type": "stream",
     "text": [
      "Loss: 0.5356 - Accuracy: 81.8360% - Val Loss: 0.6137 - Val Accuracy: 78.6087% - Top 1 Accuracy: 0.7860869565217391 - Top 5 Accuracy: 0.9921739130434782\n"
     ]
    },
    {
     "name": "stderr",
     "output_type": "stream",
     "text": [
      "Epoch 122: 100%|██████████| 144/144 [00:26<00:00,  5.46it/s]\n",
      "Validating: 100%|██████████| 36/36 [00:04<00:00,  8.69it/s]\n"
     ]
    },
    {
     "name": "stdout",
     "output_type": "stream",
     "text": [
      "Loss: 0.5299 - Accuracy: 81.9012% - Val Loss: 0.6122 - Val Accuracy: 78.3478% - Top 1 Accuracy: 0.7834782608695652 - Top 5 Accuracy: 0.9921739130434782\n"
     ]
    },
    {
     "name": "stderr",
     "output_type": "stream",
     "text": [
      "Epoch 123: 100%|██████████| 144/144 [00:26<00:00,  5.49it/s]\n",
      "Validating: 100%|██████████| 36/36 [00:03<00:00,  9.01it/s]\n"
     ]
    },
    {
     "name": "stdout",
     "output_type": "stream",
     "text": [
      "Loss: 0.5275 - Accuracy: 82.1405% - Val Loss: 0.6113 - Val Accuracy: 78.4348% - Top 1 Accuracy: 0.7843478260869565 - Top 5 Accuracy: 0.9921739130434782\n"
     ]
    },
    {
     "name": "stderr",
     "output_type": "stream",
     "text": [
      "Epoch 124: 100%|██████████| 144/144 [00:26<00:00,  5.42it/s]\n",
      "Validating: 100%|██████████| 36/36 [00:03<00:00,  9.11it/s]\n"
     ]
    },
    {
     "name": "stdout",
     "output_type": "stream",
     "text": [
      "Loss: 0.5297 - Accuracy: 82.2493% - Val Loss: 0.6122 - Val Accuracy: 78.4348% - Top 1 Accuracy: 0.7843478260869565 - Top 5 Accuracy: 0.9921739130434782\n"
     ]
    },
    {
     "name": "stderr",
     "output_type": "stream",
     "text": [
      "Epoch 125: 100%|██████████| 144/144 [00:26<00:00,  5.43it/s]\n",
      "Validating: 100%|██████████| 36/36 [00:04<00:00,  8.72it/s]\n"
     ]
    },
    {
     "name": "stdout",
     "output_type": "stream",
     "text": [
      "Loss: 0.5276 - Accuracy: 82.0318% - Val Loss: 0.6116 - Val Accuracy: 78.2609% - Top 1 Accuracy: 0.782608695652174 - Top 5 Accuracy: 0.9921739130434782\n"
     ]
    },
    {
     "name": "stderr",
     "output_type": "stream",
     "text": [
      "Epoch 126: 100%|██████████| 144/144 [00:26<00:00,  5.49it/s]\n",
      "Validating: 100%|██████████| 36/36 [00:04<00:00,  8.91it/s]\n"
     ]
    },
    {
     "name": "stdout",
     "output_type": "stream",
     "text": [
      "Loss: 0.5303 - Accuracy: 81.8142% - Val Loss: 0.6112 - Val Accuracy: 78.5217% - Top 1 Accuracy: 0.7852173913043479 - Top 5 Accuracy: 0.991304347826087\n"
     ]
    },
    {
     "name": "stderr",
     "output_type": "stream",
     "text": [
      "Epoch 127: 100%|██████████| 144/144 [00:25<00:00,  5.60it/s]\n",
      "Validating: 100%|██████████| 36/36 [00:03<00:00,  9.28it/s]\n"
     ]
    },
    {
     "name": "stdout",
     "output_type": "stream",
     "text": [
      "Loss: 0.5253 - Accuracy: 81.6402% - Val Loss: 0.6100 - Val Accuracy: 78.6087% - Top 1 Accuracy: 0.7860869565217391 - Top 5 Accuracy: 0.9921739130434782\n"
     ]
    },
    {
     "name": "stderr",
     "output_type": "stream",
     "text": [
      "Epoch 128: 100%|██████████| 144/144 [00:25<00:00,  5.60it/s]\n",
      "Validating: 100%|██████████| 36/36 [00:03<00:00,  9.16it/s]\n"
     ]
    },
    {
     "name": "stdout",
     "output_type": "stream",
     "text": [
      "Loss: 0.5218 - Accuracy: 82.4668% - Val Loss: 0.6102 - Val Accuracy: 78.6957% - Top 1 Accuracy: 0.7869565217391304 - Top 5 Accuracy: 0.9921739130434782\n"
     ]
    },
    {
     "name": "stderr",
     "output_type": "stream",
     "text": [
      "Epoch 129: 100%|██████████| 144/144 [00:25<00:00,  5.55it/s]\n",
      "Validating: 100%|██████████| 36/36 [00:04<00:00,  8.97it/s]\n"
     ]
    },
    {
     "name": "stdout",
     "output_type": "stream",
     "text": [
      "Loss: 0.5132 - Accuracy: 82.3146% - Val Loss: 0.6106 - Val Accuracy: 78.7826% - Top 1 Accuracy: 0.7878260869565218 - Top 5 Accuracy: 0.9921739130434782\n"
     ]
    },
    {
     "name": "stderr",
     "output_type": "stream",
     "text": [
      "Epoch 130: 100%|██████████| 144/144 [00:25<00:00,  5.60it/s]\n",
      "Validating: 100%|██████████| 36/36 [00:03<00:00,  9.20it/s]\n"
     ]
    },
    {
     "name": "stdout",
     "output_type": "stream",
     "text": [
      "Loss: 0.5229 - Accuracy: 82.5103% - Val Loss: 0.6102 - Val Accuracy: 78.5217% - Top 1 Accuracy: 0.7852173913043479 - Top 5 Accuracy: 0.9921739130434782\n"
     ]
    },
    {
     "name": "stderr",
     "output_type": "stream",
     "text": [
      "Epoch 131: 100%|██████████| 144/144 [00:25<00:00,  5.62it/s]\n",
      "Validating: 100%|██████████| 36/36 [00:04<00:00,  8.82it/s]\n"
     ]
    },
    {
     "name": "stdout",
     "output_type": "stream",
     "text": [
      "Loss: 0.5180 - Accuracy: 82.5538% - Val Loss: 0.6072 - Val Accuracy: 78.6957% - Top 1 Accuracy: 0.7869565217391304 - Top 5 Accuracy: 0.9921739130434782\n"
     ]
    },
    {
     "name": "stderr",
     "output_type": "stream",
     "text": [
      "Epoch 132: 100%|██████████| 144/144 [00:25<00:00,  5.66it/s]\n",
      "Validating: 100%|██████████| 36/36 [00:04<00:00,  8.80it/s]\n"
     ]
    },
    {
     "name": "stdout",
     "output_type": "stream",
     "text": [
      "Loss: 0.5105 - Accuracy: 82.5103% - Val Loss: 0.6071 - Val Accuracy: 78.6087% - Top 1 Accuracy: 0.7860869565217391 - Top 5 Accuracy: 0.9921739130434782\n"
     ]
    },
    {
     "name": "stderr",
     "output_type": "stream",
     "text": [
      "Epoch 133: 100%|██████████| 144/144 [00:25<00:00,  5.59it/s]\n",
      "Validating: 100%|██████████| 36/36 [00:03<00:00,  9.23it/s]\n"
     ]
    },
    {
     "name": "stdout",
     "output_type": "stream",
     "text": [
      "Loss: 0.5229 - Accuracy: 82.0753% - Val Loss: 0.6085 - Val Accuracy: 78.7826% - Top 1 Accuracy: 0.7878260869565218 - Top 5 Accuracy: 0.9921739130434782\n"
     ]
    },
    {
     "name": "stderr",
     "output_type": "stream",
     "text": [
      "Epoch 134: 100%|██████████| 144/144 [00:25<00:00,  5.60it/s]\n",
      "Validating: 100%|██████████| 36/36 [00:03<00:00,  9.35it/s]\n"
     ]
    },
    {
     "name": "stdout",
     "output_type": "stream",
     "text": [
      "Loss: 0.5246 - Accuracy: 81.9447% - Val Loss: 0.6078 - Val Accuracy: 79.0435% - Top 1 Accuracy: 0.7904347826086957 - Top 5 Accuracy: 0.9921739130434782\n"
     ]
    },
    {
     "name": "stderr",
     "output_type": "stream",
     "text": [
      "Epoch 135: 100%|██████████| 144/144 [00:25<00:00,  5.62it/s]\n",
      "Validating: 100%|██████████| 36/36 [00:03<00:00,  9.06it/s]\n"
     ]
    },
    {
     "name": "stdout",
     "output_type": "stream",
     "text": [
      "Loss: 0.5155 - Accuracy: 82.8149% - Val Loss: 0.6062 - Val Accuracy: 78.9565% - Top 1 Accuracy: 0.7895652173913044 - Top 5 Accuracy: 0.9921739130434782\n"
     ]
    },
    {
     "name": "stderr",
     "output_type": "stream",
     "text": [
      "Epoch 136: 100%|██████████| 144/144 [00:25<00:00,  5.55it/s]\n",
      "Validating: 100%|██████████| 36/36 [00:04<00:00,  8.73it/s]\n"
     ]
    },
    {
     "name": "stdout",
     "output_type": "stream",
     "text": [
      "Loss: 0.5133 - Accuracy: 82.6626% - Val Loss: 0.6083 - Val Accuracy: 78.9565% - Top 1 Accuracy: 0.7895652173913044 - Top 5 Accuracy: 0.9921739130434782\n"
     ]
    },
    {
     "name": "stderr",
     "output_type": "stream",
     "text": [
      "Epoch 137: 100%|██████████| 144/144 [00:26<00:00,  5.41it/s]\n",
      "Validating: 100%|██████████| 36/36 [00:04<00:00,  8.60it/s]\n"
     ]
    },
    {
     "name": "stdout",
     "output_type": "stream",
     "text": [
      "Loss: 0.5241 - Accuracy: 82.1840% - Val Loss: 0.6060 - Val Accuracy: 79.1304% - Top 1 Accuracy: 0.7913043478260869 - Top 5 Accuracy: 0.991304347826087\n"
     ]
    },
    {
     "name": "stderr",
     "output_type": "stream",
     "text": [
      "Epoch 138: 100%|██████████| 144/144 [00:25<00:00,  5.56it/s]\n",
      "Validating: 100%|██████████| 36/36 [00:04<00:00,  8.86it/s]\n"
     ]
    },
    {
     "name": "stdout",
     "output_type": "stream",
     "text": [
      "Loss: 0.5095 - Accuracy: 82.7714% - Val Loss: 0.6058 - Val Accuracy: 78.8696% - Top 1 Accuracy: 0.788695652173913 - Top 5 Accuracy: 0.991304347826087\n"
     ]
    },
    {
     "name": "stderr",
     "output_type": "stream",
     "text": [
      "Epoch 139: 100%|██████████| 144/144 [00:25<00:00,  5.56it/s]\n",
      "Validating: 100%|██████████| 36/36 [00:04<00:00,  8.85it/s]\n"
     ]
    },
    {
     "name": "stdout",
     "output_type": "stream",
     "text": [
      "Loss: 0.5047 - Accuracy: 83.0759% - Val Loss: 0.6058 - Val Accuracy: 79.0435% - Top 1 Accuracy: 0.7904347826086957 - Top 5 Accuracy: 0.9921739130434782\n"
     ]
    },
    {
     "name": "stderr",
     "output_type": "stream",
     "text": [
      "Epoch 140: 100%|██████████| 144/144 [00:25<00:00,  5.57it/s]\n",
      "Validating: 100%|██████████| 36/36 [00:03<00:00,  9.10it/s]\n"
     ]
    },
    {
     "name": "stdout",
     "output_type": "stream",
     "text": [
      "Loss: 0.5124 - Accuracy: 82.6409% - Val Loss: 0.6055 - Val Accuracy: 78.8696% - Top 1 Accuracy: 0.788695652173913 - Top 5 Accuracy: 0.9921739130434782\n"
     ]
    },
    {
     "name": "stderr",
     "output_type": "stream",
     "text": [
      "Epoch 141: 100%|██████████| 144/144 [00:26<00:00,  5.51it/s]\n",
      "Validating: 100%|██████████| 36/36 [00:04<00:00,  8.88it/s]\n"
     ]
    },
    {
     "name": "stdout",
     "output_type": "stream",
     "text": [
      "Loss: 0.5116 - Accuracy: 82.3146% - Val Loss: 0.6061 - Val Accuracy: 79.0435% - Top 1 Accuracy: 0.7904347826086957 - Top 5 Accuracy: 0.9921739130434782\n"
     ]
    },
    {
     "name": "stderr",
     "output_type": "stream",
     "text": [
      "Epoch 142: 100%|██████████| 144/144 [00:25<00:00,  5.55it/s]\n",
      "Validating: 100%|██████████| 36/36 [00:03<00:00,  9.04it/s]\n"
     ]
    },
    {
     "name": "stdout",
     "output_type": "stream",
     "text": [
      "Loss: 0.5116 - Accuracy: 82.5321% - Val Loss: 0.6043 - Val Accuracy: 78.9565% - Top 1 Accuracy: 0.7895652173913044 - Top 5 Accuracy: 0.9921739130434782\n"
     ]
    },
    {
     "name": "stderr",
     "output_type": "stream",
     "text": [
      "Epoch 143: 100%|██████████| 144/144 [00:25<00:00,  5.58it/s]\n",
      "Validating: 100%|██████████| 36/36 [00:04<00:00,  8.97it/s]\n"
     ]
    },
    {
     "name": "stdout",
     "output_type": "stream",
     "text": [
      "Loss: 0.5038 - Accuracy: 82.6626% - Val Loss: 0.6037 - Val Accuracy: 79.1304% - Top 1 Accuracy: 0.7913043478260869 - Top 5 Accuracy: 0.9921739130434782\n"
     ]
    },
    {
     "name": "stderr",
     "output_type": "stream",
     "text": [
      "Epoch 144: 100%|██████████| 144/144 [00:25<00:00,  5.55it/s]\n",
      "Validating: 100%|██████████| 36/36 [00:03<00:00,  9.19it/s]\n"
     ]
    },
    {
     "name": "stdout",
     "output_type": "stream",
     "text": [
      "Loss: 0.5053 - Accuracy: 82.9672% - Val Loss: 0.6038 - Val Accuracy: 78.9565% - Top 1 Accuracy: 0.7895652173913044 - Top 5 Accuracy: 0.9921739130434782\n"
     ]
    },
    {
     "name": "stderr",
     "output_type": "stream",
     "text": [
      "Epoch 145: 100%|██████████| 144/144 [00:25<00:00,  5.56it/s]\n",
      "Validating: 100%|██████████| 36/36 [00:03<00:00,  9.23it/s]\n"
     ]
    },
    {
     "name": "stdout",
     "output_type": "stream",
     "text": [
      "Loss: 0.5128 - Accuracy: 82.1405% - Val Loss: 0.6036 - Val Accuracy: 78.8696% - Top 1 Accuracy: 0.788695652173913 - Top 5 Accuracy: 0.9921739130434782\n"
     ]
    },
    {
     "name": "stderr",
     "output_type": "stream",
     "text": [
      "Epoch 146: 100%|██████████| 144/144 [00:25<00:00,  5.55it/s]\n",
      "Validating: 100%|██████████| 36/36 [00:04<00:00,  8.96it/s]\n"
     ]
    },
    {
     "name": "stdout",
     "output_type": "stream",
     "text": [
      "Loss: 0.5094 - Accuracy: 82.3146% - Val Loss: 0.6035 - Val Accuracy: 78.8696% - Top 1 Accuracy: 0.788695652173913 - Top 5 Accuracy: 0.9921739130434782\n"
     ]
    },
    {
     "name": "stderr",
     "output_type": "stream",
     "text": [
      "Epoch 147: 100%|██████████| 144/144 [00:25<00:00,  5.57it/s]\n",
      "Validating: 100%|██████████| 36/36 [00:03<00:00,  9.32it/s]\n"
     ]
    },
    {
     "name": "stdout",
     "output_type": "stream",
     "text": [
      "Loss: 0.4992 - Accuracy: 82.7279% - Val Loss: 0.6027 - Val Accuracy: 78.9565% - Top 1 Accuracy: 0.7895652173913044 - Top 5 Accuracy: 0.9921739130434782\n"
     ]
    },
    {
     "name": "stderr",
     "output_type": "stream",
     "text": [
      "Epoch 148: 100%|██████████| 144/144 [00:25<00:00,  5.55it/s]\n",
      "Validating: 100%|██████████| 36/36 [00:03<00:00,  9.17it/s]\n"
     ]
    },
    {
     "name": "stdout",
     "output_type": "stream",
     "text": [
      "Loss: 0.5017 - Accuracy: 83.4240% - Val Loss: 0.6027 - Val Accuracy: 78.9565% - Top 1 Accuracy: 0.7895652173913044 - Top 5 Accuracy: 0.9921739130434782\n"
     ]
    },
    {
     "name": "stderr",
     "output_type": "stream",
     "text": [
      "Epoch 149: 100%|██████████| 144/144 [00:25<00:00,  5.55it/s]\n",
      "Validating: 100%|██████████| 36/36 [00:03<00:00,  9.21it/s]\n"
     ]
    },
    {
     "name": "stdout",
     "output_type": "stream",
     "text": [
      "Loss: 0.4997 - Accuracy: 82.4016% - Val Loss: 0.6004 - Val Accuracy: 78.9565% - Top 1 Accuracy: 0.7895652173913044 - Top 5 Accuracy: 0.9921739130434782\n"
     ]
    },
    {
     "name": "stderr",
     "output_type": "stream",
     "text": [
      "Epoch 150: 100%|██████████| 144/144 [00:25<00:00,  5.58it/s]\n",
      "Validating: 100%|██████████| 36/36 [00:04<00:00,  8.61it/s]\n"
     ]
    },
    {
     "name": "stdout",
     "output_type": "stream",
     "text": [
      "Loss: 0.5045 - Accuracy: 83.3152% - Val Loss: 0.6007 - Val Accuracy: 78.9565% - Top 1 Accuracy: 0.7895652173913044 - Top 5 Accuracy: 0.991304347826087\n"
     ]
    },
    {
     "name": "stderr",
     "output_type": "stream",
     "text": [
      "Epoch 151: 100%|██████████| 144/144 [00:26<00:00,  5.48it/s]\n",
      "Validating: 100%|██████████| 36/36 [00:04<00:00,  8.87it/s]\n"
     ]
    },
    {
     "name": "stdout",
     "output_type": "stream",
     "text": [
      "Loss: 0.5066 - Accuracy: 82.2928% - Val Loss: 0.6004 - Val Accuracy: 78.9565% - Top 1 Accuracy: 0.7895652173913044 - Top 5 Accuracy: 0.991304347826087\n"
     ]
    },
    {
     "name": "stderr",
     "output_type": "stream",
     "text": [
      "Epoch 152: 100%|██████████| 144/144 [00:26<00:00,  5.50it/s]\n",
      "Validating: 100%|██████████| 36/36 [00:04<00:00,  8.52it/s]\n"
     ]
    },
    {
     "name": "stdout",
     "output_type": "stream",
     "text": [
      "Loss: 0.5090 - Accuracy: 82.6191% - Val Loss: 0.5999 - Val Accuracy: 79.1304% - Top 1 Accuracy: 0.7913043478260869 - Top 5 Accuracy: 0.9921739130434782\n"
     ]
    },
    {
     "name": "stderr",
     "output_type": "stream",
     "text": [
      "Epoch 153: 100%|██████████| 144/144 [00:26<00:00,  5.49it/s]\n",
      "Validating: 100%|██████████| 36/36 [00:04<00:00,  8.67it/s]\n"
     ]
    },
    {
     "name": "stdout",
     "output_type": "stream",
     "text": [
      "Loss: 0.5077 - Accuracy: 82.2493% - Val Loss: 0.6004 - Val Accuracy: 78.9565% - Top 1 Accuracy: 0.7895652173913044 - Top 5 Accuracy: 0.9921739130434782\n"
     ]
    },
    {
     "name": "stderr",
     "output_type": "stream",
     "text": [
      "Epoch 154: 100%|██████████| 144/144 [00:25<00:00,  5.54it/s]\n",
      "Validating: 100%|██████████| 36/36 [00:04<00:00,  8.78it/s]\n"
     ]
    },
    {
     "name": "stdout",
     "output_type": "stream",
     "text": [
      "Loss: 0.5032 - Accuracy: 82.6409% - Val Loss: 0.6005 - Val Accuracy: 78.7826% - Top 1 Accuracy: 0.7878260869565218 - Top 5 Accuracy: 0.9921739130434782\n"
     ]
    },
    {
     "name": "stderr",
     "output_type": "stream",
     "text": [
      "Epoch 155: 100%|██████████| 144/144 [00:26<00:00,  5.52it/s]\n",
      "Validating: 100%|██████████| 36/36 [00:04<00:00,  8.90it/s]\n"
     ]
    },
    {
     "name": "stdout",
     "output_type": "stream",
     "text": [
      "Loss: 0.4892 - Accuracy: 82.9019% - Val Loss: 0.6000 - Val Accuracy: 79.1304% - Top 1 Accuracy: 0.7913043478260869 - Top 5 Accuracy: 0.9921739130434782\n"
     ]
    },
    {
     "name": "stderr",
     "output_type": "stream",
     "text": [
      "Epoch 156: 100%|██████████| 144/144 [00:26<00:00,  5.50it/s]\n",
      "Validating: 100%|██████████| 36/36 [00:04<00:00,  8.77it/s]\n"
     ]
    },
    {
     "name": "stdout",
     "output_type": "stream",
     "text": [
      "Loss: 0.4981 - Accuracy: 82.9889% - Val Loss: 0.5996 - Val Accuracy: 78.9565% - Top 1 Accuracy: 0.7895652173913044 - Top 5 Accuracy: 0.9921739130434782\n"
     ]
    },
    {
     "name": "stderr",
     "output_type": "stream",
     "text": [
      "Epoch 157: 100%|██████████| 144/144 [00:26<00:00,  5.41it/s]\n",
      "Validating: 100%|██████████| 36/36 [00:04<00:00,  8.77it/s]"
     ]
    },
    {
     "name": "stdout",
     "output_type": "stream",
     "text": [
      "Loss: 0.4993 - Accuracy: 83.2717% - Val Loss: 0.5992 - Val Accuracy: 78.9565% - Top 1 Accuracy: 0.7895652173913044 - Top 5 Accuracy: 0.9921739130434782\n",
      "Early stopping: patience limit reached after epoch 157\n"
     ]
    },
    {
     "name": "stderr",
     "output_type": "stream",
     "text": [
      "\n"
     ]
    }
   ],
   "source": [
    "best_val_loss = float('inf')\n",
    "best_val_acc = -1\n",
    "\n",
    "# Early stopping - based on validation loss\n",
    "patience_counter = 0\n",
    "patience = 20\n",
    "\n",
    "for epoch in range(num_epochs):\n",
    "    model.train()\n",
    "\n",
    "    progress_bar = tqdm(train_loader, desc=f'Epoch {epoch + 1}')\n",
    "\n",
    "    running_loss = 0.0\n",
    "    running_correct = 0\n",
    "    total = 0\n",
    "\n",
    "    for X, y in progress_bar:\n",
    "        X, y = X.to(device), y.to(device)\n",
    "\n",
    "        outputs = model(X)\n",
    "\n",
    "        loss = loss_fn(outputs, y)\n",
    "\n",
    "        loss.backward()\n",
    "        optimiser.step()\n",
    "        optimiser.zero_grad()\n",
    "\n",
    "        running_loss += loss.detach() * X.size(0)\n",
    "        running_correct += (torch.argmax(outputs, dim = 1) == y.type(torch.long)).sum().detach()\n",
    "        total += X.size(0)\n",
    "    \n",
    "    running_loss = running_loss.item()\n",
    "    running_correct = running_correct.item()\n",
    "\n",
    "    # Evaluate the model after training is done instead of using running averages\n",
    "    # train_loss, train_acc = evaluate_all(model, loss_fn, train_full[0], train_full[1])\n",
    "    train_loss, train_acc = running_loss / total, running_correct / total\n",
    "    # val_loss, val_acc = evaluate_all(model, loss_fn, val_full[0], val_full[1])\n",
    "    val_loss, val_acc, top_1, top_5 = evaluate(model, loss_fn, val_loader)\n",
    "\n",
    "    history['train_loss'].append(train_loss)\n",
    "    history['val_loss'].append(val_loss)\n",
    "    history['train_acc'].append(train_acc)\n",
    "    history['val_acc'].append(val_acc)\n",
    "\n",
    "    if val_loss < best_val_loss:\n",
    "        best_val_loss = val_loss\n",
    "        torch.save(model.state_dict(), f'best_model_{model_paradigm}.pth')\n",
    "\n",
    "    # Patience is counted based on validation accuracy\n",
    "    if val_acc > best_val_acc:\n",
    "        best_val_acc = val_acc\n",
    "        torch.save(model.state_dict(), f'best_model_acc_{model_paradigm}.pth')\n",
    "        patience_counter = 0\n",
    "    else:\n",
    "        patience_counter += 1\n",
    "\n",
    "    # torch.save(model.state_dict(), f'model_{model_paradigm}_epoch_{epoch+1}.pth')\n",
    "    \n",
    "    tqdm.write(f'Loss: {train_loss:.4f} - Accuracy: {train_acc*100:.4f}% - Val Loss: {val_loss:.4f} - Val Accuracy: {val_acc*100:.4f}% - Top 1 Accuracy: {top_1} - Top 5 Accuracy: {top_5}')\n",
    "\n",
    "    if patience_counter == patience:\n",
    "        print(f'Early stopping: patience limit reached after epoch {epoch + 1}')\n",
    "        break"
   ]
  },
  {
   "cell_type": "code",
   "execution_count": 22,
   "metadata": {},
   "outputs": [
    {
     "name": "stderr",
     "output_type": "stream",
     "text": [
      "C:\\Users\\Raven\\AppData\\Local\\Temp\\ipykernel_33664\\2034897919.py:2: FutureWarning: You are using `torch.load` with `weights_only=False` (the current default value), which uses the default pickle module implicitly. It is possible to construct malicious pickle data which will execute arbitrary code during unpickling (See https://github.com/pytorch/pytorch/blob/main/SECURITY.md#untrusted-models for more details). In a future release, the default value for `weights_only` will be flipped to `True`. This limits the functions that could be executed during unpickling. Arbitrary objects will no longer be allowed to be loaded via this mode unless they are explicitly allowlisted by the user via `torch.serialization.add_safe_globals`. We recommend you start setting `weights_only=True` for any use case where you don't have full control of the loaded file. Please open an issue on GitHub for any issues related to this experimental feature.\n",
      "  model.load_state_dict(torch.load(f'best_model_acc_{model_paradigm}.pth'))\n"
     ]
    },
    {
     "data": {
      "text/plain": [
       "<All keys matched successfully>"
      ]
     },
     "execution_count": 22,
     "metadata": {},
     "output_type": "execute_result"
    }
   ],
   "source": [
    "# Load the best model\n",
    "model.load_state_dict(torch.load(f'best_model_acc_{model_paradigm}.pth'))"
   ]
  },
  {
   "cell_type": "code",
   "execution_count": 23,
   "metadata": {},
   "outputs": [
    {
     "data": {
      "image/png": "[encoded data removed]",
      "text/plain": [
       "<Figure size 800x500 with 2 Axes>"
      ]
     },
     "metadata": {},
     "output_type": "display_data"
    }
   ],
   "source": [
    "plot_model_history(history)"
   ]
  },
  {
   "cell_type": "code",
   "execution_count": 24,
   "metadata": {},
   "outputs": [],
   "source": [
    "test_dataset = datasets.ImageFolder(root = \"./test_data\")\n",
    "transformed_test = TransformedDataset(test_dataset, val_transform)\n",
    "test_loader = DataLoader(transformed_test, batch_size=32, shuffle=False)"
   ]
  },
  {
   "cell_type": "code",
   "execution_count": 25,
   "metadata": {},
   "outputs": [
    {
     "name": "stderr",
     "output_type": "stream",
     "text": [
      "Validating: 100%|██████████| 32/32 [00:06<00:00,  5.32it/s]"
     ]
    },
    {
     "name": "stdout",
     "output_type": "stream",
     "text": [
      "Test Loss: 0.9861 - Test Accuracy: 66.8633% - Top 1 Accuracy: 0.6686332350049164 - Top 5 Accuracy: 0.960668633235005\n"
     ]
    },
    {
     "name": "stderr",
     "output_type": "stream",
     "text": [
      "\n"
     ]
    }
   ],
   "source": [
    "test_loss, test_acc, top_1, top_5 = evaluate(model, loss_fn, test_loader)\n",
    "print(f'Test Loss: {test_loss:.4f} - Test Accuracy: {test_acc*100:.4f}% - Top 1 Accuracy: {top_1} - Top 5 Accuracy: {top_5}')"
   ]
  },
  {
   "cell_type": "code",
   "execution_count": 26,
   "metadata": {},
   "outputs": [],
   "source": [
    "optim_dict = {\"Adam\":optim.Adam, \"Adadelta\":optim.Adadelta, \"Adagrad\":optim.Adagrad,\n",
    "              \"Adamax\":optim.Adamax, \"AdamW\": optim.AdamW, \"ASGD\":optim.ASGD,\n",
    "              \"NAdam\":optim.NAdam, \"RMSprop\":optim.RMSprop, \"RAdam\":optim.RAdam,\n",
    "              \"Rprop\": optim.Rprop, \"SGD\":optim.SGD}\n",
    "\n",
    "\n",
    "# Unfreeze the model parameters\n",
    "for param in model.parameters():\n",
    "    param.requires_grad = True\n",
    "\n",
    "# Loss and optimiser\n",
    "# NOTE: Please note that different learning_rates were used for different models at different stages of experimentation.\n",
    "# learning_rate = 0.0001\n",
    "learning_rate = 0.000005\n",
    "loss_fn = nn.CrossEntropyLoss()\n",
    "optimiser = optim_dict[\"Adam\"](model.parameters(), lr=learning_rate)\n",
    "num_epochs = 300"
   ]
  },
  {
   "cell_type": "code",
   "execution_count": 27,
   "metadata": {},
   "outputs": [],
   "source": [
    "history = {\n",
    "    'train_loss': [],\n",
    "    'val_loss': [],\n",
    "    'train_acc': [],\n",
    "    'val_acc': []\n",
    "}"
   ]
  },
  {
   "cell_type": "code",
   "execution_count": 28,
   "metadata": {},
   "outputs": [
    {
     "name": "stderr",
     "output_type": "stream",
     "text": [
      "C:\\Users\\Raven\\AppData\\Local\\Temp\\ipykernel_33664\\2034897919.py:2: FutureWarning: You are using `torch.load` with `weights_only=False` (the current default value), which uses the default pickle module implicitly. It is possible to construct malicious pickle data which will execute arbitrary code during unpickling (See https://github.com/pytorch/pytorch/blob/main/SECURITY.md#untrusted-models for more details). In a future release, the default value for `weights_only` will be flipped to `True`. This limits the functions that could be executed during unpickling. Arbitrary objects will no longer be allowed to be loaded via this mode unless they are explicitly allowlisted by the user via `torch.serialization.add_safe_globals`. We recommend you start setting `weights_only=True` for any use case where you don't have full control of the loaded file. Please open an issue on GitHub for any issues related to this experimental feature.\n",
      "  model.load_state_dict(torch.load(f'best_model_acc_{model_paradigm}.pth'))\n"
     ]
    },
    {
     "data": {
      "text/plain": [
       "<All keys matched successfully>"
      ]
     },
     "execution_count": 28,
     "metadata": {},
     "output_type": "execute_result"
    }
   ],
   "source": [
    "# Load the best model\n",
    "model.load_state_dict(torch.load(f'best_model_acc_{model_paradigm}.pth'))"
   ]
  },
  {
   "cell_type": "code",
   "execution_count": 29,
   "metadata": {},
   "outputs": [
    {
     "name": "stderr",
     "output_type": "stream",
     "text": [
      "Epoch 1: 100%|██████████| 144/144 [00:34<00:00,  4.21it/s]\n",
      "Validating: 100%|██████████| 36/36 [00:04<00:00,  8.86it/s]\n"
     ]
    },
    {
     "name": "stdout",
     "output_type": "stream",
     "text": [
      "Loss: 0.4874 - Accuracy: 82.6844% - Val Loss: 0.5466 - Val Accuracy: 80.6957% - Top 1 Accuracy: 0.8069565217391305 - Top 5 Accuracy: 0.9930434782608696\n"
     ]
    },
    {
     "name": "stderr",
     "output_type": "stream",
     "text": [
      "Epoch 2: 100%|██████████| 144/144 [00:34<00:00,  4.22it/s]\n",
      "Validating: 100%|██████████| 36/36 [00:04<00:00,  8.71it/s]\n"
     ]
    },
    {
     "name": "stdout",
     "output_type": "stream",
     "text": [
      "Loss: 0.4284 - Accuracy: 84.9467% - Val Loss: 0.5227 - Val Accuracy: 81.3043% - Top 1 Accuracy: 0.8130434782608695 - Top 5 Accuracy: 0.9930434782608696\n"
     ]
    },
    {
     "name": "stderr",
     "output_type": "stream",
     "text": [
      "Epoch 3: 100%|██████████| 144/144 [00:33<00:00,  4.26it/s]\n",
      "Validating: 100%|██████████| 36/36 [00:04<00:00,  8.75it/s]\n"
     ]
    },
    {
     "name": "stdout",
     "output_type": "stream",
     "text": [
      "Loss: 0.4070 - Accuracy: 85.7733% - Val Loss: 0.5007 - Val Accuracy: 82.1739% - Top 1 Accuracy: 0.8217391304347826 - Top 5 Accuracy: 0.9947826086956522\n"
     ]
    },
    {
     "name": "stderr",
     "output_type": "stream",
     "text": [
      "Epoch 4: 100%|██████████| 144/144 [00:34<00:00,  4.21it/s]\n",
      "Validating: 100%|██████████| 36/36 [00:04<00:00,  8.65it/s]\n"
     ]
    },
    {
     "name": "stdout",
     "output_type": "stream",
     "text": [
      "Loss: 0.3792 - Accuracy: 86.6435% - Val Loss: 0.4822 - Val Accuracy: 83.0435% - Top 1 Accuracy: 0.8304347826086956 - Top 5 Accuracy: 0.9939130434782608\n"
     ]
    },
    {
     "name": "stderr",
     "output_type": "stream",
     "text": [
      "Epoch 5: 100%|██████████| 144/144 [00:33<00:00,  4.26it/s]\n",
      "Validating: 100%|██████████| 36/36 [00:04<00:00,  8.76it/s]\n"
     ]
    },
    {
     "name": "stdout",
     "output_type": "stream",
     "text": [
      "Loss: 0.3544 - Accuracy: 87.7311% - Val Loss: 0.4677 - Val Accuracy: 83.2174% - Top 1 Accuracy: 0.8321739130434782 - Top 5 Accuracy: 0.9947826086956522\n"
     ]
    },
    {
     "name": "stderr",
     "output_type": "stream",
     "text": [
      "Epoch 6: 100%|██████████| 144/144 [00:34<00:00,  4.18it/s]\n",
      "Validating: 100%|██████████| 36/36 [00:04<00:00,  8.73it/s]\n"
     ]
    },
    {
     "name": "stdout",
     "output_type": "stream",
     "text": [
      "Loss: 0.3434 - Accuracy: 87.7964% - Val Loss: 0.4552 - Val Accuracy: 84.0000% - Top 1 Accuracy: 0.84 - Top 5 Accuracy: 0.9947826086956522\n"
     ]
    },
    {
     "name": "stderr",
     "output_type": "stream",
     "text": [
      "Epoch 7: 100%|██████████| 144/144 [00:32<00:00,  4.47it/s]\n",
      "Validating: 100%|██████████| 36/36 [00:03<00:00,  9.50it/s]\n"
     ]
    },
    {
     "name": "stdout",
     "output_type": "stream",
     "text": [
      "Loss: 0.3269 - Accuracy: 88.7753% - Val Loss: 0.4467 - Val Accuracy: 84.2609% - Top 1 Accuracy: 0.8426086956521739 - Top 5 Accuracy: 0.9947826086956522\n"
     ]
    },
    {
     "name": "stderr",
     "output_type": "stream",
     "text": [
      "Epoch 8: 100%|██████████| 144/144 [00:30<00:00,  4.79it/s]\n",
      "Validating: 100%|██████████| 36/36 [00:03<00:00,  9.54it/s]\n"
     ]
    },
    {
     "name": "stdout",
     "output_type": "stream",
     "text": [
      "Loss: 0.3125 - Accuracy: 89.0581% - Val Loss: 0.4384 - Val Accuracy: 84.5217% - Top 1 Accuracy: 0.8452173913043478 - Top 5 Accuracy: 0.9947826086956522\n"
     ]
    },
    {
     "name": "stderr",
     "output_type": "stream",
     "text": [
      "Epoch 9: 100%|██████████| 144/144 [00:30<00:00,  4.77it/s]\n",
      "Validating: 100%|██████████| 36/36 [00:03<00:00,  9.57it/s]\n"
     ]
    },
    {
     "name": "stdout",
     "output_type": "stream",
     "text": [
      "Loss: 0.2954 - Accuracy: 89.7977% - Val Loss: 0.4288 - Val Accuracy: 84.2609% - Top 1 Accuracy: 0.8426086956521739 - Top 5 Accuracy: 0.9956521739130435\n"
     ]
    },
    {
     "name": "stderr",
     "output_type": "stream",
     "text": [
      "Epoch 10: 100%|██████████| 144/144 [00:29<00:00,  4.80it/s]\n",
      "Validating: 100%|██████████| 36/36 [00:03<00:00,  9.46it/s]\n"
     ]
    },
    {
     "name": "stdout",
     "output_type": "stream",
     "text": [
      "Loss: 0.2885 - Accuracy: 90.1240% - Val Loss: 0.4187 - Val Accuracy: 84.6087% - Top 1 Accuracy: 0.8460869565217392 - Top 5 Accuracy: 0.9956521739130435\n"
     ]
    },
    {
     "name": "stderr",
     "output_type": "stream",
     "text": [
      "Epoch 11: 100%|██████████| 144/144 [00:29<00:00,  4.82it/s]\n",
      "Validating: 100%|██████████| 36/36 [00:03<00:00,  9.84it/s]\n"
     ]
    },
    {
     "name": "stdout",
     "output_type": "stream",
     "text": [
      "Loss: 0.2737 - Accuracy: 90.8201% - Val Loss: 0.4175 - Val Accuracy: 84.6087% - Top 1 Accuracy: 0.8460869565217392 - Top 5 Accuracy: 0.9956521739130435\n"
     ]
    },
    {
     "name": "stderr",
     "output_type": "stream",
     "text": [
      "Epoch 12: 100%|██████████| 144/144 [00:30<00:00,  4.79it/s]\n",
      "Validating: 100%|██████████| 36/36 [00:03<00:00,  9.51it/s]\n"
     ]
    },
    {
     "name": "stdout",
     "output_type": "stream",
     "text": [
      "Loss: 0.2672 - Accuracy: 90.9941% - Val Loss: 0.4005 - Val Accuracy: 85.2174% - Top 1 Accuracy: 0.8521739130434782 - Top 5 Accuracy: 0.9947826086956522\n"
     ]
    },
    {
     "name": "stderr",
     "output_type": "stream",
     "text": [
      "Epoch 13: 100%|██████████| 144/144 [00:29<00:00,  4.85it/s]\n",
      "Validating: 100%|██████████| 36/36 [00:03<00:00,  9.58it/s]\n"
     ]
    },
    {
     "name": "stdout",
     "output_type": "stream",
     "text": [
      "Loss: 0.2564 - Accuracy: 91.2552% - Val Loss: 0.4074 - Val Accuracy: 84.9565% - Top 1 Accuracy: 0.8495652173913043 - Top 5 Accuracy: 0.9956521739130435\n"
     ]
    },
    {
     "name": "stderr",
     "output_type": "stream",
     "text": [
      "Epoch 14: 100%|██████████| 144/144 [00:30<00:00,  4.78it/s]\n",
      "Validating: 100%|██████████| 36/36 [00:03<00:00,  9.49it/s]\n"
     ]
    },
    {
     "name": "stdout",
     "output_type": "stream",
     "text": [
      "Loss: 0.2418 - Accuracy: 91.7990% - Val Loss: 0.3998 - Val Accuracy: 84.7826% - Top 1 Accuracy: 0.8478260869565217 - Top 5 Accuracy: 0.9956521739130435\n"
     ]
    },
    {
     "name": "stderr",
     "output_type": "stream",
     "text": [
      "Epoch 15: 100%|██████████| 144/144 [00:30<00:00,  4.80it/s]\n",
      "Validating: 100%|██████████| 36/36 [00:03<00:00,  9.65it/s]\n"
     ]
    },
    {
     "name": "stdout",
     "output_type": "stream",
     "text": [
      "Loss: 0.2381 - Accuracy: 91.7772% - Val Loss: 0.3914 - Val Accuracy: 84.8696% - Top 1 Accuracy: 0.8486956521739131 - Top 5 Accuracy: 0.9956521739130435\n"
     ]
    },
    {
     "name": "stderr",
     "output_type": "stream",
     "text": [
      "Epoch 16: 100%|██████████| 144/144 [00:30<00:00,  4.80it/s]\n",
      "Validating: 100%|██████████| 36/36 [00:03<00:00,  9.42it/s]\n"
     ]
    },
    {
     "name": "stdout",
     "output_type": "stream",
     "text": [
      "Loss: 0.2262 - Accuracy: 92.2993% - Val Loss: 0.3882 - Val Accuracy: 85.1304% - Top 1 Accuracy: 0.851304347826087 - Top 5 Accuracy: 0.9973913043478261\n"
     ]
    },
    {
     "name": "stderr",
     "output_type": "stream",
     "text": [
      "Epoch 17: 100%|██████████| 144/144 [00:29<00:00,  4.83it/s]\n",
      "Validating: 100%|██████████| 36/36 [00:03<00:00,  9.61it/s]\n"
     ]
    },
    {
     "name": "stdout",
     "output_type": "stream",
     "text": [
      "Loss: 0.2178 - Accuracy: 92.7779% - Val Loss: 0.3838 - Val Accuracy: 84.9565% - Top 1 Accuracy: 0.8495652173913043 - Top 5 Accuracy: 0.9973913043478261\n"
     ]
    },
    {
     "name": "stderr",
     "output_type": "stream",
     "text": [
      "Epoch 18: 100%|██████████| 144/144 [00:29<00:00,  4.87it/s]\n",
      "Validating: 100%|██████████| 36/36 [00:03<00:00,  9.57it/s]\n"
     ]
    },
    {
     "name": "stdout",
     "output_type": "stream",
     "text": [
      "Loss: 0.2114 - Accuracy: 92.7997% - Val Loss: 0.3813 - Val Accuracy: 85.0435% - Top 1 Accuracy: 0.8504347826086956 - Top 5 Accuracy: 0.9973913043478261\n"
     ]
    },
    {
     "name": "stderr",
     "output_type": "stream",
     "text": [
      "Epoch 19: 100%|██████████| 144/144 [00:30<00:00,  4.77it/s]\n",
      "Validating: 100%|██████████| 36/36 [00:03<00:00,  9.56it/s]\n"
     ]
    },
    {
     "name": "stdout",
     "output_type": "stream",
     "text": [
      "Loss: 0.2030 - Accuracy: 93.3000% - Val Loss: 0.3807 - Val Accuracy: 85.2174% - Top 1 Accuracy: 0.8521739130434782 - Top 5 Accuracy: 0.9973913043478261\n"
     ]
    },
    {
     "name": "stderr",
     "output_type": "stream",
     "text": [
      "Epoch 20: 100%|██████████| 144/144 [00:30<00:00,  4.79it/s]\n",
      "Validating: 100%|██████████| 36/36 [00:03<00:00,  9.41it/s]\n"
     ]
    },
    {
     "name": "stdout",
     "output_type": "stream",
     "text": [
      "Loss: 0.1999 - Accuracy: 93.0172% - Val Loss: 0.3758 - Val Accuracy: 85.7391% - Top 1 Accuracy: 0.8573913043478261 - Top 5 Accuracy: 0.9973913043478261\n"
     ]
    },
    {
     "name": "stderr",
     "output_type": "stream",
     "text": [
      "Epoch 21: 100%|██████████| 144/144 [00:29<00:00,  4.83it/s]\n",
      "Validating: 100%|██████████| 36/36 [00:03<00:00,  9.32it/s]\n"
     ]
    },
    {
     "name": "stdout",
     "output_type": "stream",
     "text": [
      "Loss: 0.1884 - Accuracy: 93.9308% - Val Loss: 0.3695 - Val Accuracy: 85.9130% - Top 1 Accuracy: 0.8591304347826086 - Top 5 Accuracy: 0.9973913043478261\n"
     ]
    },
    {
     "name": "stderr",
     "output_type": "stream",
     "text": [
      "Epoch 22: 100%|██████████| 144/144 [00:30<00:00,  4.75it/s]\n",
      "Validating: 100%|██████████| 36/36 [00:03<00:00,  9.34it/s]\n"
     ]
    },
    {
     "name": "stdout",
     "output_type": "stream",
     "text": [
      "Loss: 0.1873 - Accuracy: 93.9526% - Val Loss: 0.3679 - Val Accuracy: 85.7391% - Top 1 Accuracy: 0.8573913043478261 - Top 5 Accuracy: 0.9965217391304347\n"
     ]
    },
    {
     "name": "stderr",
     "output_type": "stream",
     "text": [
      "Epoch 23: 100%|██████████| 144/144 [00:30<00:00,  4.76it/s]\n",
      "Validating: 100%|██████████| 36/36 [00:03<00:00,  9.40it/s]\n"
     ]
    },
    {
     "name": "stdout",
     "output_type": "stream",
     "text": [
      "Loss: 0.1787 - Accuracy: 94.1919% - Val Loss: 0.3710 - Val Accuracy: 85.7391% - Top 1 Accuracy: 0.8573913043478261 - Top 5 Accuracy: 0.9973913043478261\n"
     ]
    },
    {
     "name": "stderr",
     "output_type": "stream",
     "text": [
      "Epoch 24: 100%|██████████| 144/144 [00:30<00:00,  4.76it/s]\n",
      "Validating: 100%|██████████| 36/36 [00:03<00:00,  9.38it/s]\n"
     ]
    },
    {
     "name": "stdout",
     "output_type": "stream",
     "text": [
      "Loss: 0.1771 - Accuracy: 94.3006% - Val Loss: 0.3701 - Val Accuracy: 85.5652% - Top 1 Accuracy: 0.8556521739130435 - Top 5 Accuracy: 0.9973913043478261\n"
     ]
    },
    {
     "name": "stderr",
     "output_type": "stream",
     "text": [
      "Epoch 25: 100%|██████████| 144/144 [00:30<00:00,  4.75it/s]\n",
      "Validating: 100%|██████████| 36/36 [00:03<00:00,  9.30it/s]\n"
     ]
    },
    {
     "name": "stdout",
     "output_type": "stream",
     "text": [
      "Loss: 0.1713 - Accuracy: 94.1049% - Val Loss: 0.3660 - Val Accuracy: 85.9130% - Top 1 Accuracy: 0.8591304347826086 - Top 5 Accuracy: 0.9973913043478261\n"
     ]
    },
    {
     "name": "stderr",
     "output_type": "stream",
     "text": [
      "Epoch 26: 100%|██████████| 144/144 [00:30<00:00,  4.79it/s]\n",
      "Validating: 100%|██████████| 36/36 [00:03<00:00,  9.27it/s]\n"
     ]
    },
    {
     "name": "stdout",
     "output_type": "stream",
     "text": [
      "Loss: 0.1627 - Accuracy: 94.7575% - Val Loss: 0.3724 - Val Accuracy: 85.5652% - Top 1 Accuracy: 0.8556521739130435 - Top 5 Accuracy: 0.9973913043478261\n"
     ]
    },
    {
     "name": "stderr",
     "output_type": "stream",
     "text": [
      "Epoch 27: 100%|██████████| 144/144 [00:30<00:00,  4.74it/s]\n",
      "Validating: 100%|██████████| 36/36 [00:03<00:00,  9.13it/s]\n"
     ]
    },
    {
     "name": "stdout",
     "output_type": "stream",
     "text": [
      "Loss: 0.1587 - Accuracy: 94.8445% - Val Loss: 0.3607 - Val Accuracy: 86.0870% - Top 1 Accuracy: 0.8608695652173913 - Top 5 Accuracy: 0.9973913043478261\n"
     ]
    },
    {
     "name": "stderr",
     "output_type": "stream",
     "text": [
      "Epoch 28: 100%|██████████| 144/144 [00:30<00:00,  4.67it/s]\n",
      "Validating: 100%|██████████| 36/36 [00:04<00:00,  8.87it/s]\n"
     ]
    },
    {
     "name": "stdout",
     "output_type": "stream",
     "text": [
      "Loss: 0.1526 - Accuracy: 95.3665% - Val Loss: 0.3603 - Val Accuracy: 85.9130% - Top 1 Accuracy: 0.8591304347826086 - Top 5 Accuracy: 0.9973913043478261\n"
     ]
    },
    {
     "name": "stderr",
     "output_type": "stream",
     "text": [
      "Epoch 29: 100%|██████████| 144/144 [00:30<00:00,  4.69it/s]\n",
      "Validating: 100%|██████████| 36/36 [00:03<00:00,  9.46it/s]\n"
     ]
    },
    {
     "name": "stdout",
     "output_type": "stream",
     "text": [
      "Loss: 0.1440 - Accuracy: 95.4971% - Val Loss: 0.3622 - Val Accuracy: 86.3478% - Top 1 Accuracy: 0.8634782608695653 - Top 5 Accuracy: 0.9973913043478261\n"
     ]
    },
    {
     "name": "stderr",
     "output_type": "stream",
     "text": [
      "Epoch 30: 100%|██████████| 144/144 [00:30<00:00,  4.66it/s]\n",
      "Validating: 100%|██████████| 36/36 [00:04<00:00,  8.84it/s]\n"
     ]
    },
    {
     "name": "stdout",
     "output_type": "stream",
     "text": [
      "Loss: 0.1393 - Accuracy: 95.6711% - Val Loss: 0.3600 - Val Accuracy: 86.5217% - Top 1 Accuracy: 0.8652173913043478 - Top 5 Accuracy: 0.9973913043478261\n"
     ]
    },
    {
     "name": "stderr",
     "output_type": "stream",
     "text": [
      "Epoch 31: 100%|██████████| 144/144 [00:31<00:00,  4.63it/s]\n",
      "Validating: 100%|██████████| 36/36 [00:03<00:00,  9.34it/s]\n"
     ]
    },
    {
     "name": "stdout",
     "output_type": "stream",
     "text": [
      "Loss: 0.1430 - Accuracy: 95.4318% - Val Loss: 0.3586 - Val Accuracy: 86.1739% - Top 1 Accuracy: 0.8617391304347826 - Top 5 Accuracy: 0.9973913043478261\n"
     ]
    },
    {
     "name": "stderr",
     "output_type": "stream",
     "text": [
      "Epoch 32: 100%|██████████| 144/144 [00:31<00:00,  4.63it/s]\n",
      "Validating: 100%|██████████| 36/36 [00:03<00:00,  9.12it/s]\n"
     ]
    },
    {
     "name": "stdout",
     "output_type": "stream",
     "text": [
      "Loss: 0.1313 - Accuracy: 95.9104% - Val Loss: 0.3554 - Val Accuracy: 86.5217% - Top 1 Accuracy: 0.8652173913043478 - Top 5 Accuracy: 0.9973913043478261\n"
     ]
    },
    {
     "name": "stderr",
     "output_type": "stream",
     "text": [
      "Epoch 33: 100%|██████████| 144/144 [00:30<00:00,  4.69it/s]\n",
      "Validating: 100%|██████████| 36/36 [00:03<00:00,  9.67it/s]\n"
     ]
    },
    {
     "name": "stdout",
     "output_type": "stream",
     "text": [
      "Loss: 0.1328 - Accuracy: 95.8451% - Val Loss: 0.3596 - Val Accuracy: 86.2609% - Top 1 Accuracy: 0.8626086956521739 - Top 5 Accuracy: 0.9973913043478261\n"
     ]
    },
    {
     "name": "stderr",
     "output_type": "stream",
     "text": [
      "Epoch 34: 100%|██████████| 144/144 [00:31<00:00,  4.64it/s]\n",
      "Validating: 100%|██████████| 36/36 [00:03<00:00,  9.36it/s]\n"
     ]
    },
    {
     "name": "stdout",
     "output_type": "stream",
     "text": [
      "Loss: 0.1251 - Accuracy: 96.2367% - Val Loss: 0.3550 - Val Accuracy: 86.5217% - Top 1 Accuracy: 0.8652173913043478 - Top 5 Accuracy: 0.9973913043478261\n"
     ]
    },
    {
     "name": "stderr",
     "output_type": "stream",
     "text": [
      "Epoch 35: 100%|██████████| 144/144 [00:30<00:00,  4.79it/s]\n",
      "Validating: 100%|██████████| 36/36 [00:03<00:00,  9.43it/s]\n"
     ]
    },
    {
     "name": "stdout",
     "output_type": "stream",
     "text": [
      "Loss: 0.1197 - Accuracy: 96.8023% - Val Loss: 0.3583 - Val Accuracy: 86.3478% - Top 1 Accuracy: 0.8634782608695653 - Top 5 Accuracy: 0.9973913043478261\n"
     ]
    },
    {
     "name": "stderr",
     "output_type": "stream",
     "text": [
      "Epoch 36: 100%|██████████| 144/144 [00:30<00:00,  4.72it/s]\n",
      "Validating: 100%|██████████| 36/36 [00:03<00:00,  9.53it/s]\n"
     ]
    },
    {
     "name": "stdout",
     "output_type": "stream",
     "text": [
      "Loss: 0.1222 - Accuracy: 96.5630% - Val Loss: 0.3531 - Val Accuracy: 86.9565% - Top 1 Accuracy: 0.8695652173913043 - Top 5 Accuracy: 0.9973913043478261\n"
     ]
    },
    {
     "name": "stderr",
     "output_type": "stream",
     "text": [
      "Epoch 37: 100%|██████████| 144/144 [00:30<00:00,  4.74it/s]\n",
      "Validating: 100%|██████████| 36/36 [00:03<00:00,  9.06it/s]\n"
     ]
    },
    {
     "name": "stdout",
     "output_type": "stream",
     "text": [
      "Loss: 0.1172 - Accuracy: 96.5412% - Val Loss: 0.3545 - Val Accuracy: 86.5217% - Top 1 Accuracy: 0.8652173913043478 - Top 5 Accuracy: 0.9973913043478261\n"
     ]
    },
    {
     "name": "stderr",
     "output_type": "stream",
     "text": [
      "Epoch 38: 100%|██████████| 144/144 [00:30<00:00,  4.77it/s]\n",
      "Validating: 100%|██████████| 36/36 [00:03<00:00,  9.45it/s]\n"
     ]
    },
    {
     "name": "stdout",
     "output_type": "stream",
     "text": [
      "Loss: 0.1141 - Accuracy: 96.4760% - Val Loss: 0.3514 - Val Accuracy: 86.6957% - Top 1 Accuracy: 0.8669565217391304 - Top 5 Accuracy: 0.9973913043478261\n"
     ]
    },
    {
     "name": "stderr",
     "output_type": "stream",
     "text": [
      "Epoch 39: 100%|██████████| 144/144 [00:31<00:00,  4.58it/s]\n",
      "Validating: 100%|██████████| 36/36 [00:04<00:00,  8.48it/s]\n"
     ]
    },
    {
     "name": "stdout",
     "output_type": "stream",
     "text": [
      "Loss: 0.1115 - Accuracy: 96.6500% - Val Loss: 0.3506 - Val Accuracy: 87.0435% - Top 1 Accuracy: 0.8704347826086957 - Top 5 Accuracy: 0.9973913043478261\n"
     ]
    },
    {
     "name": "stderr",
     "output_type": "stream",
     "text": [
      "Epoch 40: 100%|██████████| 144/144 [00:34<00:00,  4.18it/s]\n",
      "Validating: 100%|██████████| 36/36 [00:04<00:00,  8.73it/s]\n"
     ]
    },
    {
     "name": "stdout",
     "output_type": "stream",
     "text": [
      "Loss: 0.1066 - Accuracy: 96.9763% - Val Loss: 0.3579 - Val Accuracy: 86.3478% - Top 1 Accuracy: 0.8634782608695653 - Top 5 Accuracy: 0.9973913043478261\n"
     ]
    },
    {
     "name": "stderr",
     "output_type": "stream",
     "text": [
      "Epoch 41: 100%|██████████| 144/144 [00:34<00:00,  4.18it/s]\n",
      "Validating: 100%|██████████| 36/36 [00:04<00:00,  8.39it/s]\n"
     ]
    },
    {
     "name": "stdout",
     "output_type": "stream",
     "text": [
      "Loss: 0.1068 - Accuracy: 96.8893% - Val Loss: 0.3564 - Val Accuracy: 86.3478% - Top 1 Accuracy: 0.8634782608695653 - Top 5 Accuracy: 0.9973913043478261\n"
     ]
    },
    {
     "name": "stderr",
     "output_type": "stream",
     "text": [
      "Epoch 42: 100%|██████████| 144/144 [00:31<00:00,  4.61it/s]\n",
      "Validating: 100%|██████████| 36/36 [00:03<00:00,  9.45it/s]\n"
     ]
    },
    {
     "name": "stdout",
     "output_type": "stream",
     "text": [
      "Loss: 0.1036 - Accuracy: 97.0198% - Val Loss: 0.3521 - Val Accuracy: 86.3478% - Top 1 Accuracy: 0.8634782608695653 - Top 5 Accuracy: 0.9973913043478261\n"
     ]
    },
    {
     "name": "stderr",
     "output_type": "stream",
     "text": [
      "Epoch 43: 100%|██████████| 144/144 [00:33<00:00,  4.30it/s]\n",
      "Validating: 100%|██████████| 36/36 [00:04<00:00,  8.52it/s]\n"
     ]
    },
    {
     "name": "stdout",
     "output_type": "stream",
     "text": [
      "Loss: 0.0989 - Accuracy: 97.0415% - Val Loss: 0.3481 - Val Accuracy: 86.9565% - Top 1 Accuracy: 0.8695652173913043 - Top 5 Accuracy: 0.9973913043478261\n"
     ]
    },
    {
     "name": "stderr",
     "output_type": "stream",
     "text": [
      "Epoch 44: 100%|██████████| 144/144 [00:34<00:00,  4.20it/s]\n",
      "Validating: 100%|██████████| 36/36 [00:04<00:00,  8.72it/s]\n"
     ]
    },
    {
     "name": "stdout",
     "output_type": "stream",
     "text": [
      "Loss: 0.0985 - Accuracy: 97.2808% - Val Loss: 0.3510 - Val Accuracy: 86.6957% - Top 1 Accuracy: 0.8669565217391304 - Top 5 Accuracy: 0.9973913043478261\n"
     ]
    },
    {
     "name": "stderr",
     "output_type": "stream",
     "text": [
      "Epoch 45: 100%|██████████| 144/144 [00:34<00:00,  4.19it/s]\n",
      "Validating: 100%|██████████| 36/36 [00:04<00:00,  8.59it/s]\n"
     ]
    },
    {
     "name": "stdout",
     "output_type": "stream",
     "text": [
      "Loss: 0.0936 - Accuracy: 97.5636% - Val Loss: 0.3576 - Val Accuracy: 86.0000% - Top 1 Accuracy: 0.86 - Top 5 Accuracy: 0.9973913043478261\n"
     ]
    },
    {
     "name": "stderr",
     "output_type": "stream",
     "text": [
      "Epoch 46: 100%|██████████| 144/144 [01:06<00:00,  2.17it/s]\n",
      "Validating: 100%|██████████| 36/36 [00:03<00:00,  9.56it/s]\n"
     ]
    },
    {
     "name": "stdout",
     "output_type": "stream",
     "text": [
      "Loss: 0.0877 - Accuracy: 97.6724% - Val Loss: 0.3540 - Val Accuracy: 86.6087% - Top 1 Accuracy: 0.8660869565217392 - Top 5 Accuracy: 0.9973913043478261\n"
     ]
    },
    {
     "name": "stderr",
     "output_type": "stream",
     "text": [
      "Epoch 47: 100%|██████████| 144/144 [00:28<00:00,  5.10it/s]\n",
      "Validating: 100%|██████████| 36/36 [00:03<00:00,  9.64it/s]\n"
     ]
    },
    {
     "name": "stdout",
     "output_type": "stream",
     "text": [
      "Loss: 0.0934 - Accuracy: 97.4549% - Val Loss: 0.3508 - Val Accuracy: 87.0435% - Top 1 Accuracy: 0.8704347826086957 - Top 5 Accuracy: 0.9973913043478261\n"
     ]
    },
    {
     "name": "stderr",
     "output_type": "stream",
     "text": [
      "Epoch 48: 100%|██████████| 144/144 [00:28<00:00,  5.02it/s]\n",
      "Validating: 100%|██████████| 36/36 [00:03<00:00,  9.75it/s]\n"
     ]
    },
    {
     "name": "stdout",
     "output_type": "stream",
     "text": [
      "Loss: 0.0860 - Accuracy: 97.7159% - Val Loss: 0.3567 - Val Accuracy: 86.4348% - Top 1 Accuracy: 0.8643478260869565 - Top 5 Accuracy: 0.9973913043478261\n"
     ]
    },
    {
     "name": "stderr",
     "output_type": "stream",
     "text": [
      "Epoch 49: 100%|██████████| 144/144 [00:28<00:00,  5.10it/s]\n",
      "Validating: 100%|██████████| 36/36 [00:03<00:00,  9.71it/s]\n"
     ]
    },
    {
     "name": "stdout",
     "output_type": "stream",
     "text": [
      "Loss: 0.0853 - Accuracy: 97.6071% - Val Loss: 0.3555 - Val Accuracy: 86.6087% - Top 1 Accuracy: 0.8660869565217392 - Top 5 Accuracy: 0.9973913043478261\n"
     ]
    },
    {
     "name": "stderr",
     "output_type": "stream",
     "text": [
      "Epoch 50: 100%|██████████| 144/144 [00:27<00:00,  5.15it/s]\n",
      "Validating: 100%|██████████| 36/36 [00:03<00:00,  9.78it/s]\n"
     ]
    },
    {
     "name": "stdout",
     "output_type": "stream",
     "text": [
      "Loss: 0.0827 - Accuracy: 97.5419% - Val Loss: 0.3590 - Val Accuracy: 86.7826% - Top 1 Accuracy: 0.8678260869565217 - Top 5 Accuracy: 0.9973913043478261\n"
     ]
    },
    {
     "name": "stderr",
     "output_type": "stream",
     "text": [
      "Epoch 51: 100%|██████████| 144/144 [00:28<00:00,  5.06it/s]\n",
      "Validating: 100%|██████████| 36/36 [00:03<00:00,  9.78it/s]\n"
     ]
    },
    {
     "name": "stdout",
     "output_type": "stream",
     "text": [
      "Loss: 0.0773 - Accuracy: 97.8899% - Val Loss: 0.3544 - Val Accuracy: 87.0435% - Top 1 Accuracy: 0.8704347826086957 - Top 5 Accuracy: 0.9973913043478261\n"
     ]
    },
    {
     "name": "stderr",
     "output_type": "stream",
     "text": [
      "Epoch 52: 100%|██████████| 144/144 [00:28<00:00,  5.02it/s]\n",
      "Validating: 100%|██████████| 36/36 [00:03<00:00,  9.70it/s]\n"
     ]
    },
    {
     "name": "stdout",
     "output_type": "stream",
     "text": [
      "Loss: 0.0783 - Accuracy: 97.9334% - Val Loss: 0.3532 - Val Accuracy: 86.4348% - Top 1 Accuracy: 0.8643478260869565 - Top 5 Accuracy: 0.9973913043478261\n"
     ]
    },
    {
     "name": "stderr",
     "output_type": "stream",
     "text": [
      "Epoch 53: 100%|██████████| 144/144 [00:28<00:00,  5.14it/s]\n",
      "Validating: 100%|██████████| 36/36 [00:03<00:00,  9.88it/s]\n"
     ]
    },
    {
     "name": "stdout",
     "output_type": "stream",
     "text": [
      "Loss: 0.0722 - Accuracy: 97.9987% - Val Loss: 0.3578 - Val Accuracy: 86.6087% - Top 1 Accuracy: 0.8660869565217392 - Top 5 Accuracy: 0.9973913043478261\n"
     ]
    },
    {
     "name": "stderr",
     "output_type": "stream",
     "text": [
      "Epoch 54: 100%|██████████| 144/144 [00:28<00:00,  5.08it/s]\n",
      "Validating: 100%|██████████| 36/36 [00:03<00:00,  9.36it/s]\n"
     ]
    },
    {
     "name": "stdout",
     "output_type": "stream",
     "text": [
      "Loss: 0.0720 - Accuracy: 98.1075% - Val Loss: 0.3580 - Val Accuracy: 86.2609% - Top 1 Accuracy: 0.8626086956521739 - Top 5 Accuracy: 0.9973913043478261\n"
     ]
    },
    {
     "name": "stderr",
     "output_type": "stream",
     "text": [
      "Epoch 55: 100%|██████████| 144/144 [00:28<00:00,  5.08it/s]\n",
      "Validating: 100%|██████████| 36/36 [00:03<00:00,  9.80it/s]\n"
     ]
    },
    {
     "name": "stdout",
     "output_type": "stream",
     "text": [
      "Loss: 0.0709 - Accuracy: 98.0204% - Val Loss: 0.3612 - Val Accuracy: 86.9565% - Top 1 Accuracy: 0.8695652173913043 - Top 5 Accuracy: 0.9973913043478261\n"
     ]
    },
    {
     "name": "stderr",
     "output_type": "stream",
     "text": [
      "Epoch 56: 100%|██████████| 144/144 [00:27<00:00,  5.16it/s]\n",
      "Validating: 100%|██████████| 36/36 [00:03<00:00,  9.81it/s]\n"
     ]
    },
    {
     "name": "stdout",
     "output_type": "stream",
     "text": [
      "Loss: 0.0695 - Accuracy: 98.2597% - Val Loss: 0.3565 - Val Accuracy: 86.8696% - Top 1 Accuracy: 0.8686956521739131 - Top 5 Accuracy: 0.9973913043478261\n"
     ]
    },
    {
     "name": "stderr",
     "output_type": "stream",
     "text": [
      "Epoch 57: 100%|██████████| 144/144 [00:27<00:00,  5.18it/s]\n",
      "Validating: 100%|██████████| 36/36 [00:03<00:00,  9.89it/s]\n"
     ]
    },
    {
     "name": "stdout",
     "output_type": "stream",
     "text": [
      "Loss: 0.0672 - Accuracy: 98.2380% - Val Loss: 0.3500 - Val Accuracy: 87.4783% - Top 1 Accuracy: 0.8747826086956522 - Top 5 Accuracy: 0.9965217391304347\n"
     ]
    },
    {
     "name": "stderr",
     "output_type": "stream",
     "text": [
      "Epoch 58: 100%|██████████| 144/144 [00:27<00:00,  5.16it/s]\n",
      "Validating: 100%|██████████| 36/36 [00:03<00:00,  9.79it/s]\n"
     ]
    },
    {
     "name": "stdout",
     "output_type": "stream",
     "text": [
      "Loss: 0.0673 - Accuracy: 98.1075% - Val Loss: 0.3593 - Val Accuracy: 87.0435% - Top 1 Accuracy: 0.8704347826086957 - Top 5 Accuracy: 0.9973913043478261\n"
     ]
    },
    {
     "name": "stderr",
     "output_type": "stream",
     "text": [
      "Epoch 59: 100%|██████████| 144/144 [00:27<00:00,  5.18it/s]\n",
      "Validating: 100%|██████████| 36/36 [00:03<00:00,  9.85it/s]\n"
     ]
    },
    {
     "name": "stdout",
     "output_type": "stream",
     "text": [
      "Loss: 0.0664 - Accuracy: 98.2815% - Val Loss: 0.3560 - Val Accuracy: 87.4783% - Top 1 Accuracy: 0.8747826086956522 - Top 5 Accuracy: 0.9973913043478261\n"
     ]
    },
    {
     "name": "stderr",
     "output_type": "stream",
     "text": [
      "Epoch 60: 100%|██████████| 144/144 [00:28<00:00,  5.14it/s]\n",
      "Validating: 100%|██████████| 36/36 [00:03<00:00,  9.82it/s]\n"
     ]
    },
    {
     "name": "stdout",
     "output_type": "stream",
     "text": [
      "Loss: 0.0618 - Accuracy: 98.3903% - Val Loss: 0.3559 - Val Accuracy: 87.3043% - Top 1 Accuracy: 0.8730434782608696 - Top 5 Accuracy: 0.9965217391304347\n"
     ]
    },
    {
     "name": "stderr",
     "output_type": "stream",
     "text": [
      "Epoch 61: 100%|██████████| 144/144 [00:28<00:00,  5.13it/s]\n",
      "Validating: 100%|██████████| 36/36 [00:03<00:00,  9.78it/s]\n"
     ]
    },
    {
     "name": "stdout",
     "output_type": "stream",
     "text": [
      "Loss: 0.0615 - Accuracy: 98.5643% - Val Loss: 0.3632 - Val Accuracy: 86.7826% - Top 1 Accuracy: 0.8678260869565217 - Top 5 Accuracy: 0.9973913043478261\n"
     ]
    },
    {
     "name": "stderr",
     "output_type": "stream",
     "text": [
      "Epoch 62: 100%|██████████| 144/144 [00:28<00:00,  5.13it/s]\n",
      "Validating: 100%|██████████| 36/36 [00:03<00:00,  9.75it/s]\n"
     ]
    },
    {
     "name": "stdout",
     "output_type": "stream",
     "text": [
      "Loss: 0.0588 - Accuracy: 98.6295% - Val Loss: 0.3636 - Val Accuracy: 86.8696% - Top 1 Accuracy: 0.8686956521739131 - Top 5 Accuracy: 0.9973913043478261\n"
     ]
    },
    {
     "name": "stderr",
     "output_type": "stream",
     "text": [
      "Epoch 63: 100%|██████████| 144/144 [00:27<00:00,  5.14it/s]\n",
      "Validating: 100%|██████████| 36/36 [00:03<00:00,  9.98it/s]\n"
     ]
    },
    {
     "name": "stdout",
     "output_type": "stream",
     "text": [
      "Loss: 0.0584 - Accuracy: 98.5425% - Val Loss: 0.3649 - Val Accuracy: 86.9565% - Top 1 Accuracy: 0.8695652173913043 - Top 5 Accuracy: 0.9973913043478261\n"
     ]
    },
    {
     "name": "stderr",
     "output_type": "stream",
     "text": [
      "Epoch 64: 100%|██████████| 144/144 [00:28<00:00,  5.11it/s]\n",
      "Validating: 100%|██████████| 36/36 [00:03<00:00,  9.80it/s]\n"
     ]
    },
    {
     "name": "stdout",
     "output_type": "stream",
     "text": [
      "Loss: 0.0563 - Accuracy: 98.4555% - Val Loss: 0.3591 - Val Accuracy: 87.6522% - Top 1 Accuracy: 0.8765217391304347 - Top 5 Accuracy: 0.9973913043478261\n"
     ]
    },
    {
     "name": "stderr",
     "output_type": "stream",
     "text": [
      "Epoch 65: 100%|██████████| 144/144 [00:28<00:00,  5.11it/s]\n",
      "Validating: 100%|██████████| 36/36 [00:03<00:00,  9.91it/s]\n"
     ]
    },
    {
     "name": "stdout",
     "output_type": "stream",
     "text": [
      "Loss: 0.0531 - Accuracy: 98.6295% - Val Loss: 0.3615 - Val Accuracy: 87.4783% - Top 1 Accuracy: 0.8747826086956522 - Top 5 Accuracy: 0.9973913043478261\n"
     ]
    },
    {
     "name": "stderr",
     "output_type": "stream",
     "text": [
      "Epoch 66: 100%|██████████| 144/144 [00:27<00:00,  5.15it/s]\n",
      "Validating: 100%|██████████| 36/36 [00:03<00:00,  9.84it/s]\n"
     ]
    },
    {
     "name": "stdout",
     "output_type": "stream",
     "text": [
      "Loss: 0.0560 - Accuracy: 98.6513% - Val Loss: 0.3681 - Val Accuracy: 87.2174% - Top 1 Accuracy: 0.8721739130434782 - Top 5 Accuracy: 0.9973913043478261\n"
     ]
    },
    {
     "name": "stderr",
     "output_type": "stream",
     "text": [
      "Epoch 67: 100%|██████████| 144/144 [00:28<00:00,  5.13it/s]\n",
      "Validating: 100%|██████████| 36/36 [00:03<00:00,  9.91it/s]\n"
     ]
    },
    {
     "name": "stdout",
     "output_type": "stream",
     "text": [
      "Loss: 0.0517 - Accuracy: 98.7818% - Val Loss: 0.3619 - Val Accuracy: 87.0435% - Top 1 Accuracy: 0.8704347826086957 - Top 5 Accuracy: 0.9973913043478261\n"
     ]
    },
    {
     "name": "stderr",
     "output_type": "stream",
     "text": [
      "Epoch 68: 100%|██████████| 144/144 [00:28<00:00,  5.13it/s]\n",
      "Validating: 100%|██████████| 36/36 [00:03<00:00,  9.83it/s]\n"
     ]
    },
    {
     "name": "stdout",
     "output_type": "stream",
     "text": [
      "Loss: 0.0495 - Accuracy: 98.7166% - Val Loss: 0.3652 - Val Accuracy: 87.5652% - Top 1 Accuracy: 0.8756521739130435 - Top 5 Accuracy: 0.9965217391304347\n"
     ]
    },
    {
     "name": "stderr",
     "output_type": "stream",
     "text": [
      "Epoch 69: 100%|██████████| 144/144 [00:28<00:00,  5.07it/s]\n",
      "Validating: 100%|██████████| 36/36 [00:03<00:00, 10.20it/s]\n"
     ]
    },
    {
     "name": "stdout",
     "output_type": "stream",
     "text": [
      "Loss: 0.0489 - Accuracy: 98.8688% - Val Loss: 0.3647 - Val Accuracy: 87.4783% - Top 1 Accuracy: 0.8747826086956522 - Top 5 Accuracy: 0.9965217391304347\n"
     ]
    },
    {
     "name": "stderr",
     "output_type": "stream",
     "text": [
      "Epoch 70: 100%|██████████| 144/144 [00:28<00:00,  5.13it/s]\n",
      "Validating: 100%|██████████| 36/36 [00:03<00:00,  9.99it/s]\n"
     ]
    },
    {
     "name": "stdout",
     "output_type": "stream",
     "text": [
      "Loss: 0.0491 - Accuracy: 98.6948% - Val Loss: 0.3675 - Val Accuracy: 86.9565% - Top 1 Accuracy: 0.8695652173913043 - Top 5 Accuracy: 0.9973913043478261\n"
     ]
    },
    {
     "name": "stderr",
     "output_type": "stream",
     "text": [
      "Epoch 71: 100%|██████████| 144/144 [00:27<00:00,  5.16it/s]\n",
      "Validating: 100%|██████████| 36/36 [00:03<00:00,  9.80it/s]\n"
     ]
    },
    {
     "name": "stdout",
     "output_type": "stream",
     "text": [
      "Loss: 0.0475 - Accuracy: 98.7818% - Val Loss: 0.3683 - Val Accuracy: 87.4783% - Top 1 Accuracy: 0.8747826086956522 - Top 5 Accuracy: 0.9973913043478261\n"
     ]
    },
    {
     "name": "stderr",
     "output_type": "stream",
     "text": [
      "Epoch 72: 100%|██████████| 144/144 [00:27<00:00,  5.17it/s]\n",
      "Validating: 100%|██████████| 36/36 [00:03<00:00,  9.95it/s]\n"
     ]
    },
    {
     "name": "stdout",
     "output_type": "stream",
     "text": [
      "Loss: 0.0455 - Accuracy: 98.6948% - Val Loss: 0.3650 - Val Accuracy: 87.5652% - Top 1 Accuracy: 0.8756521739130435 - Top 5 Accuracy: 0.9982608695652174\n"
     ]
    },
    {
     "name": "stderr",
     "output_type": "stream",
     "text": [
      "Epoch 73: 100%|██████████| 144/144 [00:27<00:00,  5.16it/s]\n",
      "Validating: 100%|██████████| 36/36 [00:03<00:00,  9.74it/s]\n"
     ]
    },
    {
     "name": "stdout",
     "output_type": "stream",
     "text": [
      "Loss: 0.0470 - Accuracy: 98.9776% - Val Loss: 0.3752 - Val Accuracy: 87.3043% - Top 1 Accuracy: 0.8730434782608696 - Top 5 Accuracy: 0.9973913043478261\n"
     ]
    },
    {
     "name": "stderr",
     "output_type": "stream",
     "text": [
      "Epoch 74: 100%|██████████| 144/144 [00:27<00:00,  5.15it/s]\n",
      "Validating: 100%|██████████| 36/36 [00:03<00:00,  9.97it/s]\n"
     ]
    },
    {
     "name": "stdout",
     "output_type": "stream",
     "text": [
      "Loss: 0.0453 - Accuracy: 98.9123% - Val Loss: 0.3682 - Val Accuracy: 87.3913% - Top 1 Accuracy: 0.8739130434782608 - Top 5 Accuracy: 0.9973913043478261\n"
     ]
    },
    {
     "name": "stderr",
     "output_type": "stream",
     "text": [
      "Epoch 75: 100%|██████████| 144/144 [00:28<00:00,  5.12it/s]\n",
      "Validating: 100%|██████████| 36/36 [00:03<00:00, 10.32it/s]\n"
     ]
    },
    {
     "name": "stdout",
     "output_type": "stream",
     "text": [
      "Loss: 0.0434 - Accuracy: 98.9341% - Val Loss: 0.3732 - Val Accuracy: 87.2174% - Top 1 Accuracy: 0.8721739130434782 - Top 5 Accuracy: 0.9973913043478261\n"
     ]
    },
    {
     "name": "stderr",
     "output_type": "stream",
     "text": [
      "Epoch 76: 100%|██████████| 144/144 [00:24<00:00,  5.78it/s]\n",
      "Validating: 100%|██████████| 36/36 [00:03<00:00, 11.44it/s]\n"
     ]
    },
    {
     "name": "stdout",
     "output_type": "stream",
     "text": [
      "Loss: 0.0430 - Accuracy: 98.9776% - Val Loss: 0.3730 - Val Accuracy: 87.3913% - Top 1 Accuracy: 0.8739130434782608 - Top 5 Accuracy: 0.9965217391304347\n"
     ]
    },
    {
     "name": "stderr",
     "output_type": "stream",
     "text": [
      "Epoch 77: 100%|██████████| 144/144 [00:23<00:00,  6.01it/s]\n",
      "Validating: 100%|██████████| 36/36 [00:03<00:00, 11.55it/s]\n"
     ]
    },
    {
     "name": "stdout",
     "output_type": "stream",
     "text": [
      "Loss: 0.0420 - Accuracy: 98.8688% - Val Loss: 0.3708 - Val Accuracy: 87.6522% - Top 1 Accuracy: 0.8765217391304347 - Top 5 Accuracy: 0.9982608695652174\n"
     ]
    },
    {
     "name": "stderr",
     "output_type": "stream",
     "text": [
      "Epoch 78: 100%|██████████| 144/144 [00:23<00:00,  6.03it/s]\n",
      "Validating: 100%|██████████| 36/36 [00:03<00:00, 11.39it/s]\n"
     ]
    },
    {
     "name": "stdout",
     "output_type": "stream",
     "text": [
      "Loss: 0.0395 - Accuracy: 98.9123% - Val Loss: 0.3700 - Val Accuracy: 87.2174% - Top 1 Accuracy: 0.8721739130434782 - Top 5 Accuracy: 0.9973913043478261\n"
     ]
    },
    {
     "name": "stderr",
     "output_type": "stream",
     "text": [
      "Epoch 79: 100%|██████████| 144/144 [00:24<00:00,  5.99it/s]\n",
      "Validating: 100%|██████████| 36/36 [00:03<00:00, 11.51it/s]\n"
     ]
    },
    {
     "name": "stdout",
     "output_type": "stream",
     "text": [
      "Loss: 0.0400 - Accuracy: 98.9993% - Val Loss: 0.3753 - Val Accuracy: 86.6957% - Top 1 Accuracy: 0.8669565217391304 - Top 5 Accuracy: 0.9973913043478261\n"
     ]
    },
    {
     "name": "stderr",
     "output_type": "stream",
     "text": [
      "Epoch 80: 100%|██████████| 144/144 [00:23<00:00,  6.02it/s]\n",
      "Validating: 100%|██████████| 36/36 [00:03<00:00, 11.35it/s]\n"
     ]
    },
    {
     "name": "stdout",
     "output_type": "stream",
     "text": [
      "Loss: 0.0394 - Accuracy: 98.9776% - Val Loss: 0.3766 - Val Accuracy: 87.1304% - Top 1 Accuracy: 0.871304347826087 - Top 5 Accuracy: 0.9973913043478261\n"
     ]
    },
    {
     "name": "stderr",
     "output_type": "stream",
     "text": [
      "Epoch 81: 100%|██████████| 144/144 [00:24<00:00,  5.98it/s]\n",
      "Validating: 100%|██████████| 36/36 [00:03<00:00, 11.65it/s]\n"
     ]
    },
    {
     "name": "stdout",
     "output_type": "stream",
     "text": [
      "Loss: 0.0395 - Accuracy: 98.9341% - Val Loss: 0.3754 - Val Accuracy: 87.0435% - Top 1 Accuracy: 0.8704347826086957 - Top 5 Accuracy: 0.9973913043478261\n"
     ]
    },
    {
     "name": "stderr",
     "output_type": "stream",
     "text": [
      "Epoch 82: 100%|██████████| 144/144 [00:23<00:00,  6.01it/s]\n",
      "Validating: 100%|██████████| 36/36 [00:03<00:00, 11.52it/s]\n"
     ]
    },
    {
     "name": "stdout",
     "output_type": "stream",
     "text": [
      "Loss: 0.0393 - Accuracy: 98.8906% - Val Loss: 0.3839 - Val Accuracy: 86.7826% - Top 1 Accuracy: 0.8678260869565217 - Top 5 Accuracy: 0.9973913043478261\n"
     ]
    },
    {
     "name": "stderr",
     "output_type": "stream",
     "text": [
      "Epoch 83: 100%|██████████| 144/144 [00:23<00:00,  6.03it/s]\n",
      "Validating: 100%|██████████| 36/36 [00:03<00:00, 11.43it/s]\n"
     ]
    },
    {
     "name": "stdout",
     "output_type": "stream",
     "text": [
      "Loss: 0.0366 - Accuracy: 98.9341% - Val Loss: 0.3739 - Val Accuracy: 87.3913% - Top 1 Accuracy: 0.8739130434782608 - Top 5 Accuracy: 0.9973913043478261\n"
     ]
    },
    {
     "name": "stderr",
     "output_type": "stream",
     "text": [
      "Epoch 84: 100%|██████████| 144/144 [00:24<00:00,  5.98it/s]\n",
      "Validating: 100%|██████████| 36/36 [00:03<00:00, 11.53it/s]"
     ]
    },
    {
     "name": "stdout",
     "output_type": "stream",
     "text": [
      "Loss: 0.0367 - Accuracy: 99.0429% - Val Loss: 0.3821 - Val Accuracy: 87.2174% - Top 1 Accuracy: 0.8721739130434782 - Top 5 Accuracy: 0.9973913043478261\n",
      "Early stopping: patience limit reached after epoch 84\n"
     ]
    },
    {
     "name": "stderr",
     "output_type": "stream",
     "text": [
      "\n"
     ]
    }
   ],
   "source": [
    "best_val_loss = float('inf')\n",
    "best_val_acc = -1\n",
    "\n",
    "# Early stopping - based on validation loss\n",
    "patience_counter = 0\n",
    "patience = 20\n",
    "\n",
    "for epoch in range(num_epochs):\n",
    "    model.train()\n",
    "\n",
    "    progress_bar = tqdm(train_loader, desc=f'Epoch {epoch + 1}')\n",
    "\n",
    "    running_loss = 0.0\n",
    "    running_correct = 0\n",
    "    total = 0\n",
    "\n",
    "    for X, y in progress_bar:\n",
    "        X, y = X.to(device), y.to(device)\n",
    "\n",
    "        outputs = model(X)\n",
    "\n",
    "        loss = loss_fn(outputs, y)\n",
    "\n",
    "        loss.backward()\n",
    "        optimiser.step()\n",
    "        optimiser.zero_grad()\n",
    "\n",
    "        running_loss += loss.detach() * X.size(0)\n",
    "        running_correct += (torch.argmax(outputs, dim = 1) == y.type(torch.long)).sum().detach()\n",
    "        total += X.size(0)\n",
    "    \n",
    "    running_loss = running_loss.item()\n",
    "    running_correct = running_correct.item()\n",
    "\n",
    "    # Evaluate the model after training is done instead of using running averages\n",
    "    # train_loss, train_acc = evaluate_all(model, loss_fn, train_full[0], train_full[1])\n",
    "    train_loss, train_acc = running_loss / total, running_correct / total\n",
    "    # val_loss, val_acc = evaluate_all(model, loss_fn, val_full[0], val_full[1])\n",
    "    val_loss, val_acc, top_1, top_5 = evaluate(model, loss_fn, val_loader)\n",
    "\n",
    "    history['train_loss'].append(train_loss)\n",
    "    history['val_loss'].append(val_loss)\n",
    "    history['train_acc'].append(train_acc)\n",
    "    history['val_acc'].append(val_acc)\n",
    "\n",
    "    if val_loss < best_val_loss:\n",
    "        best_val_loss = val_loss\n",
    "        torch.save(model.state_dict(), f'best_model_warmed_{model_paradigm}.pth')\n",
    "\n",
    "    # Patience is counted based on validation accuracy\n",
    "    if val_acc > best_val_acc:\n",
    "        best_val_acc = val_acc\n",
    "        torch.save(model.state_dict(), f'best_model_warmed_acc_{model_paradigm}.pth')\n",
    "        patience_counter = 0\n",
    "    else:\n",
    "        patience_counter += 1\n",
    "\n",
    "    # torch.save(model.state_dict(), f'model_{model_paradigm}_epoch_{epoch+1}.pth')\n",
    "    \n",
    "    tqdm.write(f'Loss: {train_loss:.4f} - Accuracy: {train_acc*100:.4f}% - Val Loss: {val_loss:.4f} - Val Accuracy: {val_acc*100:.4f}% - Top 1 Accuracy: {top_1} - Top 5 Accuracy: {top_5}')\n",
    "\n",
    "    if patience_counter == patience:\n",
    "        print(f'Early stopping: patience limit reached after epoch {epoch + 1}')\n",
    "        break"
   ]
  },
  {
   "cell_type": "code",
   "execution_count": 30,
   "metadata": {},
   "outputs": [
    {
     "data": {
      "image/png": "[encoded data removed]",
      "text/plain": [
       "<Figure size 800x500 with 2 Axes>"
      ]
     },
     "metadata": {},
     "output_type": "display_data"
    }
   ],
   "source": [
    "plot_model_history(history)"
   ]
  },
  {
   "cell_type": "code",
   "execution_count": 43,
   "metadata": {},
   "outputs": [
    {
     "name": "stderr",
     "output_type": "stream",
     "text": [
      "C:\\Users\\Raven\\AppData\\Local\\Temp\\ipykernel_33664\\1095013549.py:3: FutureWarning: You are using `torch.load` with `weights_only=False` (the current default value), which uses the default pickle module implicitly. It is possible to construct malicious pickle data which will execute arbitrary code during unpickling (See https://github.com/pytorch/pytorch/blob/main/SECURITY.md#untrusted-models for more details). In a future release, the default value for `weights_only` will be flipped to `True`. This limits the functions that could be executed during unpickling. Arbitrary objects will no longer be allowed to be loaded via this mode unless they are explicitly allowlisted by the user via `torch.serialization.add_safe_globals`. We recommend you start setting `weights_only=True` for any use case where you don't have full control of the loaded file. Please open an issue on GitHub for any issues related to this experimental feature.\n",
      "  model.load_state_dict(torch.load(f'best_model_warmed_acc_{model_paradigm}.pth'))\n"
     ]
    },
    {
     "data": {
      "text/plain": [
       "<All keys matched successfully>"
      ]
     },
     "execution_count": 43,
     "metadata": {},
     "output_type": "execute_result"
    }
   ],
   "source": [
    "# Load the best model\n",
    "# model.load_state_dict(torch.load(f'best_model_warmed_{model_paradigm}.pth'))\n",
    "model.load_state_dict(torch.load(f'best_model_warmed_acc_{model_paradigm}.pth'))"
   ]
  },
  {
   "cell_type": "code",
   "execution_count": 44,
   "metadata": {},
   "outputs": [],
   "source": [
    "test_dataset = datasets.ImageFolder(root = \"./test_data\")\n",
    "transformed_test = TransformedDataset(test_dataset, val_transform)\n",
    "test_loader = DataLoader(transformed_test, batch_size=32, shuffle=False)"
   ]
  },
  {
   "cell_type": "code",
   "execution_count": 45,
   "metadata": {},
   "outputs": [
    {
     "name": "stderr",
     "output_type": "stream",
     "text": [
      "Validating:   0%|          | 0/32 [00:00<?, ?it/s]"
     ]
    },
    {
     "name": "stderr",
     "output_type": "stream",
     "text": [
      "Validating: 100%|██████████| 32/32 [00:04<00:00,  6.43it/s]"
     ]
    },
    {
     "name": "stdout",
     "output_type": "stream",
     "text": [
      "Test Loss: 0.7052 - Test Accuracy: 77.8761% - Top 1 Accuracy: 0.7787610619469026 - Top 5 Accuracy: 0.9970501474926253\n"
     ]
    },
    {
     "name": "stderr",
     "output_type": "stream",
     "text": [
      "\n"
     ]
    }
   ],
   "source": [
    "test_loss, test_acc, top_1, top_5 = evaluate(model, loss_fn, test_loader)\n",
    "print(f'Test Loss: {test_loss:.4f} - Test Accuracy: {test_acc*100:.4f}% - Top 1 Accuracy: {top_1} - Top 5 Accuracy: {top_5}')"
   ]
  },
  {
   "cell_type": "code",
   "execution_count": null,
   "metadata": {},
   "outputs": [],
   "source": []
  }
 ],
 "metadata": {
  "kernelspec": {
   "display_name": "base",
   "language": "python",
   "name": "python3"
  },
  "language_info": {
   "codemirror_mode": {
    "name": "ipython",
    "version": 3
   },
   "file_extension": ".py",
   "mimetype": "text/x-python",
   "name": "python",
   "nbconvert_exporter": "python",
   "pygments_lexer": "ipython3",
   "version": "3.12.3"
  }
 },
 "nbformat": 4,
 "nbformat_minor": 2
}
