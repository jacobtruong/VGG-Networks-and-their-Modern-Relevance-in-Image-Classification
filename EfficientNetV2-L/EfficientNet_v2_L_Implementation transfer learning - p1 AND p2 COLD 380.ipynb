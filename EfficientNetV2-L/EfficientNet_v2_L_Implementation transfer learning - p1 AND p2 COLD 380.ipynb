{
 "cells": [
  {
   "cell_type": "code",
   "execution_count": 1,
   "metadata": {},
   "outputs": [
    {
     "name": "stdout",
     "output_type": "stream",
     "text": [
      "CUDA is available!  Training on GPU ...\n"
     ]
    }
   ],
   "source": [
    "import os\n",
    "import requests\n",
    "import tarfile\n",
    "import time\n",
    "\n",
    "from torchvision import datasets, transforms\n",
    "from torchvision.transforms import v2\n",
    "from torch.utils.data import DataLoader, random_split, Dataset, Subset\n",
    "import torchvision.models as models\n",
    "import torch.nn as nn\n",
    "import torch\n",
    "from torch import optim\n",
    "from torchsummary import summary\n",
    "\n",
    "import PIL.Image\n",
    "import pathlib\n",
    "\n",
    "import matplotlib.pyplot as plt\n",
    "%matplotlib inline\n",
    "import numpy as np\n",
    "from copy import deepcopy\n",
    "from PIL import Image\n",
    "from tqdm import tqdm\n",
    "from sklearn.model_selection import train_test_split\n",
    "import timm\n",
    "import uuid\n",
    "import pickle\n",
    "\n",
    "# check if CUDA is available\n",
    "train_on_gpu = torch.cuda.is_available()\n",
    "\n",
    "if not train_on_gpu:\n",
    "    print('CUDA is not available.  Training on CPU ...')\n",
    "else:\n",
    "    print('CUDA is available!  Training on GPU ...')\n",
    "\n",
    "device = torch.device(\"cuda\" if torch.cuda.is_available() else \"cpu\")"
   ]
  },
  {
   "cell_type": "markdown",
   "metadata": {},
   "source": [
    "### Dataloading"
   ]
  },
  {
   "cell_type": "code",
   "execution_count": 2,
   "metadata": {},
   "outputs": [],
   "source": [
    "transform = transforms.Compose([transforms.Resize((380,380)),\n",
    "                                transforms.RandomHorizontalFlip(),\n",
    "                                transforms.RandomRotation(10),\n",
    "                                transforms.RandomAffine(0, shear=5, scale=(0.8,1.2)), \n",
    "                              #   transforms.RandomGrayscale(p=0.1), \n",
    "                                transforms.ColorJitter(brightness=0.2, contrast=0.2, saturation=0.2), \n",
    "                                transforms.ToTensor(), \n",
    "                                transforms.Normalize((0.5, 0.5, 0.5), (0.5, 0.5, 0.5)), \n",
    "                                      ])\n",
    "\n",
    "val_transform = transforms.Compose([transforms.Resize((380,380)),\n",
    "                                        transforms.ToTensor(),\n",
    "                                        transforms.Normalize((0.5, 0.5, 0.5), (0.5, 0.5, 0.5)),\n",
    "                                        ])"
   ]
  },
  {
   "cell_type": "code",
   "execution_count": 3,
   "metadata": {},
   "outputs": [],
   "source": [
    "class TransformedDataset(Dataset):\n",
    "    def __init__(self, dataset: Dataset, transform: transforms.Compose):\n",
    "        self.dataset = dataset\n",
    "        self.transform = transform\n",
    "    \n",
    "    def __len__(self):\n",
    "        return len(self.dataset)\n",
    "    \n",
    "    def __getitem__(self, index):\n",
    "        img, label = self.dataset[index]\n",
    "\n",
    "        if self.transform:\n",
    "            img = self.transform(img)\n",
    "        \n",
    "        return img, label\n",
    "\n",
    "def stratified_split(dataset, val_split=0.):\n",
    "    targets = np.array(dataset.targets)\n",
    "\n",
    "    train_indices, val_indices = train_test_split(\n",
    "        np.arange(targets.shape[0]),\n",
    "        test_size=val_split,\n",
    "        stratify=targets\n",
    "    )\n",
    "\n",
    "    # train_dataset = Subset(dataset, indices=train_indices)\n",
    "    # val_dataset = Subset(dataset, indices=val_indices)\n",
    "    # return train_dataset, val_dataset\n",
    "\n",
    "    return train_indices, val_indices"
   ]
  },
  {
   "cell_type": "code",
   "execution_count": 4,
   "metadata": {},
   "outputs": [],
   "source": [
    "# Load the dataset separately for training and validation\n",
    "dataset = datasets.ImageFolder(root = \"./final_data\")\n",
    "\n",
    "# train_indices, val_indices = stratified_split(dataset, val_split=0.2)\n",
    "\n",
    "# Loading the indices from the saved pickle file to ensure the same split is used across different models\n",
    "with open('train_indices.pkl', 'rb') as f:\n",
    "    train_indices = pickle.load(f)\n",
    "\n",
    "with open('val_indices.pkl', 'rb') as f:\n",
    "    val_indices = pickle.load(f)\n",
    "\n",
    "# Split the dataset into training and validation\n",
    "train_dataset = Subset(dataset, train_indices)\n",
    "val_dataset = Subset(dataset, val_indices)\n",
    "\n",
    "transformed_train = TransformedDataset(train_dataset, transform)\n",
    "transformed_val = TransformedDataset(val_dataset, val_transform)"
   ]
  },
  {
   "cell_type": "code",
   "execution_count": 5,
   "metadata": {},
   "outputs": [],
   "source": [
    "# train_loader = DataLoader(transformed_train, batch_size=32, shuffle=True, num_workers=2, pin_memory=True, prefetch_factor=2)\n",
    "train_loader = DataLoader(transformed_train, batch_size=16, shuffle=True)\n",
    "val_loader = DataLoader(transformed_val, batch_size=16, shuffle=False)"
   ]
  },
  {
   "cell_type": "code",
   "execution_count": 6,
   "metadata": {},
   "outputs": [],
   "source": [
    "# # Store all datapoints from transformed_train\n",
    "# train_images = []\n",
    "# train_labels = []\n",
    "# for i in range(len(transformed_train)):\n",
    "#     img, label = transformed_train[i]\n",
    "#     train_images.append(img)\n",
    "#     train_labels.append(label)\n",
    "\n",
    "# # Store all datapoints from transformed_val\n",
    "# val_images = []\n",
    "# val_labels = []\n",
    "# for i in range(len(transformed_val)):\n",
    "#     img, label = transformed_val[i]\n",
    "#     val_images.append(img)\n",
    "#     val_labels.append(label)\n",
    "\n",
    "# train_full = (torch.stack(train_images).to(device), torch.tensor(train_labels).to(device))\n",
    "# val_full = (torch.stack(val_images).to(device), torch.tensor(val_labels).to(device))"
   ]
  },
  {
   "cell_type": "markdown",
   "metadata": {},
   "source": [
    "### Model Instantiation"
   ]
  },
  {
   "cell_type": "code",
   "execution_count": 7,
   "metadata": {},
   "outputs": [],
   "source": [
    "model = models.efficientnet_v2_l(weights=\"DEFAULT\")\n",
    "\n",
    "# for param in model.parameters():\n",
    "#     param.requires_grad = False\n",
    "\n",
    "model.classifier[1] = nn.Linear(1280, len(dataset.classes))\n",
    "model = model.to(device)\n",
    "\n",
    "model_paradigm = \"EfficientNetV2_L_COLD_V2\""
   ]
  },
  {
   "cell_type": "markdown",
   "metadata": {},
   "source": [
    "### Training Setup - Model Evaluation"
   ]
  },
  {
   "cell_type": "code",
   "execution_count": 8,
   "metadata": {},
   "outputs": [],
   "source": [
    "def top_k_accuracy(output, target, k=5):\n",
    "    batch_size = target.size(0)\n",
    "    _, pred = output.topk(k, 1, True, True)  # Get top-k predictions\n",
    "    pred = pred.t()  # Transpose predictions for comparison\n",
    "    correct = pred.eq(target.reshape(1, -1).expand_as(pred))  # Compare predictions with target\n",
    "    correct_k = correct[:k].reshape(-1).float().sum(0, keepdim = True)  # Calculate correct top-k\n",
    "    return correct_k.mul_(1.0 / batch_size).detach()  # Calculate top-k accuracy\n",
    "\n",
    "def evaluate(model, loss_fn, data_loader):\n",
    "    model.eval()\n",
    "\n",
    "    loss = 0\n",
    "    correct = 0\n",
    "    total = 0\n",
    "    top_1_accuracy = 0\n",
    "    top_5_accuracy = 0\n",
    "\n",
    "    progress_bar = tqdm(data_loader, desc = \"Validating\")\n",
    "\n",
    "    with torch.no_grad():\n",
    "        for batchX, batchY in progress_bar:\n",
    "            batchX, batchY = batchX.to(device), batchY.to(device)\n",
    "\n",
    "            output = model(batchX)\n",
    "            predicted_labels = torch.argmax(output, dim = 1)\n",
    "\n",
    "            loss += loss_fn(output, batchY).detach() * batchX.size(0)\n",
    "            correct += (predicted_labels == batchY.type(torch.long)).sum().detach()\n",
    "            total += batchX.size(0)\n",
    "            top_1_accuracy += top_k_accuracy(output, batchY, k=1) * batchX.size(0)\n",
    "            top_5_accuracy += top_k_accuracy(output, batchY, k=5) * batchX.size(0)\n",
    "    \n",
    "    return loss.item() / total, correct.item() / total, top_1_accuracy.item() / total, top_5_accuracy.item() / total\n",
    "\n",
    "def evaluate_all(model, loss_fn, allX, allY):\n",
    "    model.eval()\n",
    "\n",
    "    loss = 0\n",
    "    correct = 0\n",
    "    top_1_accuracy = 0\n",
    "    top_5_accuracy = 0\n",
    "\n",
    "    allX, allY = allX.to(device), allY.to(device)\n",
    "\n",
    "    with torch.no_grad():\n",
    "        output = model(allX)\n",
    "        predicted_labels = torch.argmax(output, dim = 1)\n",
    "\n",
    "        loss += loss_fn(output, allY.type(torch.long)).detach()\n",
    "        correct += (predicted_labels == allY.type(torch.long)).sum().detach()\n",
    "        top_1_accuracy += top_k_accuracy(output, allY, k=1)\n",
    "        top_5_accuracy += top_k_accuracy(output, allY, k=5)\n",
    "    \n",
    "    return loss.item(), correct.item() / allX.size(0), top_1_accuracy.item(), top_5_accuracy.item()"
   ]
  },
  {
   "cell_type": "code",
   "execution_count": 9,
   "metadata": {},
   "outputs": [],
   "source": [
    "def plot_model_history(his):\n",
    "    fig = plt.figure(figsize=(8, 5))\n",
    "    ax = fig.add_subplot(111)\n",
    "    ln1 = ax.plot(his['train_loss'], 'b--',label='loss')\n",
    "    ln2 = ax.plot(his['val_loss'], 'b-',label='val_loss')\n",
    "    ax.set_ylabel('loss', color='blue')\n",
    "    ax.tick_params(axis='y', colors=\"blue\")\n",
    "\n",
    "    ax2 = ax.twinx()\n",
    "    ln3 = ax2.plot(his['train_acc'], 'r--',label='accuracy')\n",
    "    ln4 = ax2.plot(his['val_acc'], 'r-',label='val_accuracy')\n",
    "    ax2.set_ylabel('accuracy', color='red')\n",
    "    ax2.tick_params(axis='y', colors=\"red\")\n",
    "\n",
    "    lns = ln1 + ln2 + ln3 + ln4\n",
    "    labels = [l.get_label() for l in lns]\n",
    "    ax.legend(lns, labels, loc=7)\n",
    "    plt.grid(True)\n",
    "    plt.show()"
   ]
  },
  {
   "cell_type": "code",
   "execution_count": 10,
   "metadata": {},
   "outputs": [],
   "source": [
    "optim_dict = {\"Adam\":optim.Adam, \"Adadelta\":optim.Adadelta, \"Adagrad\":optim.Adagrad,\n",
    "              \"Adamax\":optim.Adamax, \"AdamW\": optim.AdamW, \"ASGD\":optim.ASGD,\n",
    "              \"NAdam\":optim.NAdam, \"RMSprop\":optim.RMSprop, \"RAdam\":optim.RAdam,\n",
    "              \"Rprop\": optim.Rprop, \"SGD\":optim.SGD}\n",
    "\n",
    "\n",
    "# Loss and optimiser\n",
    "# NOTE: Please note that different learning_rates were used for different models at different stages of experimentation.\n",
    "# learning_rate = 0.0001\n",
    "learning_rate = 0.0001\n",
    "loss_fn = nn.CrossEntropyLoss()\n",
    "optimiser = optim_dict[\"Adam\"](model.parameters(), lr=learning_rate)\n",
    "num_epochs = 300"
   ]
  },
  {
   "cell_type": "code",
   "execution_count": 11,
   "metadata": {},
   "outputs": [],
   "source": [
    "history = {\n",
    "    'train_loss': [],\n",
    "    'val_loss': [],\n",
    "    'train_acc': [],\n",
    "    'val_acc': []\n",
    "}"
   ]
  },
  {
   "cell_type": "code",
   "execution_count": 12,
   "metadata": {},
   "outputs": [
    {
     "name": "stderr",
     "output_type": "stream",
     "text": [
      "Epoch 1:  64%|██████▍   | 185/288 [00:44<00:23,  4.33it/s]c:\\Users\\Raven\\anaconda3\\Lib\\site-packages\\PIL\\Image.py:1000: UserWarning: Palette images with Transparency expressed in bytes should be converted to RGBA images\n",
      "  warnings.warn(\n",
      "Epoch 1: 100%|██████████| 288/288 [01:11<00:00,  4.00it/s]\n",
      "Validating: 100%|██████████| 72/72 [00:05<00:00, 12.02it/s]\n"
     ]
    },
    {
     "name": "stdout",
     "output_type": "stream",
     "text": [
      "Loss: 0.7032 - Accuracy: 76.7892% - Val Loss: 0.3302 - Val Accuracy: 89.5652% - Top 1 Accuracy: 0.8956521739130435 - Top 5 Accuracy: 0.9991304347826087\n"
     ]
    },
    {
     "name": "stderr",
     "output_type": "stream",
     "text": [
      "Epoch 2: 100%|██████████| 288/288 [01:14<00:00,  3.87it/s]\n",
      "Validating: 100%|██████████| 72/72 [00:04<00:00, 14.59it/s]\n"
     ]
    },
    {
     "name": "stdout",
     "output_type": "stream",
     "text": [
      "Loss: 0.3584 - Accuracy: 87.9052% - Val Loss: 0.3220 - Val Accuracy: 88.8696% - Top 1 Accuracy: 0.888695652173913 - Top 5 Accuracy: 0.9982608695652174\n"
     ]
    },
    {
     "name": "stderr",
     "output_type": "stream",
     "text": [
      "Epoch 3: 100%|██████████| 288/288 [01:12<00:00,  3.98it/s]\n",
      "Validating: 100%|██████████| 72/72 [00:05<00:00, 13.33it/s]\n"
     ]
    },
    {
     "name": "stdout",
     "output_type": "stream",
     "text": [
      "Loss: 0.3168 - Accuracy: 88.8841% - Val Loss: 0.3037 - Val Accuracy: 89.8261% - Top 1 Accuracy: 0.8982608695652174 - Top 5 Accuracy: 0.9982608695652174\n"
     ]
    },
    {
     "name": "stderr",
     "output_type": "stream",
     "text": [
      "Epoch 4: 100%|██████████| 288/288 [01:11<00:00,  4.01it/s]\n",
      "Validating: 100%|██████████| 72/72 [00:05<00:00, 13.47it/s]\n"
     ]
    },
    {
     "name": "stdout",
     "output_type": "stream",
     "text": [
      "Loss: 0.2419 - Accuracy: 91.5380% - Val Loss: 0.2608 - Val Accuracy: 90.6957% - Top 1 Accuracy: 0.9069565217391304 - Top 5 Accuracy: 0.9982608695652174\n"
     ]
    },
    {
     "name": "stderr",
     "output_type": "stream",
     "text": [
      "Epoch 5: 100%|██████████| 288/288 [01:15<00:00,  3.80it/s]\n",
      "Validating: 100%|██████████| 72/72 [00:06<00:00, 11.89it/s]\n"
     ]
    },
    {
     "name": "stdout",
     "output_type": "stream",
     "text": [
      "Loss: 0.1987 - Accuracy: 92.7126% - Val Loss: 0.2725 - Val Accuracy: 90.6087% - Top 1 Accuracy: 0.9060869565217391 - Top 5 Accuracy: 0.9973913043478261\n"
     ]
    },
    {
     "name": "stderr",
     "output_type": "stream",
     "text": [
      "Epoch 6: 100%|██████████| 288/288 [01:13<00:00,  3.94it/s]\n",
      "Validating: 100%|██████████| 72/72 [00:05<00:00, 13.45it/s]\n"
     ]
    },
    {
     "name": "stdout",
     "output_type": "stream",
     "text": [
      "Loss: 0.1689 - Accuracy: 93.8873% - Val Loss: 0.3533 - Val Accuracy: 90.2609% - Top 1 Accuracy: 0.9026086956521739 - Top 5 Accuracy: 0.9991304347826087\n"
     ]
    },
    {
     "name": "stderr",
     "output_type": "stream",
     "text": [
      "Epoch 7: 100%|██████████| 288/288 [01:24<00:00,  3.40it/s]\n",
      "Validating: 100%|██████████| 72/72 [00:05<00:00, 13.74it/s]\n"
     ]
    },
    {
     "name": "stdout",
     "output_type": "stream",
     "text": [
      "Loss: 0.1501 - Accuracy: 94.6704% - Val Loss: 0.3250 - Val Accuracy: 90.3478% - Top 1 Accuracy: 0.9034782608695652 - Top 5 Accuracy: 0.9991304347826087\n"
     ]
    },
    {
     "name": "stderr",
     "output_type": "stream",
     "text": [
      "Epoch 8: 100%|██████████| 288/288 [01:13<00:00,  3.92it/s]\n",
      "Validating: 100%|██████████| 72/72 [00:05<00:00, 14.23it/s]\n"
     ]
    },
    {
     "name": "stdout",
     "output_type": "stream",
     "text": [
      "Loss: 0.1369 - Accuracy: 95.4318% - Val Loss: 0.3108 - Val Accuracy: 90.7826% - Top 1 Accuracy: 0.9078260869565218 - Top 5 Accuracy: 0.9982608695652174\n"
     ]
    },
    {
     "name": "stderr",
     "output_type": "stream",
     "text": [
      "Epoch 9: 100%|██████████| 288/288 [01:07<00:00,  4.24it/s]\n",
      "Validating: 100%|██████████| 72/72 [00:04<00:00, 14.47it/s]\n"
     ]
    },
    {
     "name": "stdout",
     "output_type": "stream",
     "text": [
      "Loss: 0.1231 - Accuracy: 95.7363% - Val Loss: 0.3717 - Val Accuracy: 88.6957% - Top 1 Accuracy: 0.8869565217391304 - Top 5 Accuracy: 0.9991304347826087\n"
     ]
    },
    {
     "name": "stderr",
     "output_type": "stream",
     "text": [
      "Epoch 10: 100%|██████████| 288/288 [01:06<00:00,  4.32it/s]\n",
      "Validating: 100%|██████████| 72/72 [00:04<00:00, 14.80it/s]\n"
     ]
    },
    {
     "name": "stdout",
     "output_type": "stream",
     "text": [
      "Loss: 0.1086 - Accuracy: 96.3889% - Val Loss: 0.4003 - Val Accuracy: 90.2609% - Top 1 Accuracy: 0.9026086956521739 - Top 5 Accuracy: 0.9982608695652174\n"
     ]
    },
    {
     "name": "stderr",
     "output_type": "stream",
     "text": [
      "Epoch 11: 100%|██████████| 288/288 [01:26<00:00,  3.33it/s]\n",
      "Validating: 100%|██████████| 72/72 [00:07<00:00,  9.37it/s]\n"
     ]
    },
    {
     "name": "stdout",
     "output_type": "stream",
     "text": [
      "Loss: 0.1148 - Accuracy: 96.2149% - Val Loss: 0.3885 - Val Accuracy: 90.2609% - Top 1 Accuracy: 0.9026086956521739 - Top 5 Accuracy: 0.9991304347826087\n"
     ]
    },
    {
     "name": "stderr",
     "output_type": "stream",
     "text": [
      "Epoch 12: 100%|██████████| 288/288 [01:32<00:00,  3.12it/s]\n",
      "Validating: 100%|██████████| 72/72 [00:05<00:00, 12.09it/s]\n"
     ]
    },
    {
     "name": "stdout",
     "output_type": "stream",
     "text": [
      "Loss: 0.1058 - Accuracy: 96.2149% - Val Loss: 0.3873 - Val Accuracy: 90.2609% - Top 1 Accuracy: 0.9026086956521739 - Top 5 Accuracy: 0.9973913043478261\n"
     ]
    },
    {
     "name": "stderr",
     "output_type": "stream",
     "text": [
      "Epoch 13: 100%|██████████| 288/288 [01:29<00:00,  3.23it/s]\n",
      "Validating: 100%|██████████| 72/72 [00:05<00:00, 12.03it/s]\n"
     ]
    },
    {
     "name": "stdout",
     "output_type": "stream",
     "text": [
      "Loss: 0.0873 - Accuracy: 96.8675% - Val Loss: 0.3799 - Val Accuracy: 90.3478% - Top 1 Accuracy: 0.9034782608695652 - Top 5 Accuracy: 0.9956521739130435\n"
     ]
    },
    {
     "name": "stderr",
     "output_type": "stream",
     "text": [
      "Epoch 14: 100%|██████████| 288/288 [01:26<00:00,  3.32it/s]\n",
      "Validating: 100%|██████████| 72/72 [00:05<00:00, 12.25it/s]\n"
     ]
    },
    {
     "name": "stdout",
     "output_type": "stream",
     "text": [
      "Loss: 0.0877 - Accuracy: 96.8893% - Val Loss: 0.3832 - Val Accuracy: 90.0870% - Top 1 Accuracy: 0.9008695652173913 - Top 5 Accuracy: 0.9982608695652174\n"
     ]
    },
    {
     "name": "stderr",
     "output_type": "stream",
     "text": [
      "Epoch 15: 100%|██████████| 288/288 [01:21<00:00,  3.53it/s]\n",
      "Validating: 100%|██████████| 72/72 [00:05<00:00, 13.85it/s]\n"
     ]
    },
    {
     "name": "stdout",
     "output_type": "stream",
     "text": [
      "Loss: 0.0990 - Accuracy: 96.6065% - Val Loss: 0.4278 - Val Accuracy: 89.2174% - Top 1 Accuracy: 0.8921739130434783 - Top 5 Accuracy: 0.9991304347826087\n"
     ]
    },
    {
     "name": "stderr",
     "output_type": "stream",
     "text": [
      "Epoch 16: 100%|██████████| 288/288 [01:24<00:00,  3.42it/s]\n",
      "Validating: 100%|██████████| 72/72 [00:05<00:00, 12.58it/s]\n"
     ]
    },
    {
     "name": "stdout",
     "output_type": "stream",
     "text": [
      "Loss: 0.0748 - Accuracy: 97.6941% - Val Loss: 0.3852 - Val Accuracy: 89.9130% - Top 1 Accuracy: 0.8991304347826087 - Top 5 Accuracy: 0.9991304347826087\n"
     ]
    },
    {
     "name": "stderr",
     "output_type": "stream",
     "text": [
      "Epoch 17: 100%|██████████| 288/288 [01:22<00:00,  3.48it/s]\n",
      "Validating: 100%|██████████| 72/72 [00:05<00:00, 13.55it/s]\n"
     ]
    },
    {
     "name": "stdout",
     "output_type": "stream",
     "text": [
      "Loss: 0.0619 - Accuracy: 97.8029% - Val Loss: 0.4828 - Val Accuracy: 89.3043% - Top 1 Accuracy: 0.8930434782608696 - Top 5 Accuracy: 0.9982608695652174\n"
     ]
    },
    {
     "name": "stderr",
     "output_type": "stream",
     "text": [
      "Epoch 18: 100%|██████████| 288/288 [01:16<00:00,  3.77it/s]\n",
      "Validating: 100%|██████████| 72/72 [00:05<00:00, 12.41it/s]\n"
     ]
    },
    {
     "name": "stdout",
     "output_type": "stream",
     "text": [
      "Loss: 0.0730 - Accuracy: 97.2373% - Val Loss: 0.3647 - Val Accuracy: 91.2174% - Top 1 Accuracy: 0.9121739130434783 - Top 5 Accuracy: 0.9982608695652174\n"
     ]
    },
    {
     "name": "stderr",
     "output_type": "stream",
     "text": [
      "Epoch 19: 100%|██████████| 288/288 [01:23<00:00,  3.46it/s]\n",
      "Validating: 100%|██████████| 72/72 [00:05<00:00, 13.70it/s]\n"
     ]
    },
    {
     "name": "stdout",
     "output_type": "stream",
     "text": [
      "Loss: 0.0686 - Accuracy: 97.4766% - Val Loss: 0.4251 - Val Accuracy: 90.6957% - Top 1 Accuracy: 0.9069565217391304 - Top 5 Accuracy: 0.9982608695652174\n"
     ]
    },
    {
     "name": "stderr",
     "output_type": "stream",
     "text": [
      "Epoch 20: 100%|██████████| 288/288 [01:12<00:00,  3.98it/s]\n",
      "Validating: 100%|██████████| 72/72 [00:05<00:00, 12.50it/s]\n"
     ]
    },
    {
     "name": "stdout",
     "output_type": "stream",
     "text": [
      "Loss: 0.0720 - Accuracy: 97.4331% - Val Loss: 0.4357 - Val Accuracy: 91.1304% - Top 1 Accuracy: 0.9113043478260869 - Top 5 Accuracy: 0.9965217391304347\n"
     ]
    },
    {
     "name": "stderr",
     "output_type": "stream",
     "text": [
      "Epoch 21: 100%|██████████| 288/288 [01:14<00:00,  3.86it/s]\n",
      "Validating: 100%|██████████| 72/72 [00:05<00:00, 13.82it/s]\n"
     ]
    },
    {
     "name": "stdout",
     "output_type": "stream",
     "text": [
      "Loss: 0.0632 - Accuracy: 97.7812% - Val Loss: 0.4411 - Val Accuracy: 89.8261% - Top 1 Accuracy: 0.8982608695652174 - Top 5 Accuracy: 0.9982608695652174\n"
     ]
    },
    {
     "name": "stderr",
     "output_type": "stream",
     "text": [
      "Epoch 22: 100%|██████████| 288/288 [01:15<00:00,  3.84it/s]\n",
      "Validating: 100%|██████████| 72/72 [00:05<00:00, 14.19it/s]\n"
     ]
    },
    {
     "name": "stdout",
     "output_type": "stream",
     "text": [
      "Loss: 0.0607 - Accuracy: 97.8899% - Val Loss: 0.4520 - Val Accuracy: 88.1739% - Top 1 Accuracy: 0.8817391304347826 - Top 5 Accuracy: 0.9973913043478261\n"
     ]
    },
    {
     "name": "stderr",
     "output_type": "stream",
     "text": [
      "Epoch 23: 100%|██████████| 288/288 [01:07<00:00,  4.29it/s]\n",
      "Validating: 100%|██████████| 72/72 [00:04<00:00, 14.48it/s]\n"
     ]
    },
    {
     "name": "stdout",
     "output_type": "stream",
     "text": [
      "Loss: 0.0677 - Accuracy: 97.5636% - Val Loss: 0.4600 - Val Accuracy: 90.6087% - Top 1 Accuracy: 0.9060869565217391 - Top 5 Accuracy: 0.9956521739130435\n"
     ]
    },
    {
     "name": "stderr",
     "output_type": "stream",
     "text": [
      "Epoch 24: 100%|██████████| 288/288 [01:05<00:00,  4.38it/s]\n",
      "Validating: 100%|██████████| 72/72 [00:04<00:00, 14.95it/s]\n"
     ]
    },
    {
     "name": "stdout",
     "output_type": "stream",
     "text": [
      "Loss: 0.0532 - Accuracy: 97.9552% - Val Loss: 0.4511 - Val Accuracy: 90.0870% - Top 1 Accuracy: 0.9008695652173913 - Top 5 Accuracy: 0.9965217391304347\n"
     ]
    },
    {
     "name": "stderr",
     "output_type": "stream",
     "text": [
      "Epoch 25: 100%|██████████| 288/288 [01:07<00:00,  4.28it/s]\n",
      "Validating: 100%|██████████| 72/72 [00:04<00:00, 14.48it/s]\n"
     ]
    },
    {
     "name": "stdout",
     "output_type": "stream",
     "text": [
      "Loss: 0.0616 - Accuracy: 97.8682% - Val Loss: 0.4680 - Val Accuracy: 89.2174% - Top 1 Accuracy: 0.8921739130434783 - Top 5 Accuracy: 0.9973913043478261\n"
     ]
    },
    {
     "name": "stderr",
     "output_type": "stream",
     "text": [
      "Epoch 26: 100%|██████████| 288/288 [01:12<00:00,  3.95it/s]\n",
      "Validating: 100%|██████████| 72/72 [00:05<00:00, 13.14it/s]\n"
     ]
    },
    {
     "name": "stdout",
     "output_type": "stream",
     "text": [
      "Loss: 0.0685 - Accuracy: 97.6724% - Val Loss: 0.4969 - Val Accuracy: 89.4783% - Top 1 Accuracy: 0.8947826086956522 - Top 5 Accuracy: 0.9982608695652174\n"
     ]
    },
    {
     "name": "stderr",
     "output_type": "stream",
     "text": [
      "Epoch 27: 100%|██████████| 288/288 [01:16<00:00,  3.76it/s]\n",
      "Validating: 100%|██████████| 72/72 [00:05<00:00, 13.35it/s]\n"
     ]
    },
    {
     "name": "stdout",
     "output_type": "stream",
     "text": [
      "Loss: 0.0681 - Accuracy: 97.6071% - Val Loss: 0.5834 - Val Accuracy: 89.8261% - Top 1 Accuracy: 0.8982608695652174 - Top 5 Accuracy: 0.9904347826086957\n"
     ]
    },
    {
     "name": "stderr",
     "output_type": "stream",
     "text": [
      "Epoch 28: 100%|██████████| 288/288 [01:16<00:00,  3.76it/s]\n",
      "Validating: 100%|██████████| 72/72 [00:05<00:00, 13.33it/s]\n"
     ]
    },
    {
     "name": "stdout",
     "output_type": "stream",
     "text": [
      "Loss: 0.0543 - Accuracy: 97.8682% - Val Loss: 0.6996 - Val Accuracy: 90.2609% - Top 1 Accuracy: 0.9026086956521739 - Top 5 Accuracy: 0.9956521739130435\n"
     ]
    },
    {
     "name": "stderr",
     "output_type": "stream",
     "text": [
      "Epoch 29: 100%|██████████| 288/288 [01:17<00:00,  3.73it/s]\n",
      "Validating: 100%|██████████| 72/72 [00:05<00:00, 13.13it/s]\n"
     ]
    },
    {
     "name": "stdout",
     "output_type": "stream",
     "text": [
      "Loss: 0.0501 - Accuracy: 98.1075% - Val Loss: 0.5488 - Val Accuracy: 88.2609% - Top 1 Accuracy: 0.8826086956521739 - Top 5 Accuracy: 0.9982608695652174\n"
     ]
    },
    {
     "name": "stderr",
     "output_type": "stream",
     "text": [
      "Epoch 30: 100%|██████████| 288/288 [01:15<00:00,  3.80it/s]\n",
      "Validating: 100%|██████████| 72/72 [00:05<00:00, 12.98it/s]\n"
     ]
    },
    {
     "name": "stdout",
     "output_type": "stream",
     "text": [
      "Loss: 0.0489 - Accuracy: 98.1945% - Val Loss: 0.5486 - Val Accuracy: 89.5652% - Top 1 Accuracy: 0.8956521739130435 - Top 5 Accuracy: 0.9982608695652174\n"
     ]
    },
    {
     "name": "stderr",
     "output_type": "stream",
     "text": [
      "Epoch 31: 100%|██████████| 288/288 [01:16<00:00,  3.75it/s]\n",
      "Validating: 100%|██████████| 72/72 [00:05<00:00, 13.51it/s]\n"
     ]
    },
    {
     "name": "stdout",
     "output_type": "stream",
     "text": [
      "Loss: 0.0480 - Accuracy: 97.9769% - Val Loss: 0.5241 - Val Accuracy: 90.4348% - Top 1 Accuracy: 0.9043478260869565 - Top 5 Accuracy: 0.9982608695652174\n"
     ]
    },
    {
     "name": "stderr",
     "output_type": "stream",
     "text": [
      "Epoch 32: 100%|██████████| 288/288 [01:15<00:00,  3.80it/s]\n",
      "Validating: 100%|██████████| 72/72 [00:05<00:00, 13.44it/s]\n"
     ]
    },
    {
     "name": "stdout",
     "output_type": "stream",
     "text": [
      "Loss: 0.0510 - Accuracy: 98.2162% - Val Loss: 0.4884 - Val Accuracy: 90.3478% - Top 1 Accuracy: 0.9034782608695652 - Top 5 Accuracy: 0.9973913043478261\n"
     ]
    },
    {
     "name": "stderr",
     "output_type": "stream",
     "text": [
      "Epoch 33: 100%|██████████| 288/288 [01:16<00:00,  3.75it/s]\n",
      "Validating: 100%|██████████| 72/72 [00:05<00:00, 13.21it/s]\n"
     ]
    },
    {
     "name": "stdout",
     "output_type": "stream",
     "text": [
      "Loss: 0.0608 - Accuracy: 97.8464% - Val Loss: 0.4554 - Val Accuracy: 91.4783% - Top 1 Accuracy: 0.9147826086956522 - Top 5 Accuracy: 0.9947826086956522\n"
     ]
    },
    {
     "name": "stderr",
     "output_type": "stream",
     "text": [
      "Epoch 34: 100%|██████████| 288/288 [01:15<00:00,  3.81it/s]\n",
      "Validating: 100%|██████████| 72/72 [00:05<00:00, 13.26it/s]\n"
     ]
    },
    {
     "name": "stdout",
     "output_type": "stream",
     "text": [
      "Loss: 0.0539 - Accuracy: 97.7812% - Val Loss: 0.4090 - Val Accuracy: 91.2174% - Top 1 Accuracy: 0.9121739130434783 - Top 5 Accuracy: 0.9982608695652174\n"
     ]
    },
    {
     "name": "stderr",
     "output_type": "stream",
     "text": [
      "Epoch 35: 100%|██████████| 288/288 [01:15<00:00,  3.80it/s]\n",
      "Validating: 100%|██████████| 72/72 [00:05<00:00, 13.41it/s]\n"
     ]
    },
    {
     "name": "stdout",
     "output_type": "stream",
     "text": [
      "Loss: 0.0476 - Accuracy: 98.1292% - Val Loss: 0.4735 - Val Accuracy: 89.8261% - Top 1 Accuracy: 0.8982608695652174 - Top 5 Accuracy: 0.9991304347826087\n"
     ]
    },
    {
     "name": "stderr",
     "output_type": "stream",
     "text": [
      "Epoch 36: 100%|██████████| 288/288 [01:16<00:00,  3.78it/s]\n",
      "Validating: 100%|██████████| 72/72 [00:05<00:00, 13.50it/s]\n"
     ]
    },
    {
     "name": "stdout",
     "output_type": "stream",
     "text": [
      "Loss: 0.0428 - Accuracy: 98.1945% - Val Loss: 0.6246 - Val Accuracy: 89.8261% - Top 1 Accuracy: 0.8982608695652174 - Top 5 Accuracy: 0.9965217391304347\n"
     ]
    },
    {
     "name": "stderr",
     "output_type": "stream",
     "text": [
      "Epoch 37: 100%|██████████| 288/288 [01:14<00:00,  3.85it/s]\n",
      "Validating: 100%|██████████| 72/72 [00:05<00:00, 13.84it/s]\n"
     ]
    },
    {
     "name": "stdout",
     "output_type": "stream",
     "text": [
      "Loss: 0.0420 - Accuracy: 98.4773% - Val Loss: 0.5395 - Val Accuracy: 90.6087% - Top 1 Accuracy: 0.9060869565217391 - Top 5 Accuracy: 0.9956521739130435\n"
     ]
    },
    {
     "name": "stderr",
     "output_type": "stream",
     "text": [
      "Epoch 38: 100%|██████████| 288/288 [01:09<00:00,  4.15it/s]\n",
      "Validating: 100%|██████████| 72/72 [00:04<00:00, 14.50it/s]\n"
     ]
    },
    {
     "name": "stdout",
     "output_type": "stream",
     "text": [
      "Loss: 0.0442 - Accuracy: 98.2380% - Val Loss: 0.5896 - Val Accuracy: 90.6087% - Top 1 Accuracy: 0.9060869565217391 - Top 5 Accuracy: 0.9956521739130435\n"
     ]
    },
    {
     "name": "stderr",
     "output_type": "stream",
     "text": [
      "Epoch 39: 100%|██████████| 288/288 [01:05<00:00,  4.37it/s]\n",
      "Validating: 100%|██████████| 72/72 [00:04<00:00, 14.83it/s]\n"
     ]
    },
    {
     "name": "stdout",
     "output_type": "stream",
     "text": [
      "Loss: 0.0485 - Accuracy: 97.9552% - Val Loss: 0.5046 - Val Accuracy: 90.2609% - Top 1 Accuracy: 0.9026086956521739 - Top 5 Accuracy: 0.9947826086956522\n"
     ]
    },
    {
     "name": "stderr",
     "output_type": "stream",
     "text": [
      "Epoch 40: 100%|██████████| 288/288 [01:05<00:00,  4.38it/s]\n",
      "Validating: 100%|██████████| 72/72 [00:04<00:00, 14.57it/s]\n"
     ]
    },
    {
     "name": "stdout",
     "output_type": "stream",
     "text": [
      "Loss: 0.0413 - Accuracy: 98.2815% - Val Loss: 0.6505 - Val Accuracy: 90.0000% - Top 1 Accuracy: 0.9 - Top 5 Accuracy: 0.9947826086956522\n"
     ]
    },
    {
     "name": "stderr",
     "output_type": "stream",
     "text": [
      "Epoch 41: 100%|██████████| 288/288 [01:05<00:00,  4.38it/s]\n",
      "Validating: 100%|██████████| 72/72 [00:05<00:00, 14.38it/s]\n"
     ]
    },
    {
     "name": "stdout",
     "output_type": "stream",
     "text": [
      "Loss: 0.0444 - Accuracy: 98.1510% - Val Loss: 0.5741 - Val Accuracy: 89.7391% - Top 1 Accuracy: 0.8973913043478261 - Top 5 Accuracy: 0.9930434782608696\n"
     ]
    },
    {
     "name": "stderr",
     "output_type": "stream",
     "text": [
      "Epoch 42: 100%|██████████| 288/288 [01:05<00:00,  4.38it/s]\n",
      "Validating: 100%|██████████| 72/72 [00:04<00:00, 14.66it/s]\n"
     ]
    },
    {
     "name": "stdout",
     "output_type": "stream",
     "text": [
      "Loss: 0.0437 - Accuracy: 98.5425% - Val Loss: 0.4978 - Val Accuracy: 90.8696% - Top 1 Accuracy: 0.908695652173913 - Top 5 Accuracy: 0.9973913043478261\n"
     ]
    },
    {
     "name": "stderr",
     "output_type": "stream",
     "text": [
      "Epoch 43: 100%|██████████| 288/288 [01:06<00:00,  4.32it/s]\n",
      "Validating: 100%|██████████| 72/72 [00:05<00:00, 12.66it/s]\n"
     ]
    },
    {
     "name": "stdout",
     "output_type": "stream",
     "text": [
      "Loss: 0.0444 - Accuracy: 98.2815% - Val Loss: 0.5591 - Val Accuracy: 90.7826% - Top 1 Accuracy: 0.9078260869565218 - Top 5 Accuracy: 0.9965217391304347\n"
     ]
    },
    {
     "name": "stderr",
     "output_type": "stream",
     "text": [
      "Epoch 44: 100%|██████████| 288/288 [01:18<00:00,  3.68it/s]\n",
      "Validating: 100%|██████████| 72/72 [00:05<00:00, 14.22it/s]\n"
     ]
    },
    {
     "name": "stdout",
     "output_type": "stream",
     "text": [
      "Loss: 0.0345 - Accuracy: 98.6295% - Val Loss: 0.5036 - Val Accuracy: 90.3478% - Top 1 Accuracy: 0.9034782608695652 - Top 5 Accuracy: 0.9965217391304347\n"
     ]
    },
    {
     "name": "stderr",
     "output_type": "stream",
     "text": [
      "Epoch 45: 100%|██████████| 288/288 [01:15<00:00,  3.84it/s]\n",
      "Validating: 100%|██████████| 72/72 [00:05<00:00, 13.79it/s]\n"
     ]
    },
    {
     "name": "stdout",
     "output_type": "stream",
     "text": [
      "Loss: 0.0538 - Accuracy: 98.0422% - Val Loss: 0.5329 - Val Accuracy: 90.8696% - Top 1 Accuracy: 0.908695652173913 - Top 5 Accuracy: 0.9982608695652174\n"
     ]
    },
    {
     "name": "stderr",
     "output_type": "stream",
     "text": [
      "Epoch 46: 100%|██████████| 288/288 [01:10<00:00,  4.08it/s]\n",
      "Validating: 100%|██████████| 72/72 [00:05<00:00, 13.58it/s]\n"
     ]
    },
    {
     "name": "stdout",
     "output_type": "stream",
     "text": [
      "Loss: 0.0412 - Accuracy: 98.4120% - Val Loss: 0.6806 - Val Accuracy: 90.0000% - Top 1 Accuracy: 0.9 - Top 5 Accuracy: 0.9956521739130435\n"
     ]
    },
    {
     "name": "stderr",
     "output_type": "stream",
     "text": [
      "Epoch 47: 100%|██████████| 288/288 [01:10<00:00,  4.11it/s]\n",
      "Validating: 100%|██████████| 72/72 [00:05<00:00, 13.69it/s]\n"
     ]
    },
    {
     "name": "stdout",
     "output_type": "stream",
     "text": [
      "Loss: 0.0337 - Accuracy: 98.5425% - Val Loss: 0.7319 - Val Accuracy: 90.4348% - Top 1 Accuracy: 0.9043478260869565 - Top 5 Accuracy: 0.9947826086956522\n"
     ]
    },
    {
     "name": "stderr",
     "output_type": "stream",
     "text": [
      "Epoch 48: 100%|██████████| 288/288 [01:10<00:00,  4.06it/s]\n",
      "Validating: 100%|██████████| 72/72 [00:05<00:00, 12.18it/s]\n"
     ]
    },
    {
     "name": "stdout",
     "output_type": "stream",
     "text": [
      "Loss: 0.0496 - Accuracy: 98.1075% - Val Loss: 0.6698 - Val Accuracy: 89.3043% - Top 1 Accuracy: 0.8930434782608696 - Top 5 Accuracy: 0.9939130434782608\n"
     ]
    },
    {
     "name": "stderr",
     "output_type": "stream",
     "text": [
      "Epoch 49: 100%|██████████| 288/288 [01:11<00:00,  4.02it/s]\n",
      "Validating: 100%|██████████| 72/72 [00:05<00:00, 14.40it/s]\n"
     ]
    },
    {
     "name": "stdout",
     "output_type": "stream",
     "text": [
      "Loss: 0.0435 - Accuracy: 98.2815% - Val Loss: 0.6076 - Val Accuracy: 90.2609% - Top 1 Accuracy: 0.9026086956521739 - Top 5 Accuracy: 0.9965217391304347\n"
     ]
    },
    {
     "name": "stderr",
     "output_type": "stream",
     "text": [
      "Epoch 50: 100%|██████████| 288/288 [01:12<00:00,  3.99it/s]\n",
      "Validating: 100%|██████████| 72/72 [00:05<00:00, 14.00it/s]\n"
     ]
    },
    {
     "name": "stdout",
     "output_type": "stream",
     "text": [
      "Loss: 0.0322 - Accuracy: 98.6730% - Val Loss: 0.5422 - Val Accuracy: 89.4783% - Top 1 Accuracy: 0.8947826086956522 - Top 5 Accuracy: 0.9965217391304347\n"
     ]
    },
    {
     "name": "stderr",
     "output_type": "stream",
     "text": [
      "Epoch 51: 100%|██████████| 288/288 [01:15<00:00,  3.81it/s]\n",
      "Validating: 100%|██████████| 72/72 [00:05<00:00, 13.72it/s]\n"
     ]
    },
    {
     "name": "stdout",
     "output_type": "stream",
     "text": [
      "Loss: 0.0378 - Accuracy: 98.2597% - Val Loss: 0.5723 - Val Accuracy: 89.6522% - Top 1 Accuracy: 0.8965217391304348 - Top 5 Accuracy: 0.9956521739130435\n"
     ]
    },
    {
     "name": "stderr",
     "output_type": "stream",
     "text": [
      "Epoch 52: 100%|██████████| 288/288 [01:10<00:00,  4.07it/s]\n",
      "Validating: 100%|██████████| 72/72 [00:05<00:00, 13.86it/s]\n"
     ]
    },
    {
     "name": "stdout",
     "output_type": "stream",
     "text": [
      "Loss: 0.0302 - Accuracy: 98.5643% - Val Loss: 0.6923 - Val Accuracy: 90.4348% - Top 1 Accuracy: 0.9043478260869565 - Top 5 Accuracy: 0.9965217391304347\n"
     ]
    },
    {
     "name": "stderr",
     "output_type": "stream",
     "text": [
      "Epoch 53: 100%|██████████| 288/288 [01:18<00:00,  3.65it/s]\n",
      "Validating: 100%|██████████| 72/72 [00:07<00:00,  9.50it/s]"
     ]
    },
    {
     "name": "stdout",
     "output_type": "stream",
     "text": [
      "Loss: 0.0288 - Accuracy: 98.7383% - Val Loss: 0.4824 - Val Accuracy: 90.6087% - Top 1 Accuracy: 0.9060869565217391 - Top 5 Accuracy: 0.9973913043478261\n",
      "Early stopping: patience limit reached after epoch 53\n"
     ]
    },
    {
     "name": "stderr",
     "output_type": "stream",
     "text": [
      "\n"
     ]
    }
   ],
   "source": [
    "best_val_loss = float('inf')\n",
    "best_val_acc = -1\n",
    "\n",
    "# Early stopping - based on validation loss\n",
    "patience_counter = 0\n",
    "patience = 20\n",
    "\n",
    "for epoch in range(num_epochs):\n",
    "    model.train()\n",
    "\n",
    "    progress_bar = tqdm(train_loader, desc=f'Epoch {epoch + 1}')\n",
    "\n",
    "    running_loss = 0.0\n",
    "    running_correct = 0\n",
    "    total = 0\n",
    "\n",
    "    for X, y in progress_bar:\n",
    "        X, y = X.to(device), y.to(device)\n",
    "\n",
    "        outputs = model(X)\n",
    "\n",
    "        loss = loss_fn(outputs, y)\n",
    "\n",
    "        loss.backward()\n",
    "        optimiser.step()\n",
    "        optimiser.zero_grad()\n",
    "\n",
    "        running_loss += loss.detach() * X.size(0)\n",
    "        running_correct += (torch.argmax(outputs, dim = 1) == y.type(torch.long)).sum().detach()\n",
    "        total += X.size(0)\n",
    "    \n",
    "    running_loss = running_loss.item()\n",
    "    running_correct = running_correct.item()\n",
    "\n",
    "    # Evaluate the model after training is done instead of using running averages\n",
    "    # train_loss, train_acc = evaluate_all(model, loss_fn, train_full[0], train_full[1])\n",
    "    train_loss, train_acc = running_loss / total, running_correct / total\n",
    "    # val_loss, val_acc = evaluate_all(model, loss_fn, val_full[0], val_full[1])\n",
    "    val_loss, val_acc, top_1, top_5 = evaluate(model, loss_fn, val_loader)\n",
    "\n",
    "    history['train_loss'].append(train_loss)\n",
    "    history['val_loss'].append(val_loss)\n",
    "    history['train_acc'].append(train_acc)\n",
    "    history['val_acc'].append(val_acc)\n",
    "\n",
    "    if val_loss < best_val_loss:\n",
    "        best_val_loss = val_loss\n",
    "        torch.save(model.state_dict(), f'best_model_{model_paradigm}.pth')\n",
    "\n",
    "    # Patience is counted based on validation accuracy\n",
    "    if val_acc > best_val_acc:\n",
    "        best_val_acc = val_acc\n",
    "        torch.save(model.state_dict(), f'best_model_acc_{model_paradigm}.pth')\n",
    "        patience_counter = 0\n",
    "    else:\n",
    "        patience_counter += 1\n",
    "\n",
    "    # torch.save(model.state_dict(), f'model_{model_paradigm}_epoch_{epoch+1}.pth')\n",
    "    \n",
    "    tqdm.write(f'Loss: {train_loss:.4f} - Accuracy: {train_acc*100:.4f}% - Val Loss: {val_loss:.4f} - Val Accuracy: {val_acc*100:.4f}% - Top 1 Accuracy: {top_1} - Top 5 Accuracy: {top_5}')\n",
    "\n",
    "    if patience_counter == patience:\n",
    "        print(f'Early stopping: patience limit reached after epoch {epoch + 1}')\n",
    "        break"
   ]
  },
  {
   "cell_type": "code",
   "execution_count": 13,
   "metadata": {},
   "outputs": [
    {
     "name": "stderr",
     "output_type": "stream",
     "text": [
      "C:\\Users\\Raven\\AppData\\Local\\Temp\\ipykernel_30532\\2034897919.py:2: FutureWarning: You are using `torch.load` with `weights_only=False` (the current default value), which uses the default pickle module implicitly. It is possible to construct malicious pickle data which will execute arbitrary code during unpickling (See https://github.com/pytorch/pytorch/blob/main/SECURITY.md#untrusted-models for more details). In a future release, the default value for `weights_only` will be flipped to `True`. This limits the functions that could be executed during unpickling. Arbitrary objects will no longer be allowed to be loaded via this mode unless they are explicitly allowlisted by the user via `torch.serialization.add_safe_globals`. We recommend you start setting `weights_only=True` for any use case where you don't have full control of the loaded file. Please open an issue on GitHub for any issues related to this experimental feature.\n",
      "  model.load_state_dict(torch.load(f'best_model_acc_{model_paradigm}.pth'))\n"
     ]
    },
    {
     "data": {
      "text/plain": [
       "<All keys matched successfully>"
      ]
     },
     "execution_count": 13,
     "metadata": {},
     "output_type": "execute_result"
    }
   ],
   "source": [
    "# Load the best model\n",
    "model.load_state_dict(torch.load(f'best_model_acc_{model_paradigm}.pth'))"
   ]
  },
  {
   "cell_type": "code",
   "execution_count": 14,
   "metadata": {},
   "outputs": [
    {
     "data": {
      "image/png": "[encoded data removed]",
      "text/plain": [
       "<Figure size 800x500 with 2 Axes>"
      ]
     },
     "metadata": {},
     "output_type": "display_data"
    }
   ],
   "source": [
    "plot_model_history(history)"
   ]
  },
  {
   "cell_type": "code",
   "execution_count": 15,
   "metadata": {},
   "outputs": [],
   "source": [
    "test_dataset = datasets.ImageFolder(root = \"./test_data\")\n",
    "transformed_test = TransformedDataset(test_dataset, val_transform)\n",
    "test_loader = DataLoader(transformed_test, batch_size=32, shuffle=False)"
   ]
  },
  {
   "cell_type": "code",
   "execution_count": 16,
   "metadata": {},
   "outputs": [
    {
     "name": "stderr",
     "output_type": "stream",
     "text": [
      "Validating: 100%|██████████| 32/32 [00:17<00:00,  1.78it/s]"
     ]
    },
    {
     "name": "stdout",
     "output_type": "stream",
     "text": [
      "Test Loss: 1.0029 - Test Accuracy: 83.9725% - Top 1 Accuracy: 0.839724680432645 - Top 5 Accuracy: 0.9882005899705014\n"
     ]
    },
    {
     "name": "stderr",
     "output_type": "stream",
     "text": [
      "\n"
     ]
    }
   ],
   "source": [
    "test_loss, test_acc, top_1, top_5 = evaluate(model, loss_fn, test_loader)\n",
    "print(f'Test Loss: {test_loss:.4f} - Test Accuracy: {test_acc*100:.4f}% - Top 1 Accuracy: {top_1} - Top 5 Accuracy: {top_5}')"
   ]
  },
  {
   "cell_type": "code",
   "execution_count": 17,
   "metadata": {},
   "outputs": [],
   "source": [
    "optim_dict = {\"Adam\":optim.Adam, \"Adadelta\":optim.Adadelta, \"Adagrad\":optim.Adagrad,\n",
    "              \"Adamax\":optim.Adamax, \"AdamW\": optim.AdamW, \"ASGD\":optim.ASGD,\n",
    "              \"NAdam\":optim.NAdam, \"RMSprop\":optim.RMSprop, \"RAdam\":optim.RAdam,\n",
    "              \"Rprop\": optim.Rprop, \"SGD\":optim.SGD}\n",
    "\n",
    "\n",
    "# Unfreeze the model parameters\n",
    "for param in model.parameters():\n",
    "    param.requires_grad = True\n",
    "\n",
    "# Loss and optimiser\n",
    "# NOTE: Please note that different learning_rates were used for different models at different stages of experimentation.\n",
    "# learning_rate = 0.0001\n",
    "learning_rate = 0.000005\n",
    "loss_fn = nn.CrossEntropyLoss()\n",
    "optimiser = optim_dict[\"Adam\"](model.parameters(), lr=learning_rate)\n",
    "num_epochs = 300"
   ]
  },
  {
   "cell_type": "code",
   "execution_count": 18,
   "metadata": {},
   "outputs": [],
   "source": [
    "history = {\n",
    "    'train_loss': [],\n",
    "    'val_loss': [],\n",
    "    'train_acc': [],\n",
    "    'val_acc': []\n",
    "}"
   ]
  },
  {
   "cell_type": "code",
   "execution_count": 19,
   "metadata": {},
   "outputs": [
    {
     "name": "stderr",
     "output_type": "stream",
     "text": [
      "C:\\Users\\Raven\\AppData\\Local\\Temp\\ipykernel_30532\\2034897919.py:2: FutureWarning: You are using `torch.load` with `weights_only=False` (the current default value), which uses the default pickle module implicitly. It is possible to construct malicious pickle data which will execute arbitrary code during unpickling (See https://github.com/pytorch/pytorch/blob/main/SECURITY.md#untrusted-models for more details). In a future release, the default value for `weights_only` will be flipped to `True`. This limits the functions that could be executed during unpickling. Arbitrary objects will no longer be allowed to be loaded via this mode unless they are explicitly allowlisted by the user via `torch.serialization.add_safe_globals`. We recommend you start setting `weights_only=True` for any use case where you don't have full control of the loaded file. Please open an issue on GitHub for any issues related to this experimental feature.\n",
      "  model.load_state_dict(torch.load(f'best_model_acc_{model_paradigm}.pth'))\n"
     ]
    },
    {
     "data": {
      "text/plain": [
       "<All keys matched successfully>"
      ]
     },
     "execution_count": 19,
     "metadata": {},
     "output_type": "execute_result"
    }
   ],
   "source": [
    "# Load the best model\n",
    "model.load_state_dict(torch.load(f'best_model_acc_{model_paradigm}.pth'))"
   ]
  },
  {
   "cell_type": "code",
   "execution_count": 20,
   "metadata": {},
   "outputs": [
    {
     "name": "stderr",
     "output_type": "stream",
     "text": [
      "Epoch 1: 100%|██████████| 288/288 [01:22<00:00,  3.47it/s]\n",
      "Validating: 100%|██████████| 72/72 [00:05<00:00, 12.65it/s]\n"
     ]
    },
    {
     "name": "stdout",
     "output_type": "stream",
     "text": [
      "Loss: 0.0434 - Accuracy: 98.2380% - Val Loss: 0.4505 - Val Accuracy: 91.9130% - Top 1 Accuracy: 0.9191304347826087 - Top 5 Accuracy: 0.9965217391304347\n"
     ]
    },
    {
     "name": "stderr",
     "output_type": "stream",
     "text": [
      "Epoch 2: 100%|██████████| 288/288 [01:22<00:00,  3.50it/s]\n",
      "Validating: 100%|██████████| 72/72 [00:05<00:00, 12.77it/s]\n"
     ]
    },
    {
     "name": "stdout",
     "output_type": "stream",
     "text": [
      "Loss: 0.0338 - Accuracy: 98.6730% - Val Loss: 0.4599 - Val Accuracy: 91.3913% - Top 1 Accuracy: 0.9139130434782609 - Top 5 Accuracy: 0.9973913043478261\n"
     ]
    },
    {
     "name": "stderr",
     "output_type": "stream",
     "text": [
      "Epoch 3: 100%|██████████| 288/288 [01:25<00:00,  3.35it/s]\n",
      "Validating: 100%|██████████| 72/72 [00:05<00:00, 14.33it/s]\n"
     ]
    },
    {
     "name": "stdout",
     "output_type": "stream",
     "text": [
      "Loss: 0.0275 - Accuracy: 99.0429% - Val Loss: 0.4656 - Val Accuracy: 91.5652% - Top 1 Accuracy: 0.9156521739130434 - Top 5 Accuracy: 0.9982608695652174\n"
     ]
    },
    {
     "name": "stderr",
     "output_type": "stream",
     "text": [
      "Epoch 4: 100%|██████████| 288/288 [01:20<00:00,  3.56it/s]\n",
      "Validating: 100%|██████████| 72/72 [00:05<00:00, 12.32it/s]\n"
     ]
    },
    {
     "name": "stdout",
     "output_type": "stream",
     "text": [
      "Loss: 0.0266 - Accuracy: 98.9993% - Val Loss: 0.4616 - Val Accuracy: 91.3043% - Top 1 Accuracy: 0.9130434782608695 - Top 5 Accuracy: 0.9982608695652174\n"
     ]
    },
    {
     "name": "stderr",
     "output_type": "stream",
     "text": [
      "Epoch 5: 100%|██████████| 288/288 [01:19<00:00,  3.62it/s]\n",
      "Validating: 100%|██████████| 72/72 [00:05<00:00, 13.16it/s]\n"
     ]
    },
    {
     "name": "stdout",
     "output_type": "stream",
     "text": [
      "Loss: 0.0290 - Accuracy: 98.8253% - Val Loss: 0.4850 - Val Accuracy: 91.3043% - Top 1 Accuracy: 0.9130434782608695 - Top 5 Accuracy: 0.9973913043478261\n"
     ]
    },
    {
     "name": "stderr",
     "output_type": "stream",
     "text": [
      "Epoch 6: 100%|██████████| 288/288 [01:17<00:00,  3.71it/s]\n",
      "Validating: 100%|██████████| 72/72 [00:05<00:00, 13.24it/s]\n"
     ]
    },
    {
     "name": "stdout",
     "output_type": "stream",
     "text": [
      "Loss: 0.0202 - Accuracy: 99.2169% - Val Loss: 0.4784 - Val Accuracy: 91.4783% - Top 1 Accuracy: 0.9147826086956522 - Top 5 Accuracy: 0.9991304347826087\n"
     ]
    },
    {
     "name": "stderr",
     "output_type": "stream",
     "text": [
      "Epoch 7: 100%|██████████| 288/288 [01:17<00:00,  3.70it/s]\n",
      "Validating: 100%|██████████| 72/72 [00:05<00:00, 12.98it/s]\n"
     ]
    },
    {
     "name": "stdout",
     "output_type": "stream",
     "text": [
      "Loss: 0.0164 - Accuracy: 99.3909% - Val Loss: 0.4711 - Val Accuracy: 91.7391% - Top 1 Accuracy: 0.9173913043478261 - Top 5 Accuracy: 0.9991304347826087\n"
     ]
    },
    {
     "name": "stderr",
     "output_type": "stream",
     "text": [
      "Epoch 8: 100%|██████████| 288/288 [01:18<00:00,  3.65it/s]\n",
      "Validating: 100%|██████████| 72/72 [00:05<00:00, 13.01it/s]\n"
     ]
    },
    {
     "name": "stdout",
     "output_type": "stream",
     "text": [
      "Loss: 0.0222 - Accuracy: 98.9993% - Val Loss: 0.4811 - Val Accuracy: 91.8261% - Top 1 Accuracy: 0.9182608695652174 - Top 5 Accuracy: 0.9991304347826087\n"
     ]
    },
    {
     "name": "stderr",
     "output_type": "stream",
     "text": [
      "Epoch 9: 100%|██████████| 288/288 [01:24<00:00,  3.42it/s]\n",
      "Validating: 100%|██████████| 72/72 [00:05<00:00, 12.51it/s]\n"
     ]
    },
    {
     "name": "stdout",
     "output_type": "stream",
     "text": [
      "Loss: 0.0182 - Accuracy: 99.1951% - Val Loss: 0.4831 - Val Accuracy: 91.5652% - Top 1 Accuracy: 0.9156521739130434 - Top 5 Accuracy: 0.9982608695652174\n"
     ]
    },
    {
     "name": "stderr",
     "output_type": "stream",
     "text": [
      "Epoch 10: 100%|██████████| 288/288 [01:24<00:00,  3.40it/s]\n",
      "Validating: 100%|██████████| 72/72 [00:05<00:00, 13.11it/s]\n"
     ]
    },
    {
     "name": "stdout",
     "output_type": "stream",
     "text": [
      "Loss: 0.0182 - Accuracy: 99.0646% - Val Loss: 0.4974 - Val Accuracy: 91.4783% - Top 1 Accuracy: 0.9147826086956522 - Top 5 Accuracy: 0.9973913043478261\n"
     ]
    },
    {
     "name": "stderr",
     "output_type": "stream",
     "text": [
      "Epoch 11: 100%|██████████| 288/288 [01:24<00:00,  3.39it/s]\n",
      "Validating: 100%|██████████| 72/72 [00:05<00:00, 13.64it/s]\n"
     ]
    },
    {
     "name": "stdout",
     "output_type": "stream",
     "text": [
      "Loss: 0.0176 - Accuracy: 99.1299% - Val Loss: 0.4928 - Val Accuracy: 91.6522% - Top 1 Accuracy: 0.9165217391304348 - Top 5 Accuracy: 0.9973913043478261\n"
     ]
    },
    {
     "name": "stderr",
     "output_type": "stream",
     "text": [
      "Epoch 12: 100%|██████████| 288/288 [01:14<00:00,  3.86it/s]\n",
      "Validating: 100%|██████████| 72/72 [00:05<00:00, 13.99it/s]\n"
     ]
    },
    {
     "name": "stdout",
     "output_type": "stream",
     "text": [
      "Loss: 0.0152 - Accuracy: 99.3474% - Val Loss: 0.4991 - Val Accuracy: 91.4783% - Top 1 Accuracy: 0.9147826086956522 - Top 5 Accuracy: 0.9982608695652174\n"
     ]
    },
    {
     "name": "stderr",
     "output_type": "stream",
     "text": [
      "Epoch 13: 100%|██████████| 288/288 [01:17<00:00,  3.71it/s]\n",
      "Validating: 100%|██████████| 72/72 [00:05<00:00, 12.26it/s]\n"
     ]
    },
    {
     "name": "stdout",
     "output_type": "stream",
     "text": [
      "Loss: 0.0140 - Accuracy: 99.2821% - Val Loss: 0.5339 - Val Accuracy: 91.4783% - Top 1 Accuracy: 0.9147826086956522 - Top 5 Accuracy: 0.9973913043478261\n"
     ]
    },
    {
     "name": "stderr",
     "output_type": "stream",
     "text": [
      "Epoch 14: 100%|██████████| 288/288 [01:31<00:00,  3.14it/s]\n",
      "Validating: 100%|██████████| 72/72 [00:06<00:00, 11.16it/s]\n"
     ]
    },
    {
     "name": "stdout",
     "output_type": "stream",
     "text": [
      "Loss: 0.0171 - Accuracy: 99.1951% - Val Loss: 0.5263 - Val Accuracy: 91.2174% - Top 1 Accuracy: 0.9121739130434783 - Top 5 Accuracy: 0.9965217391304347\n"
     ]
    },
    {
     "name": "stderr",
     "output_type": "stream",
     "text": [
      "Epoch 15: 100%|██████████| 288/288 [01:26<00:00,  3.35it/s]\n",
      "Validating: 100%|██████████| 72/72 [00:05<00:00, 13.09it/s]\n"
     ]
    },
    {
     "name": "stdout",
     "output_type": "stream",
     "text": [
      "Loss: 0.0148 - Accuracy: 99.2821% - Val Loss: 0.5361 - Val Accuracy: 91.0435% - Top 1 Accuracy: 0.9104347826086957 - Top 5 Accuracy: 0.9973913043478261\n"
     ]
    },
    {
     "name": "stderr",
     "output_type": "stream",
     "text": [
      "Epoch 16: 100%|██████████| 288/288 [01:24<00:00,  3.39it/s]\n",
      "Validating: 100%|██████████| 72/72 [00:05<00:00, 13.20it/s]\n"
     ]
    },
    {
     "name": "stdout",
     "output_type": "stream",
     "text": [
      "Loss: 0.0149 - Accuracy: 99.3256% - Val Loss: 0.5357 - Val Accuracy: 91.6522% - Top 1 Accuracy: 0.9165217391304348 - Top 5 Accuracy: 0.9982608695652174\n"
     ]
    },
    {
     "name": "stderr",
     "output_type": "stream",
     "text": [
      "Epoch 17: 100%|██████████| 288/288 [01:26<00:00,  3.33it/s]\n",
      "Validating: 100%|██████████| 72/72 [00:05<00:00, 13.12it/s]\n"
     ]
    },
    {
     "name": "stdout",
     "output_type": "stream",
     "text": [
      "Loss: 0.0163 - Accuracy: 99.2169% - Val Loss: 0.5509 - Val Accuracy: 91.3043% - Top 1 Accuracy: 0.9130434782608695 - Top 5 Accuracy: 0.9965217391304347\n"
     ]
    },
    {
     "name": "stderr",
     "output_type": "stream",
     "text": [
      "Epoch 18: 100%|██████████| 288/288 [01:23<00:00,  3.46it/s]\n",
      "Validating: 100%|██████████| 72/72 [00:05<00:00, 12.93it/s]\n"
     ]
    },
    {
     "name": "stdout",
     "output_type": "stream",
     "text": [
      "Loss: 0.0160 - Accuracy: 99.2604% - Val Loss: 0.4968 - Val Accuracy: 91.3043% - Top 1 Accuracy: 0.9130434782608695 - Top 5 Accuracy: 0.9973913043478261\n"
     ]
    },
    {
     "name": "stderr",
     "output_type": "stream",
     "text": [
      "Epoch 19: 100%|██████████| 288/288 [01:23<00:00,  3.44it/s]\n",
      "Validating: 100%|██████████| 72/72 [00:05<00:00, 12.52it/s]\n"
     ]
    },
    {
     "name": "stdout",
     "output_type": "stream",
     "text": [
      "Loss: 0.0154 - Accuracy: 99.3256% - Val Loss: 0.4926 - Val Accuracy: 91.3043% - Top 1 Accuracy: 0.9130434782608695 - Top 5 Accuracy: 0.9982608695652174\n"
     ]
    },
    {
     "name": "stderr",
     "output_type": "stream",
     "text": [
      "Epoch 20: 100%|██████████| 288/288 [01:15<00:00,  3.79it/s]\n",
      "Validating: 100%|██████████| 72/72 [00:05<00:00, 13.96it/s]\n"
     ]
    },
    {
     "name": "stdout",
     "output_type": "stream",
     "text": [
      "Loss: 0.0164 - Accuracy: 99.3039% - Val Loss: 0.5124 - Val Accuracy: 91.7391% - Top 1 Accuracy: 0.9173913043478261 - Top 5 Accuracy: 0.9973913043478261\n"
     ]
    },
    {
     "name": "stderr",
     "output_type": "stream",
     "text": [
      "Epoch 21: 100%|██████████| 288/288 [01:14<00:00,  3.86it/s]\n",
      "Validating: 100%|██████████| 72/72 [00:05<00:00, 14.12it/s]"
     ]
    },
    {
     "name": "stdout",
     "output_type": "stream",
     "text": [
      "Loss: 0.0138 - Accuracy: 99.3256% - Val Loss: 0.5153 - Val Accuracy: 91.6522% - Top 1 Accuracy: 0.9165217391304348 - Top 5 Accuracy: 0.9965217391304347\n",
      "Early stopping: patience limit reached after epoch 21\n"
     ]
    },
    {
     "name": "stderr",
     "output_type": "stream",
     "text": [
      "\n"
     ]
    }
   ],
   "source": [
    "best_val_loss = float('inf')\n",
    "best_val_acc = -1\n",
    "\n",
    "# Early stopping - based on validation loss\n",
    "patience_counter = 0\n",
    "patience = 20\n",
    "\n",
    "for epoch in range(num_epochs):\n",
    "    model.train()\n",
    "\n",
    "    progress_bar = tqdm(train_loader, desc=f'Epoch {epoch + 1}')\n",
    "\n",
    "    running_loss = 0.0\n",
    "    running_correct = 0\n",
    "    total = 0\n",
    "\n",
    "    for X, y in progress_bar:\n",
    "        X, y = X.to(device), y.to(device)\n",
    "\n",
    "        outputs = model(X)\n",
    "\n",
    "        loss = loss_fn(outputs, y)\n",
    "\n",
    "        loss.backward()\n",
    "        optimiser.step()\n",
    "        optimiser.zero_grad()\n",
    "\n",
    "        running_loss += loss.detach() * X.size(0)\n",
    "        running_correct += (torch.argmax(outputs, dim = 1) == y.type(torch.long)).sum().detach()\n",
    "        total += X.size(0)\n",
    "    \n",
    "    running_loss = running_loss.item()\n",
    "    running_correct = running_correct.item()\n",
    "\n",
    "    # Evaluate the model after training is done instead of using running averages\n",
    "    # train_loss, train_acc = evaluate_all(model, loss_fn, train_full[0], train_full[1])\n",
    "    train_loss, train_acc = running_loss / total, running_correct / total\n",
    "    # val_loss, val_acc = evaluate_all(model, loss_fn, val_full[0], val_full[1])\n",
    "    val_loss, val_acc, top_1, top_5 = evaluate(model, loss_fn, val_loader)\n",
    "\n",
    "    history['train_loss'].append(train_loss)\n",
    "    history['val_loss'].append(val_loss)\n",
    "    history['train_acc'].append(train_acc)\n",
    "    history['val_acc'].append(val_acc)\n",
    "\n",
    "    if val_loss < best_val_loss:\n",
    "        best_val_loss = val_loss\n",
    "        torch.save(model.state_dict(), f'best_model_warmed_{model_paradigm}.pth')\n",
    "\n",
    "    # Patience is counted based on validation accuracy\n",
    "    if val_acc > best_val_acc:\n",
    "        best_val_acc = val_acc\n",
    "        torch.save(model.state_dict(), f'best_model_warmed_acc_{model_paradigm}.pth')\n",
    "        patience_counter = 0\n",
    "    else:\n",
    "        patience_counter += 1\n",
    "\n",
    "    # torch.save(model.state_dict(), f'model_{model_paradigm}_epoch_{epoch+1}.pth')\n",
    "    \n",
    "    tqdm.write(f'Loss: {train_loss:.4f} - Accuracy: {train_acc*100:.4f}% - Val Loss: {val_loss:.4f} - Val Accuracy: {val_acc*100:.4f}% - Top 1 Accuracy: {top_1} - Top 5 Accuracy: {top_5}')\n",
    "\n",
    "    if patience_counter == patience:\n",
    "        print(f'Early stopping: patience limit reached after epoch {epoch + 1}')\n",
    "        break"
   ]
  },
  {
   "cell_type": "code",
   "execution_count": 21,
   "metadata": {},
   "outputs": [
    {
     "data": {
      "image/png": "[encoded data removed]",
      "text/plain": [
       "<Figure size 800x500 with 2 Axes>"
      ]
     },
     "metadata": {},
     "output_type": "display_data"
    }
   ],
   "source": [
    "plot_model_history(history)"
   ]
  },
  {
   "cell_type": "code",
   "execution_count": 26,
   "metadata": {},
   "outputs": [
    {
     "name": "stderr",
     "output_type": "stream",
     "text": [
      "C:\\Users\\Raven\\AppData\\Local\\Temp\\ipykernel_30532\\1095013549.py:3: FutureWarning: You are using `torch.load` with `weights_only=False` (the current default value), which uses the default pickle module implicitly. It is possible to construct malicious pickle data which will execute arbitrary code during unpickling (See https://github.com/pytorch/pytorch/blob/main/SECURITY.md#untrusted-models for more details). In a future release, the default value for `weights_only` will be flipped to `True`. This limits the functions that could be executed during unpickling. Arbitrary objects will no longer be allowed to be loaded via this mode unless they are explicitly allowlisted by the user via `torch.serialization.add_safe_globals`. We recommend you start setting `weights_only=True` for any use case where you don't have full control of the loaded file. Please open an issue on GitHub for any issues related to this experimental feature.\n",
      "  model.load_state_dict(torch.load(f'best_model_warmed_acc_{model_paradigm}.pth'))\n"
     ]
    },
    {
     "data": {
      "text/plain": [
       "<All keys matched successfully>"
      ]
     },
     "execution_count": 26,
     "metadata": {},
     "output_type": "execute_result"
    }
   ],
   "source": [
    "# Load the best model\n",
    "# model.load_state_dict(torch.load(f'best_model_warmed_{model_paradigm}.pth'))\n",
    "model.load_state_dict(torch.load(f'best_model_warmed_acc_{model_paradigm}.pth'))"
   ]
  },
  {
   "cell_type": "code",
   "execution_count": 27,
   "metadata": {},
   "outputs": [],
   "source": [
    "test_dataset = datasets.ImageFolder(root = \"./test_data\")\n",
    "transformed_test = TransformedDataset(test_dataset, val_transform)\n",
    "test_loader = DataLoader(transformed_test, batch_size=32, shuffle=False)"
   ]
  },
  {
   "cell_type": "code",
   "execution_count": 28,
   "metadata": {},
   "outputs": [
    {
     "name": "stderr",
     "output_type": "stream",
     "text": [
      "Validating: 100%|██████████| 32/32 [00:19<00:00,  1.62it/s]"
     ]
    },
    {
     "name": "stdout",
     "output_type": "stream",
     "text": [
      "Test Loss: 0.9510 - Test Accuracy: 84.8574% - Top 1 Accuracy: 0.8485742379547689 - Top 5 Accuracy: 0.9911504424778761\n"
     ]
    },
    {
     "name": "stderr",
     "output_type": "stream",
     "text": [
      "\n"
     ]
    }
   ],
   "source": [
    "test_loss, test_acc, top_1, top_5 = evaluate(model, loss_fn, test_loader)\n",
    "print(f'Test Loss: {test_loss:.4f} - Test Accuracy: {test_acc*100:.4f}% - Top 1 Accuracy: {top_1} - Top 5 Accuracy: {top_5}')"
   ]
  },
  {
   "cell_type": "code",
   "execution_count": 29,
   "metadata": {},
   "outputs": [
    {
     "name": "stderr",
     "output_type": "stream",
     "text": [
      "Validating: 100%|██████████| 32/32 [00:15<00:00,  2.07it/s]"
     ]
    },
    {
     "name": "stdout",
     "output_type": "stream",
     "text": [
      "Test Loss: 0.9510 - Test Accuracy: 84.8574% - Top 1 Accuracy: 0.8485742379547689 - Top 5 Accuracy: 0.9911504424778761\n"
     ]
    },
    {
     "name": "stderr",
     "output_type": "stream",
     "text": [
      "\n"
     ]
    }
   ],
   "source": [
    "test_loss, test_acc, top_1, top_5 = evaluate(model, loss_fn, test_loader)\n",
    "print(f'Test Loss: {test_loss:.4f} - Test Accuracy: {test_acc*100:.4f}% - Top 1 Accuracy: {top_1} - Top 5 Accuracy: {top_5}')"
   ]
  },
  {
   "cell_type": "code",
   "execution_count": null,
   "metadata": {},
   "outputs": [],
   "source": []
  }
 ],
 "metadata": {
  "kernelspec": {
   "display_name": "base",
   "language": "python",
   "name": "python3"
  },
  "language_info": {
   "codemirror_mode": {
    "name": "ipython",
    "version": 3
   },
   "file_extension": ".py",
   "mimetype": "text/x-python",
   "name": "python",
   "nbconvert_exporter": "python",
   "pygments_lexer": "ipython3",
   "version": "3.12.3"
  }
 },
 "nbformat": 4,
 "nbformat_minor": 2
}
